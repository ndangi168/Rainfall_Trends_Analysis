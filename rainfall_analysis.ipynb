{
 "cells": [
  {
   "cell_type": "markdown",
   "id": "6370afc0",
   "metadata": {},
   "source": [
    "# Rainfall Trend Analysis in India\n",
    "\n",
    "This notebook explores historical rainfall patterns in India from 1901 to 2015, identifies anomalies, and forecasts future rainfall using time series models like Prophet."
   ]
  },
  {
   "cell_type": "markdown",
   "id": "32064bee",
   "metadata": {},
   "source": [
    "### Importing Libraries"
   ]
  },
  {
   "cell_type": "code",
   "execution_count": null,
   "id": "4f71ca33",
   "metadata": {},
   "outputs": [],
   "source": [
    "import pandas as pd\n",
    "import numpy as np\n",
    "import matplotlib.pyplot as plt\n",
    "import seaborn as sns\n",
    "import plotly.graph_objects as go\n",
    "import plotly.express as px\n",
    "from sklearn.ensemble import IsolationForest\n",
    "from prophet import Prophet\n"
   ]
  },
  {
   "cell_type": "markdown",
   "id": "79e36b45",
   "metadata": {},
   "source": [
    "### Understanding Data"
   ]
  },
  {
   "cell_type": "code",
   "execution_count": 39,
   "id": "d29a09d4",
   "metadata": {},
   "outputs": [],
   "source": [
    "df = pd.read_csv(\"rainfall_area-wt_India_1901-2015.csv\")"
   ]
  },
  {
   "cell_type": "code",
   "execution_count": 40,
   "id": "adfbfed3",
   "metadata": {},
   "outputs": [
    {
     "data": {
      "text/html": [
       "<div>\n",
       "<style scoped>\n",
       "    .dataframe tbody tr th:only-of-type {\n",
       "        vertical-align: middle;\n",
       "    }\n",
       "\n",
       "    .dataframe tbody tr th {\n",
       "        vertical-align: top;\n",
       "    }\n",
       "\n",
       "    .dataframe thead th {\n",
       "        text-align: right;\n",
       "    }\n",
       "</style>\n",
       "<table border=\"1\" class=\"dataframe\">\n",
       "  <thead>\n",
       "    <tr style=\"text-align: right;\">\n",
       "      <th></th>\n",
       "      <th>REGION</th>\n",
       "      <th>YEAR</th>\n",
       "      <th>JAN</th>\n",
       "      <th>FEB</th>\n",
       "      <th>MAR</th>\n",
       "      <th>APR</th>\n",
       "      <th>MAY</th>\n",
       "      <th>JUN</th>\n",
       "      <th>JUL</th>\n",
       "      <th>AUG</th>\n",
       "      <th>SEP</th>\n",
       "      <th>OCT</th>\n",
       "      <th>NOV</th>\n",
       "      <th>DEC</th>\n",
       "      <th>ANNUAL</th>\n",
       "      <th>Jan-Feb</th>\n",
       "      <th>Mar-May</th>\n",
       "      <th>Jun-Sep</th>\n",
       "      <th>Oct-Dec</th>\n",
       "    </tr>\n",
       "  </thead>\n",
       "  <tbody>\n",
       "    <tr>\n",
       "      <th>0</th>\n",
       "      <td>INDIA</td>\n",
       "      <td>1901</td>\n",
       "      <td>34.7</td>\n",
       "      <td>37.7</td>\n",
       "      <td>18.0</td>\n",
       "      <td>39.3</td>\n",
       "      <td>50.8</td>\n",
       "      <td>113.4</td>\n",
       "      <td>242.2</td>\n",
       "      <td>272.9</td>\n",
       "      <td>124.4</td>\n",
       "      <td>52.7</td>\n",
       "      <td>38.0</td>\n",
       "      <td>8.3</td>\n",
       "      <td>1032.3</td>\n",
       "      <td>72.4</td>\n",
       "      <td>108.1</td>\n",
       "      <td>752.8</td>\n",
       "      <td>99.0</td>\n",
       "    </tr>\n",
       "    <tr>\n",
       "      <th>1</th>\n",
       "      <td>INDIA</td>\n",
       "      <td>1902</td>\n",
       "      <td>7.4</td>\n",
       "      <td>4.3</td>\n",
       "      <td>19.0</td>\n",
       "      <td>43.5</td>\n",
       "      <td>48.3</td>\n",
       "      <td>108.8</td>\n",
       "      <td>284.0</td>\n",
       "      <td>199.7</td>\n",
       "      <td>201.5</td>\n",
       "      <td>61.5</td>\n",
       "      <td>27.9</td>\n",
       "      <td>24.4</td>\n",
       "      <td>1030.2</td>\n",
       "      <td>11.7</td>\n",
       "      <td>110.8</td>\n",
       "      <td>794.0</td>\n",
       "      <td>113.8</td>\n",
       "    </tr>\n",
       "    <tr>\n",
       "      <th>2</th>\n",
       "      <td>INDIA</td>\n",
       "      <td>1903</td>\n",
       "      <td>17.0</td>\n",
       "      <td>8.3</td>\n",
       "      <td>31.3</td>\n",
       "      <td>17.1</td>\n",
       "      <td>59.5</td>\n",
       "      <td>118.3</td>\n",
       "      <td>297.0</td>\n",
       "      <td>270.4</td>\n",
       "      <td>199.1</td>\n",
       "      <td>117.9</td>\n",
       "      <td>36.9</td>\n",
       "      <td>17.7</td>\n",
       "      <td>1190.5</td>\n",
       "      <td>25.3</td>\n",
       "      <td>107.9</td>\n",
       "      <td>884.8</td>\n",
       "      <td>172.5</td>\n",
       "    </tr>\n",
       "    <tr>\n",
       "      <th>3</th>\n",
       "      <td>INDIA</td>\n",
       "      <td>1904</td>\n",
       "      <td>14.4</td>\n",
       "      <td>9.6</td>\n",
       "      <td>31.8</td>\n",
       "      <td>33.1</td>\n",
       "      <td>72.4</td>\n",
       "      <td>164.8</td>\n",
       "      <td>261.0</td>\n",
       "      <td>206.4</td>\n",
       "      <td>129.6</td>\n",
       "      <td>69.0</td>\n",
       "      <td>11.2</td>\n",
       "      <td>16.3</td>\n",
       "      <td>1019.8</td>\n",
       "      <td>24.0</td>\n",
       "      <td>137.4</td>\n",
       "      <td>761.8</td>\n",
       "      <td>96.6</td>\n",
       "    </tr>\n",
       "    <tr>\n",
       "      <th>4</th>\n",
       "      <td>INDIA</td>\n",
       "      <td>1905</td>\n",
       "      <td>25.3</td>\n",
       "      <td>20.9</td>\n",
       "      <td>42.7</td>\n",
       "      <td>33.7</td>\n",
       "      <td>55.7</td>\n",
       "      <td>93.3</td>\n",
       "      <td>252.8</td>\n",
       "      <td>200.8</td>\n",
       "      <td>178.4</td>\n",
       "      <td>51.4</td>\n",
       "      <td>9.7</td>\n",
       "      <td>10.5</td>\n",
       "      <td>975.3</td>\n",
       "      <td>46.2</td>\n",
       "      <td>132.2</td>\n",
       "      <td>725.4</td>\n",
       "      <td>71.6</td>\n",
       "    </tr>\n",
       "  </tbody>\n",
       "</table>\n",
       "</div>"
      ],
      "text/plain": [
       "  REGION  YEAR   JAN   FEB   MAR   APR   MAY    JUN    JUL    AUG    SEP  \\\n",
       "0  INDIA  1901  34.7  37.7  18.0  39.3  50.8  113.4  242.2  272.9  124.4   \n",
       "1  INDIA  1902   7.4   4.3  19.0  43.5  48.3  108.8  284.0  199.7  201.5   \n",
       "2  INDIA  1903  17.0   8.3  31.3  17.1  59.5  118.3  297.0  270.4  199.1   \n",
       "3  INDIA  1904  14.4   9.6  31.8  33.1  72.4  164.8  261.0  206.4  129.6   \n",
       "4  INDIA  1905  25.3  20.9  42.7  33.7  55.7   93.3  252.8  200.8  178.4   \n",
       "\n",
       "     OCT   NOV   DEC  ANNUAL  Jan-Feb  Mar-May  Jun-Sep  Oct-Dec  \n",
       "0   52.7  38.0   8.3  1032.3     72.4    108.1    752.8     99.0  \n",
       "1   61.5  27.9  24.4  1030.2     11.7    110.8    794.0    113.8  \n",
       "2  117.9  36.9  17.7  1190.5     25.3    107.9    884.8    172.5  \n",
       "3   69.0  11.2  16.3  1019.8     24.0    137.4    761.8     96.6  \n",
       "4   51.4   9.7  10.5   975.3     46.2    132.2    725.4     71.6  "
      ]
     },
     "execution_count": 40,
     "metadata": {},
     "output_type": "execute_result"
    }
   ],
   "source": [
    "df.head()"
   ]
  },
  {
   "cell_type": "code",
   "execution_count": 41,
   "id": "c4c18bcc",
   "metadata": {},
   "outputs": [
    {
     "data": {
      "text/html": [
       "<div>\n",
       "<style scoped>\n",
       "    .dataframe tbody tr th:only-of-type {\n",
       "        vertical-align: middle;\n",
       "    }\n",
       "\n",
       "    .dataframe tbody tr th {\n",
       "        vertical-align: top;\n",
       "    }\n",
       "\n",
       "    .dataframe thead th {\n",
       "        text-align: right;\n",
       "    }\n",
       "</style>\n",
       "<table border=\"1\" class=\"dataframe\">\n",
       "  <thead>\n",
       "    <tr style=\"text-align: right;\">\n",
       "      <th></th>\n",
       "      <th>YEAR</th>\n",
       "      <th>JAN</th>\n",
       "      <th>FEB</th>\n",
       "      <th>MAR</th>\n",
       "      <th>APR</th>\n",
       "      <th>MAY</th>\n",
       "      <th>JUN</th>\n",
       "      <th>JUL</th>\n",
       "      <th>AUG</th>\n",
       "      <th>SEP</th>\n",
       "      <th>OCT</th>\n",
       "      <th>NOV</th>\n",
       "      <th>DEC</th>\n",
       "      <th>ANNUAL</th>\n",
       "      <th>Jan-Feb</th>\n",
       "      <th>Mar-May</th>\n",
       "      <th>Jun-Sep</th>\n",
       "      <th>Oct-Dec</th>\n",
       "    </tr>\n",
       "  </thead>\n",
       "  <tbody>\n",
       "    <tr>\n",
       "      <th>count</th>\n",
       "      <td>115.000000</td>\n",
       "      <td>115.000000</td>\n",
       "      <td>115.000000</td>\n",
       "      <td>115.000000</td>\n",
       "      <td>115.000000</td>\n",
       "      <td>115.000000</td>\n",
       "      <td>115.000000</td>\n",
       "      <td>115.000000</td>\n",
       "      <td>115.000000</td>\n",
       "      <td>115.000000</td>\n",
       "      <td>115.000000</td>\n",
       "      <td>115.000000</td>\n",
       "      <td>115.000000</td>\n",
       "      <td>115.000000</td>\n",
       "      <td>115.000000</td>\n",
       "      <td>115.000000</td>\n",
       "      <td>115.000000</td>\n",
       "      <td>115.000000</td>\n",
       "    </tr>\n",
       "    <tr>\n",
       "      <th>mean</th>\n",
       "      <td>1958.000000</td>\n",
       "      <td>19.759130</td>\n",
       "      <td>23.434783</td>\n",
       "      <td>28.254783</td>\n",
       "      <td>38.241739</td>\n",
       "      <td>62.193913</td>\n",
       "      <td>168.360000</td>\n",
       "      <td>291.022609</td>\n",
       "      <td>258.400870</td>\n",
       "      <td>172.473043</td>\n",
       "      <td>75.701739</td>\n",
       "      <td>29.205217</td>\n",
       "      <td>14.980000</td>\n",
       "      <td>1182.034783</td>\n",
       "      <td>43.189565</td>\n",
       "      <td>128.694783</td>\n",
       "      <td>890.260870</td>\n",
       "      <td>119.882609</td>\n",
       "    </tr>\n",
       "    <tr>\n",
       "      <th>std</th>\n",
       "      <td>33.341666</td>\n",
       "      <td>9.992628</td>\n",
       "      <td>11.512739</td>\n",
       "      <td>12.286408</td>\n",
       "      <td>10.353040</td>\n",
       "      <td>15.673378</td>\n",
       "      <td>35.569654</td>\n",
       "      <td>41.161390</td>\n",
       "      <td>34.975419</td>\n",
       "      <td>36.641234</td>\n",
       "      <td>28.268152</td>\n",
       "      <td>16.101056</td>\n",
       "      <td>8.788761</td>\n",
       "      <td>110.686214</td>\n",
       "      <td>14.476335</td>\n",
       "      <td>22.895134</td>\n",
       "      <td>89.179055</td>\n",
       "      <td>32.467126</td>\n",
       "    </tr>\n",
       "    <tr>\n",
       "      <th>min</th>\n",
       "      <td>1901.000000</td>\n",
       "      <td>2.700000</td>\n",
       "      <td>2.700000</td>\n",
       "      <td>7.200000</td>\n",
       "      <td>16.100000</td>\n",
       "      <td>32.100000</td>\n",
       "      <td>86.500000</td>\n",
       "      <td>138.900000</td>\n",
       "      <td>191.700000</td>\n",
       "      <td>96.900000</td>\n",
       "      <td>20.000000</td>\n",
       "      <td>3.600000</td>\n",
       "      <td>1.600000</td>\n",
       "      <td>920.800000</td>\n",
       "      <td>11.700000</td>\n",
       "      <td>84.500000</td>\n",
       "      <td>679.500000</td>\n",
       "      <td>52.700000</td>\n",
       "    </tr>\n",
       "    <tr>\n",
       "      <th>25%</th>\n",
       "      <td>1929.500000</td>\n",
       "      <td>13.000000</td>\n",
       "      <td>13.300000</td>\n",
       "      <td>19.750000</td>\n",
       "      <td>31.600000</td>\n",
       "      <td>51.600000</td>\n",
       "      <td>144.050000</td>\n",
       "      <td>267.350000</td>\n",
       "      <td>233.950000</td>\n",
       "      <td>144.850000</td>\n",
       "      <td>55.600000</td>\n",
       "      <td>17.300000</td>\n",
       "      <td>9.600000</td>\n",
       "      <td>1102.400000</td>\n",
       "      <td>33.800000</td>\n",
       "      <td>112.350000</td>\n",
       "      <td>823.550000</td>\n",
       "      <td>97.050000</td>\n",
       "    </tr>\n",
       "    <tr>\n",
       "      <th>50%</th>\n",
       "      <td>1958.000000</td>\n",
       "      <td>17.800000</td>\n",
       "      <td>22.500000</td>\n",
       "      <td>25.500000</td>\n",
       "      <td>37.400000</td>\n",
       "      <td>59.500000</td>\n",
       "      <td>165.600000</td>\n",
       "      <td>295.800000</td>\n",
       "      <td>259.300000</td>\n",
       "      <td>173.100000</td>\n",
       "      <td>69.200000</td>\n",
       "      <td>26.100000</td>\n",
       "      <td>14.100000</td>\n",
       "      <td>1190.500000</td>\n",
       "      <td>41.300000</td>\n",
       "      <td>125.100000</td>\n",
       "      <td>897.800000</td>\n",
       "      <td>116.200000</td>\n",
       "    </tr>\n",
       "    <tr>\n",
       "      <th>75%</th>\n",
       "      <td>1986.500000</td>\n",
       "      <td>24.850000</td>\n",
       "      <td>30.300000</td>\n",
       "      <td>34.400000</td>\n",
       "      <td>43.850000</td>\n",
       "      <td>71.200000</td>\n",
       "      <td>192.050000</td>\n",
       "      <td>318.650000</td>\n",
       "      <td>287.950000</td>\n",
       "      <td>198.300000</td>\n",
       "      <td>92.850000</td>\n",
       "      <td>39.650000</td>\n",
       "      <td>19.000000</td>\n",
       "      <td>1243.550000</td>\n",
       "      <td>51.400000</td>\n",
       "      <td>139.650000</td>\n",
       "      <td>959.650000</td>\n",
       "      <td>142.150000</td>\n",
       "    </tr>\n",
       "    <tr>\n",
       "      <th>max</th>\n",
       "      <td>2015.000000</td>\n",
       "      <td>58.500000</td>\n",
       "      <td>53.800000</td>\n",
       "      <td>63.300000</td>\n",
       "      <td>69.400000</td>\n",
       "      <td>114.500000</td>\n",
       "      <td>275.500000</td>\n",
       "      <td>383.400000</td>\n",
       "      <td>335.500000</td>\n",
       "      <td>281.000000</td>\n",
       "      <td>158.800000</td>\n",
       "      <td>74.200000</td>\n",
       "      <td>54.400000</td>\n",
       "      <td>1480.300000</td>\n",
       "      <td>86.300000</td>\n",
       "      <td>209.700000</td>\n",
       "      <td>1094.500000</td>\n",
       "      <td>207.500000</td>\n",
       "    </tr>\n",
       "  </tbody>\n",
       "</table>\n",
       "</div>"
      ],
      "text/plain": [
       "              YEAR         JAN         FEB         MAR         APR  \\\n",
       "count   115.000000  115.000000  115.000000  115.000000  115.000000   \n",
       "mean   1958.000000   19.759130   23.434783   28.254783   38.241739   \n",
       "std      33.341666    9.992628   11.512739   12.286408   10.353040   \n",
       "min    1901.000000    2.700000    2.700000    7.200000   16.100000   \n",
       "25%    1929.500000   13.000000   13.300000   19.750000   31.600000   \n",
       "50%    1958.000000   17.800000   22.500000   25.500000   37.400000   \n",
       "75%    1986.500000   24.850000   30.300000   34.400000   43.850000   \n",
       "max    2015.000000   58.500000   53.800000   63.300000   69.400000   \n",
       "\n",
       "              MAY         JUN         JUL         AUG         SEP         OCT  \\\n",
       "count  115.000000  115.000000  115.000000  115.000000  115.000000  115.000000   \n",
       "mean    62.193913  168.360000  291.022609  258.400870  172.473043   75.701739   \n",
       "std     15.673378   35.569654   41.161390   34.975419   36.641234   28.268152   \n",
       "min     32.100000   86.500000  138.900000  191.700000   96.900000   20.000000   \n",
       "25%     51.600000  144.050000  267.350000  233.950000  144.850000   55.600000   \n",
       "50%     59.500000  165.600000  295.800000  259.300000  173.100000   69.200000   \n",
       "75%     71.200000  192.050000  318.650000  287.950000  198.300000   92.850000   \n",
       "max    114.500000  275.500000  383.400000  335.500000  281.000000  158.800000   \n",
       "\n",
       "              NOV         DEC       ANNUAL     Jan-Feb     Mar-May  \\\n",
       "count  115.000000  115.000000   115.000000  115.000000  115.000000   \n",
       "mean    29.205217   14.980000  1182.034783   43.189565  128.694783   \n",
       "std     16.101056    8.788761   110.686214   14.476335   22.895134   \n",
       "min      3.600000    1.600000   920.800000   11.700000   84.500000   \n",
       "25%     17.300000    9.600000  1102.400000   33.800000  112.350000   \n",
       "50%     26.100000   14.100000  1190.500000   41.300000  125.100000   \n",
       "75%     39.650000   19.000000  1243.550000   51.400000  139.650000   \n",
       "max     74.200000   54.400000  1480.300000   86.300000  209.700000   \n",
       "\n",
       "           Jun-Sep     Oct-Dec  \n",
       "count   115.000000  115.000000  \n",
       "mean    890.260870  119.882609  \n",
       "std      89.179055   32.467126  \n",
       "min     679.500000   52.700000  \n",
       "25%     823.550000   97.050000  \n",
       "50%     897.800000  116.200000  \n",
       "75%     959.650000  142.150000  \n",
       "max    1094.500000  207.500000  "
      ]
     },
     "execution_count": 41,
     "metadata": {},
     "output_type": "execute_result"
    }
   ],
   "source": [
    "df.describe()"
   ]
  },
  {
   "cell_type": "code",
   "execution_count": 42,
   "id": "38804cd7",
   "metadata": {},
   "outputs": [
    {
     "data": {
      "text/plain": [
       "(115, 19)"
      ]
     },
     "execution_count": 42,
     "metadata": {},
     "output_type": "execute_result"
    }
   ],
   "source": [
    "df.shape"
   ]
  },
  {
   "cell_type": "code",
   "execution_count": 43,
   "id": "3739d598",
   "metadata": {},
   "outputs": [
    {
     "data": {
      "text/plain": [
       "REGION      object\n",
       "YEAR         int64\n",
       "JAN        float64\n",
       "FEB        float64\n",
       "MAR        float64\n",
       "APR        float64\n",
       "MAY        float64\n",
       "JUN        float64\n",
       "JUL        float64\n",
       "AUG        float64\n",
       "SEP        float64\n",
       "OCT        float64\n",
       "NOV        float64\n",
       "DEC        float64\n",
       "ANNUAL     float64\n",
       "Jan-Feb    float64\n",
       "Mar-May    float64\n",
       "Jun-Sep    float64\n",
       "Oct-Dec    float64\n",
       "dtype: object"
      ]
     },
     "execution_count": 43,
     "metadata": {},
     "output_type": "execute_result"
    }
   ],
   "source": [
    "df.dtypes"
   ]
  },
  {
   "cell_type": "code",
   "execution_count": 44,
   "id": "8ff1783f",
   "metadata": {},
   "outputs": [
    {
     "data": {
      "text/plain": [
       "REGION     0\n",
       "YEAR       0\n",
       "JAN        0\n",
       "FEB        0\n",
       "MAR        0\n",
       "APR        0\n",
       "MAY        0\n",
       "JUN        0\n",
       "JUL        0\n",
       "AUG        0\n",
       "SEP        0\n",
       "OCT        0\n",
       "NOV        0\n",
       "DEC        0\n",
       "ANNUAL     0\n",
       "Jan-Feb    0\n",
       "Mar-May    0\n",
       "Jun-Sep    0\n",
       "Oct-Dec    0\n",
       "dtype: int64"
      ]
     },
     "execution_count": 44,
     "metadata": {},
     "output_type": "execute_result"
    }
   ],
   "source": [
    "df.isnull().sum()"
   ]
  },
  {
   "cell_type": "markdown",
   "id": "2bb85643",
   "metadata": {},
   "source": [
    "### Visualise Annual and monthly trend using Plotly"
   ]
  },
  {
   "cell_type": "markdown",
   "id": "38f3a33c",
   "metadata": {},
   "source": [
    "#### Annual Rainfall Trend\n",
    "\n",
    "Using Plotly, we visualize annual rainfall over the years, alongside the mean line to observe general patterns and deviations."
   ]
  },
  {
   "cell_type": "code",
   "execution_count": 45,
   "id": "4b5724de",
   "metadata": {},
   "outputs": [
    {
     "data": {
      "application/vnd.plotly.v1+json": {
       "config": {
        "plotlyServerURL": "https://plot.ly"
       },
       "data": [
        {
         "line": {
          "color": "royalblue",
          "width": 1
         },
         "mode": "lines+markers",
         "name": "Annual Rainfall",
         "type": "scatter",
         "x": {
          "bdata": "bQduB28HcAdxB3IHcwd0B3UHdgd3B3gHeQd6B3sHfAd9B34HfweAB4EHggeDB4QHhQeGB4cHiAeJB4oHiweMB40HjgePB5AHkQeSB5MHlAeVB5YHlweYB5kHmgebB5wHnQeeB58HoAehB6IHowekB6UHpgenB6gHqQeqB6sHrAetB64HrwewB7EHsgezB7QHtQe2B7cHuAe5B7oHuwe8B70Hvge/B8AHwQfCB8MHxAfFB8YHxwfIB8kHygfLB8wHzQfOB88H0AfRB9IH0wfUB9UH1gfXB9gH2QfaB9sH3AfdB94H3wc=",
          "dtype": "i2"
         },
         "y": {
          "bdata": "MzMzMzMhkEDNzMzMzBiQQAAAAAAAmpJAZmZmZmbej0BmZmZmZnqOQGZmZmZm4JFAzczMzMw+kEBmZmZmZiKRQGZmZmZmGJJAMzMzMzPBkkAAAAAAAF6QQGZmZmZm2JBAmpmZmZmzkEAzMzMzM/mSQM3MzMzMxJFAZmZmZmbklEAzMzMzMyGXQM3MzMzMCJBAmpmZmZlzlECamZmZmV+QQM3MzMzMYJNAmpmZmZnvkkAzMzMzM2GSQDMzMzMz0ZNAmpmZmZnpkkAzMzMzM3uTQGZmZmZmupNAmpmZmZkJk0AAAAAAAOKSQJqZmZmZ5ZJAZmZmZmaKlECamZmZmQuTQAAAAAAAxpVAZmZmZmYuk0CamZmZmd2RQM3MzMzM9pRAZmZmZmYIk0DNzMzMzGqUQJqZmZmZl5FAZmZmZmb6kkCamZmZmeOQQM3MzMzMMpRAZmZmZmYIlEBmZmZmZpyUQDMzMzMzJ5NAZmZmZmbSlEBmZmZmZlKTQJqZmZmZ95RAmpmZmZnhk0AAAAAAAFKSQDMzMzMzlZBAzczMzMxQkUCamZmZmRuTQDMzMzMzcZJAMzMzMzNJlEDNzMzMzKiVQM3MzMzMaJJAAAAAAADMlEBmZmZmZpiVQAAAAAAA9JFAAAAAAADslUCamZmZmbGSQM3MzMzM6JJAZmZmZmZMk0AzMzMzM1ONQAAAAAAAoJBAMzMzMzPxkUDNzMzMzHiQQM3MzMzM7pFAAAAAAAB8k0AAAAAAAAiTQAAAAAAApI1AAAAAAAD4kkDNzMzMzE6QQM3MzMzMKJRAMzMzMzOTkUCamZmZmdmTQDMzMzMzXZNAMzMzMzP7j0AAAAAAAJaSQGZmZmZmTpJAMzMzMzP7kEAAAAAAAM6UQJqZmZmZD5JAAAAAAADQkUBmZmZmZpqRQJqZmZmZ25BAAAAAAAAclUCamZmZmYmRQGZmZmZm4pVAmpmZmZkfkkAzMzMzM4WRQJqZmZmZx5JAZmZmZmY+lEBmZmZmZm6TQDMzMzMzd5JAmpmZmZlNkkAAAAAAAG6TQAAAAAAAsJFAmpmZmZlpkEAzMzMzM+2QQGZmZmZmxoxAAAAAAABakkAzMzMzM72QQAAAAAAAQpNAmpmZmZm9kkBmZmZmZv6SQGZmZmZmsJFAZmZmZmb6jUAAAAAAAMKSQGZmZmZmWJFAAAAAAADGkEDNzMzMzACTQM3MzMzMJpBAzczMzMwUkUA=",
          "dtype": "f8"
         }
        },
        {
         "line": {
          "color": "red",
          "dash": "dash"
         },
         "mode": "lines",
         "name": "Mean Rainfall",
         "type": "scatter",
         "x": {
          "bdata": "bQduB28HcAdxB3IHcwd0B3UHdgd3B3gHeQd6B3sHfAd9B34HfweAB4EHggeDB4QHhQeGB4cHiAeJB4oHiweMB40HjgePB5AHkQeSB5MHlAeVB5YHlweYB5kHmgebB5wHnQeeB58HoAehB6IHowekB6UHpgenB6gHqQeqB6sHrAetB64HrwewB7EHsgezB7QHtQe2B7cHuAe5B7oHuwe8B70Hvge/B8AHwQfCB8MHxAfFB8YHxwfIB8kHygfLB8wHzQfOB88H0AfRB9IH0wfUB9UH1gfXB9gH2QfaB9sH3AfdB94H3wc=",
          "dtype": "i2"
         },
         "y": [
          1182.0347826086959,
          1182.0347826086959,
          1182.0347826086959,
          1182.0347826086959,
          1182.0347826086959,
          1182.0347826086959,
          1182.0347826086959,
          1182.0347826086959,
          1182.0347826086959,
          1182.0347826086959,
          1182.0347826086959,
          1182.0347826086959,
          1182.0347826086959,
          1182.0347826086959,
          1182.0347826086959,
          1182.0347826086959,
          1182.0347826086959,
          1182.0347826086959,
          1182.0347826086959,
          1182.0347826086959,
          1182.0347826086959,
          1182.0347826086959,
          1182.0347826086959,
          1182.0347826086959,
          1182.0347826086959,
          1182.0347826086959,
          1182.0347826086959,
          1182.0347826086959,
          1182.0347826086959,
          1182.0347826086959,
          1182.0347826086959,
          1182.0347826086959,
          1182.0347826086959,
          1182.0347826086959,
          1182.0347826086959,
          1182.0347826086959,
          1182.0347826086959,
          1182.0347826086959,
          1182.0347826086959,
          1182.0347826086959,
          1182.0347826086959,
          1182.0347826086959,
          1182.0347826086959,
          1182.0347826086959,
          1182.0347826086959,
          1182.0347826086959,
          1182.0347826086959,
          1182.0347826086959,
          1182.0347826086959,
          1182.0347826086959,
          1182.0347826086959,
          1182.0347826086959,
          1182.0347826086959,
          1182.0347826086959,
          1182.0347826086959,
          1182.0347826086959,
          1182.0347826086959,
          1182.0347826086959,
          1182.0347826086959,
          1182.0347826086959,
          1182.0347826086959,
          1182.0347826086959,
          1182.0347826086959,
          1182.0347826086959,
          1182.0347826086959,
          1182.0347826086959,
          1182.0347826086959,
          1182.0347826086959,
          1182.0347826086959,
          1182.0347826086959,
          1182.0347826086959,
          1182.0347826086959,
          1182.0347826086959,
          1182.0347826086959,
          1182.0347826086959,
          1182.0347826086959,
          1182.0347826086959,
          1182.0347826086959,
          1182.0347826086959,
          1182.0347826086959,
          1182.0347826086959,
          1182.0347826086959,
          1182.0347826086959,
          1182.0347826086959,
          1182.0347826086959,
          1182.0347826086959,
          1182.0347826086959,
          1182.0347826086959,
          1182.0347826086959,
          1182.0347826086959,
          1182.0347826086959,
          1182.0347826086959,
          1182.0347826086959,
          1182.0347826086959,
          1182.0347826086959,
          1182.0347826086959,
          1182.0347826086959,
          1182.0347826086959,
          1182.0347826086959,
          1182.0347826086959,
          1182.0347826086959,
          1182.0347826086959,
          1182.0347826086959,
          1182.0347826086959,
          1182.0347826086959,
          1182.0347826086959,
          1182.0347826086959,
          1182.0347826086959,
          1182.0347826086959,
          1182.0347826086959,
          1182.0347826086959,
          1182.0347826086959,
          1182.0347826086959,
          1182.0347826086959,
          1182.0347826086959
         ]
        }
       ],
       "layout": {
        "height": 500,
        "hovermode": "x unified",
        "template": {
         "data": {
          "bar": [
           {
            "error_x": {
             "color": "#2a3f5f"
            },
            "error_y": {
             "color": "#2a3f5f"
            },
            "marker": {
             "line": {
              "color": "white",
              "width": 0.5
             },
             "pattern": {
              "fillmode": "overlay",
              "size": 10,
              "solidity": 0.2
             }
            },
            "type": "bar"
           }
          ],
          "barpolar": [
           {
            "marker": {
             "line": {
              "color": "white",
              "width": 0.5
             },
             "pattern": {
              "fillmode": "overlay",
              "size": 10,
              "solidity": 0.2
             }
            },
            "type": "barpolar"
           }
          ],
          "carpet": [
           {
            "aaxis": {
             "endlinecolor": "#2a3f5f",
             "gridcolor": "#C8D4E3",
             "linecolor": "#C8D4E3",
             "minorgridcolor": "#C8D4E3",
             "startlinecolor": "#2a3f5f"
            },
            "baxis": {
             "endlinecolor": "#2a3f5f",
             "gridcolor": "#C8D4E3",
             "linecolor": "#C8D4E3",
             "minorgridcolor": "#C8D4E3",
             "startlinecolor": "#2a3f5f"
            },
            "type": "carpet"
           }
          ],
          "choropleth": [
           {
            "colorbar": {
             "outlinewidth": 0,
             "ticks": ""
            },
            "type": "choropleth"
           }
          ],
          "contour": [
           {
            "colorbar": {
             "outlinewidth": 0,
             "ticks": ""
            },
            "colorscale": [
             [
              0,
              "#0d0887"
             ],
             [
              0.1111111111111111,
              "#46039f"
             ],
             [
              0.2222222222222222,
              "#7201a8"
             ],
             [
              0.3333333333333333,
              "#9c179e"
             ],
             [
              0.4444444444444444,
              "#bd3786"
             ],
             [
              0.5555555555555556,
              "#d8576b"
             ],
             [
              0.6666666666666666,
              "#ed7953"
             ],
             [
              0.7777777777777778,
              "#fb9f3a"
             ],
             [
              0.8888888888888888,
              "#fdca26"
             ],
             [
              1,
              "#f0f921"
             ]
            ],
            "type": "contour"
           }
          ],
          "contourcarpet": [
           {
            "colorbar": {
             "outlinewidth": 0,
             "ticks": ""
            },
            "type": "contourcarpet"
           }
          ],
          "heatmap": [
           {
            "colorbar": {
             "outlinewidth": 0,
             "ticks": ""
            },
            "colorscale": [
             [
              0,
              "#0d0887"
             ],
             [
              0.1111111111111111,
              "#46039f"
             ],
             [
              0.2222222222222222,
              "#7201a8"
             ],
             [
              0.3333333333333333,
              "#9c179e"
             ],
             [
              0.4444444444444444,
              "#bd3786"
             ],
             [
              0.5555555555555556,
              "#d8576b"
             ],
             [
              0.6666666666666666,
              "#ed7953"
             ],
             [
              0.7777777777777778,
              "#fb9f3a"
             ],
             [
              0.8888888888888888,
              "#fdca26"
             ],
             [
              1,
              "#f0f921"
             ]
            ],
            "type": "heatmap"
           }
          ],
          "histogram": [
           {
            "marker": {
             "pattern": {
              "fillmode": "overlay",
              "size": 10,
              "solidity": 0.2
             }
            },
            "type": "histogram"
           }
          ],
          "histogram2d": [
           {
            "colorbar": {
             "outlinewidth": 0,
             "ticks": ""
            },
            "colorscale": [
             [
              0,
              "#0d0887"
             ],
             [
              0.1111111111111111,
              "#46039f"
             ],
             [
              0.2222222222222222,
              "#7201a8"
             ],
             [
              0.3333333333333333,
              "#9c179e"
             ],
             [
              0.4444444444444444,
              "#bd3786"
             ],
             [
              0.5555555555555556,
              "#d8576b"
             ],
             [
              0.6666666666666666,
              "#ed7953"
             ],
             [
              0.7777777777777778,
              "#fb9f3a"
             ],
             [
              0.8888888888888888,
              "#fdca26"
             ],
             [
              1,
              "#f0f921"
             ]
            ],
            "type": "histogram2d"
           }
          ],
          "histogram2dcontour": [
           {
            "colorbar": {
             "outlinewidth": 0,
             "ticks": ""
            },
            "colorscale": [
             [
              0,
              "#0d0887"
             ],
             [
              0.1111111111111111,
              "#46039f"
             ],
             [
              0.2222222222222222,
              "#7201a8"
             ],
             [
              0.3333333333333333,
              "#9c179e"
             ],
             [
              0.4444444444444444,
              "#bd3786"
             ],
             [
              0.5555555555555556,
              "#d8576b"
             ],
             [
              0.6666666666666666,
              "#ed7953"
             ],
             [
              0.7777777777777778,
              "#fb9f3a"
             ],
             [
              0.8888888888888888,
              "#fdca26"
             ],
             [
              1,
              "#f0f921"
             ]
            ],
            "type": "histogram2dcontour"
           }
          ],
          "mesh3d": [
           {
            "colorbar": {
             "outlinewidth": 0,
             "ticks": ""
            },
            "type": "mesh3d"
           }
          ],
          "parcoords": [
           {
            "line": {
             "colorbar": {
              "outlinewidth": 0,
              "ticks": ""
             }
            },
            "type": "parcoords"
           }
          ],
          "pie": [
           {
            "automargin": true,
            "type": "pie"
           }
          ],
          "scatter": [
           {
            "fillpattern": {
             "fillmode": "overlay",
             "size": 10,
             "solidity": 0.2
            },
            "type": "scatter"
           }
          ],
          "scatter3d": [
           {
            "line": {
             "colorbar": {
              "outlinewidth": 0,
              "ticks": ""
             }
            },
            "marker": {
             "colorbar": {
              "outlinewidth": 0,
              "ticks": ""
             }
            },
            "type": "scatter3d"
           }
          ],
          "scattercarpet": [
           {
            "marker": {
             "colorbar": {
              "outlinewidth": 0,
              "ticks": ""
             }
            },
            "type": "scattercarpet"
           }
          ],
          "scattergeo": [
           {
            "marker": {
             "colorbar": {
              "outlinewidth": 0,
              "ticks": ""
             }
            },
            "type": "scattergeo"
           }
          ],
          "scattergl": [
           {
            "marker": {
             "colorbar": {
              "outlinewidth": 0,
              "ticks": ""
             }
            },
            "type": "scattergl"
           }
          ],
          "scattermap": [
           {
            "marker": {
             "colorbar": {
              "outlinewidth": 0,
              "ticks": ""
             }
            },
            "type": "scattermap"
           }
          ],
          "scattermapbox": [
           {
            "marker": {
             "colorbar": {
              "outlinewidth": 0,
              "ticks": ""
             }
            },
            "type": "scattermapbox"
           }
          ],
          "scatterpolar": [
           {
            "marker": {
             "colorbar": {
              "outlinewidth": 0,
              "ticks": ""
             }
            },
            "type": "scatterpolar"
           }
          ],
          "scatterpolargl": [
           {
            "marker": {
             "colorbar": {
              "outlinewidth": 0,
              "ticks": ""
             }
            },
            "type": "scatterpolargl"
           }
          ],
          "scatterternary": [
           {
            "marker": {
             "colorbar": {
              "outlinewidth": 0,
              "ticks": ""
             }
            },
            "type": "scatterternary"
           }
          ],
          "surface": [
           {
            "colorbar": {
             "outlinewidth": 0,
             "ticks": ""
            },
            "colorscale": [
             [
              0,
              "#0d0887"
             ],
             [
              0.1111111111111111,
              "#46039f"
             ],
             [
              0.2222222222222222,
              "#7201a8"
             ],
             [
              0.3333333333333333,
              "#9c179e"
             ],
             [
              0.4444444444444444,
              "#bd3786"
             ],
             [
              0.5555555555555556,
              "#d8576b"
             ],
             [
              0.6666666666666666,
              "#ed7953"
             ],
             [
              0.7777777777777778,
              "#fb9f3a"
             ],
             [
              0.8888888888888888,
              "#fdca26"
             ],
             [
              1,
              "#f0f921"
             ]
            ],
            "type": "surface"
           }
          ],
          "table": [
           {
            "cells": {
             "fill": {
              "color": "#EBF0F8"
             },
             "line": {
              "color": "white"
             }
            },
            "header": {
             "fill": {
              "color": "#C8D4E3"
             },
             "line": {
              "color": "white"
             }
            },
            "type": "table"
           }
          ]
         },
         "layout": {
          "annotationdefaults": {
           "arrowcolor": "#2a3f5f",
           "arrowhead": 0,
           "arrowwidth": 1
          },
          "autotypenumbers": "strict",
          "coloraxis": {
           "colorbar": {
            "outlinewidth": 0,
            "ticks": ""
           }
          },
          "colorscale": {
           "diverging": [
            [
             0,
             "#8e0152"
            ],
            [
             0.1,
             "#c51b7d"
            ],
            [
             0.2,
             "#de77ae"
            ],
            [
             0.3,
             "#f1b6da"
            ],
            [
             0.4,
             "#fde0ef"
            ],
            [
             0.5,
             "#f7f7f7"
            ],
            [
             0.6,
             "#e6f5d0"
            ],
            [
             0.7,
             "#b8e186"
            ],
            [
             0.8,
             "#7fbc41"
            ],
            [
             0.9,
             "#4d9221"
            ],
            [
             1,
             "#276419"
            ]
           ],
           "sequential": [
            [
             0,
             "#0d0887"
            ],
            [
             0.1111111111111111,
             "#46039f"
            ],
            [
             0.2222222222222222,
             "#7201a8"
            ],
            [
             0.3333333333333333,
             "#9c179e"
            ],
            [
             0.4444444444444444,
             "#bd3786"
            ],
            [
             0.5555555555555556,
             "#d8576b"
            ],
            [
             0.6666666666666666,
             "#ed7953"
            ],
            [
             0.7777777777777778,
             "#fb9f3a"
            ],
            [
             0.8888888888888888,
             "#fdca26"
            ],
            [
             1,
             "#f0f921"
            ]
           ],
           "sequentialminus": [
            [
             0,
             "#0d0887"
            ],
            [
             0.1111111111111111,
             "#46039f"
            ],
            [
             0.2222222222222222,
             "#7201a8"
            ],
            [
             0.3333333333333333,
             "#9c179e"
            ],
            [
             0.4444444444444444,
             "#bd3786"
            ],
            [
             0.5555555555555556,
             "#d8576b"
            ],
            [
             0.6666666666666666,
             "#ed7953"
            ],
            [
             0.7777777777777778,
             "#fb9f3a"
            ],
            [
             0.8888888888888888,
             "#fdca26"
            ],
            [
             1,
             "#f0f921"
            ]
           ]
          },
          "colorway": [
           "#636efa",
           "#EF553B",
           "#00cc96",
           "#ab63fa",
           "#FFA15A",
           "#19d3f3",
           "#FF6692",
           "#B6E880",
           "#FF97FF",
           "#FECB52"
          ],
          "font": {
           "color": "#2a3f5f"
          },
          "geo": {
           "bgcolor": "white",
           "lakecolor": "white",
           "landcolor": "white",
           "showlakes": true,
           "showland": true,
           "subunitcolor": "#C8D4E3"
          },
          "hoverlabel": {
           "align": "left"
          },
          "hovermode": "closest",
          "mapbox": {
           "style": "light"
          },
          "paper_bgcolor": "white",
          "plot_bgcolor": "white",
          "polar": {
           "angularaxis": {
            "gridcolor": "#EBF0F8",
            "linecolor": "#EBF0F8",
            "ticks": ""
           },
           "bgcolor": "white",
           "radialaxis": {
            "gridcolor": "#EBF0F8",
            "linecolor": "#EBF0F8",
            "ticks": ""
           }
          },
          "scene": {
           "xaxis": {
            "backgroundcolor": "white",
            "gridcolor": "#DFE8F3",
            "gridwidth": 2,
            "linecolor": "#EBF0F8",
            "showbackground": true,
            "ticks": "",
            "zerolinecolor": "#EBF0F8"
           },
           "yaxis": {
            "backgroundcolor": "white",
            "gridcolor": "#DFE8F3",
            "gridwidth": 2,
            "linecolor": "#EBF0F8",
            "showbackground": true,
            "ticks": "",
            "zerolinecolor": "#EBF0F8"
           },
           "zaxis": {
            "backgroundcolor": "white",
            "gridcolor": "#DFE8F3",
            "gridwidth": 2,
            "linecolor": "#EBF0F8",
            "showbackground": true,
            "ticks": "",
            "zerolinecolor": "#EBF0F8"
           }
          },
          "shapedefaults": {
           "line": {
            "color": "#2a3f5f"
           }
          },
          "ternary": {
           "aaxis": {
            "gridcolor": "#DFE8F3",
            "linecolor": "#A2B1C6",
            "ticks": ""
           },
           "baxis": {
            "gridcolor": "#DFE8F3",
            "linecolor": "#A2B1C6",
            "ticks": ""
           },
           "bgcolor": "white",
           "caxis": {
            "gridcolor": "#DFE8F3",
            "linecolor": "#A2B1C6",
            "ticks": ""
           }
          },
          "title": {
           "x": 0.05
          },
          "xaxis": {
           "automargin": true,
           "gridcolor": "#EBF0F8",
           "linecolor": "#EBF0F8",
           "ticks": "",
           "title": {
            "standoff": 15
           },
           "zerolinecolor": "#EBF0F8",
           "zerolinewidth": 2
          },
          "yaxis": {
           "automargin": true,
           "gridcolor": "#EBF0F8",
           "linecolor": "#EBF0F8",
           "ticks": "",
           "title": {
            "standoff": 15
           },
           "zerolinecolor": "#EBF0F8",
           "zerolinewidth": 2
          }
         }
        },
        "title": {
         "text": "Annual Rainfall Trend in India (1901 - 2015)"
        },
        "xaxis": {
         "title": {
          "text": "Year"
         }
        },
        "yaxis": {
         "title": {
          "text": "Rainfall (mm)"
         }
        }
       }
      }
     },
     "metadata": {},
     "output_type": "display_data"
    }
   ],
   "source": [
    "fig = go.Figure()\n",
    "\n",
    "annual_rainfall = df[['YEAR', 'ANNUAL']]\n",
    "\n",
    "fig.add_trace(go.Scatter(\n",
    "    x=annual_rainfall['YEAR'],\n",
    "    y=annual_rainfall['ANNUAL'],\n",
    "    mode='lines+markers',\n",
    "    name='Annual Rainfall',\n",
    "    line=dict(color='royalblue', width=1)\n",
    "))\n",
    "\n",
    "fig.add_trace(go.Scatter(\n",
    "    x=annual_rainfall['YEAR'],\n",
    "    y=[annual_rainfall['ANNUAL'].mean()] * len(annual_rainfall),\n",
    "    mode='lines',\n",
    "    name='Mean Rainfall',\n",
    "    line=dict(color='red', dash='dash')\n",
    "))\n",
    "\n",
    "fig.update_layout(\n",
    "    title='Annual Rainfall Trend in India (1901 - 2015)',\n",
    "    xaxis_title='Year',\n",
    "    yaxis_title='Rainfall (mm)',\n",
    "    template='plotly_white',\n",
    "    hovermode='x unified',\n",
    "    height=500\n",
    ")\n",
    "\n",
    "fig.show()"
   ]
  },
  {
   "cell_type": "markdown",
   "id": "b8659ed1",
   "metadata": {},
   "source": [
    "#### Monthly Rainfall Analysis\n",
    "\n",
    "We calculate and plot the average rainfall for each month across the entire time period. This helps us understand rainfall seasonality.\n"
   ]
  },
  {
   "cell_type": "code",
   "execution_count": 50,
   "id": "2ee7c5aa",
   "metadata": {},
   "outputs": [
    {
     "data": {
      "application/vnd.plotly.v1+json": {
       "config": {
        "plotlyServerURL": "https://plot.ly"
       },
       "data": [
        {
         "hovertemplate": "Month=%{x}<br>Average Rainfall (mm)=%{text}<extra></extra>",
         "legendgroup": "",
         "marker": {
          "color": "#636efa",
          "pattern": {
           "shape": ""
          }
         },
         "name": "",
         "orientation": "v",
         "showlegend": false,
         "text": {
          "bdata": "I8pGX1bCM0CnN73pTW83QPjv2245QTxAv7DNTvEeQ0DlAIIk0hhPQOxRuB6FC2VA6IbvmlwwckAhiTT2aSZwQO6WEywjj2VAneI9S+nsUkD9OIAgiTQ9QPYoXI/C9S1A",
          "dtype": "f8"
         },
         "textposition": "auto",
         "type": "bar",
         "x": [
          "JAN",
          "FEB",
          "MAR",
          "APR",
          "MAY",
          "JUN",
          "JUL",
          "AUG",
          "SEP",
          "OCT",
          "NOV",
          "DEC"
         ],
         "xaxis": "x",
         "y": {
          "bdata": "I8pGX1bCM0CnN73pTW83QPjv2245QTxAv7DNTvEeQ0DlAIIk0hhPQOxRuB6FC2VA6IbvmlwwckAhiTT2aSZwQO6WEywjj2VAneI9S+nsUkD9OIAgiTQ9QPYoXI/C9S1A",
          "dtype": "f8"
         },
         "yaxis": "y"
        }
       ],
       "layout": {
        "annotations": [
         {
          "showarrow": false,
          "text": "Mean Rainfall",
          "x": 1,
          "xanchor": "right",
          "xref": "x domain",
          "y": 98.50231884057972,
          "yanchor": "bottom",
          "yref": "y"
         }
        ],
        "barmode": "relative",
        "height": 500,
        "legend": {
         "tracegroupgap": 0
        },
        "shapes": [
         {
          "line": {
           "color": "red",
           "dash": "dash"
          },
          "type": "line",
          "x0": 0,
          "x1": 1,
          "xref": "x domain",
          "y0": 98.50231884057972,
          "y1": 98.50231884057972,
          "yref": "y"
         }
        ],
        "template": {
         "data": {
          "bar": [
           {
            "error_x": {
             "color": "#2a3f5f"
            },
            "error_y": {
             "color": "#2a3f5f"
            },
            "marker": {
             "line": {
              "color": "white",
              "width": 0.5
             },
             "pattern": {
              "fillmode": "overlay",
              "size": 10,
              "solidity": 0.2
             }
            },
            "type": "bar"
           }
          ],
          "barpolar": [
           {
            "marker": {
             "line": {
              "color": "white",
              "width": 0.5
             },
             "pattern": {
              "fillmode": "overlay",
              "size": 10,
              "solidity": 0.2
             }
            },
            "type": "barpolar"
           }
          ],
          "carpet": [
           {
            "aaxis": {
             "endlinecolor": "#2a3f5f",
             "gridcolor": "#C8D4E3",
             "linecolor": "#C8D4E3",
             "minorgridcolor": "#C8D4E3",
             "startlinecolor": "#2a3f5f"
            },
            "baxis": {
             "endlinecolor": "#2a3f5f",
             "gridcolor": "#C8D4E3",
             "linecolor": "#C8D4E3",
             "minorgridcolor": "#C8D4E3",
             "startlinecolor": "#2a3f5f"
            },
            "type": "carpet"
           }
          ],
          "choropleth": [
           {
            "colorbar": {
             "outlinewidth": 0,
             "ticks": ""
            },
            "type": "choropleth"
           }
          ],
          "contour": [
           {
            "colorbar": {
             "outlinewidth": 0,
             "ticks": ""
            },
            "colorscale": [
             [
              0,
              "#0d0887"
             ],
             [
              0.1111111111111111,
              "#46039f"
             ],
             [
              0.2222222222222222,
              "#7201a8"
             ],
             [
              0.3333333333333333,
              "#9c179e"
             ],
             [
              0.4444444444444444,
              "#bd3786"
             ],
             [
              0.5555555555555556,
              "#d8576b"
             ],
             [
              0.6666666666666666,
              "#ed7953"
             ],
             [
              0.7777777777777778,
              "#fb9f3a"
             ],
             [
              0.8888888888888888,
              "#fdca26"
             ],
             [
              1,
              "#f0f921"
             ]
            ],
            "type": "contour"
           }
          ],
          "contourcarpet": [
           {
            "colorbar": {
             "outlinewidth": 0,
             "ticks": ""
            },
            "type": "contourcarpet"
           }
          ],
          "heatmap": [
           {
            "colorbar": {
             "outlinewidth": 0,
             "ticks": ""
            },
            "colorscale": [
             [
              0,
              "#0d0887"
             ],
             [
              0.1111111111111111,
              "#46039f"
             ],
             [
              0.2222222222222222,
              "#7201a8"
             ],
             [
              0.3333333333333333,
              "#9c179e"
             ],
             [
              0.4444444444444444,
              "#bd3786"
             ],
             [
              0.5555555555555556,
              "#d8576b"
             ],
             [
              0.6666666666666666,
              "#ed7953"
             ],
             [
              0.7777777777777778,
              "#fb9f3a"
             ],
             [
              0.8888888888888888,
              "#fdca26"
             ],
             [
              1,
              "#f0f921"
             ]
            ],
            "type": "heatmap"
           }
          ],
          "histogram": [
           {
            "marker": {
             "pattern": {
              "fillmode": "overlay",
              "size": 10,
              "solidity": 0.2
             }
            },
            "type": "histogram"
           }
          ],
          "histogram2d": [
           {
            "colorbar": {
             "outlinewidth": 0,
             "ticks": ""
            },
            "colorscale": [
             [
              0,
              "#0d0887"
             ],
             [
              0.1111111111111111,
              "#46039f"
             ],
             [
              0.2222222222222222,
              "#7201a8"
             ],
             [
              0.3333333333333333,
              "#9c179e"
             ],
             [
              0.4444444444444444,
              "#bd3786"
             ],
             [
              0.5555555555555556,
              "#d8576b"
             ],
             [
              0.6666666666666666,
              "#ed7953"
             ],
             [
              0.7777777777777778,
              "#fb9f3a"
             ],
             [
              0.8888888888888888,
              "#fdca26"
             ],
             [
              1,
              "#f0f921"
             ]
            ],
            "type": "histogram2d"
           }
          ],
          "histogram2dcontour": [
           {
            "colorbar": {
             "outlinewidth": 0,
             "ticks": ""
            },
            "colorscale": [
             [
              0,
              "#0d0887"
             ],
             [
              0.1111111111111111,
              "#46039f"
             ],
             [
              0.2222222222222222,
              "#7201a8"
             ],
             [
              0.3333333333333333,
              "#9c179e"
             ],
             [
              0.4444444444444444,
              "#bd3786"
             ],
             [
              0.5555555555555556,
              "#d8576b"
             ],
             [
              0.6666666666666666,
              "#ed7953"
             ],
             [
              0.7777777777777778,
              "#fb9f3a"
             ],
             [
              0.8888888888888888,
              "#fdca26"
             ],
             [
              1,
              "#f0f921"
             ]
            ],
            "type": "histogram2dcontour"
           }
          ],
          "mesh3d": [
           {
            "colorbar": {
             "outlinewidth": 0,
             "ticks": ""
            },
            "type": "mesh3d"
           }
          ],
          "parcoords": [
           {
            "line": {
             "colorbar": {
              "outlinewidth": 0,
              "ticks": ""
             }
            },
            "type": "parcoords"
           }
          ],
          "pie": [
           {
            "automargin": true,
            "type": "pie"
           }
          ],
          "scatter": [
           {
            "fillpattern": {
             "fillmode": "overlay",
             "size": 10,
             "solidity": 0.2
            },
            "type": "scatter"
           }
          ],
          "scatter3d": [
           {
            "line": {
             "colorbar": {
              "outlinewidth": 0,
              "ticks": ""
             }
            },
            "marker": {
             "colorbar": {
              "outlinewidth": 0,
              "ticks": ""
             }
            },
            "type": "scatter3d"
           }
          ],
          "scattercarpet": [
           {
            "marker": {
             "colorbar": {
              "outlinewidth": 0,
              "ticks": ""
             }
            },
            "type": "scattercarpet"
           }
          ],
          "scattergeo": [
           {
            "marker": {
             "colorbar": {
              "outlinewidth": 0,
              "ticks": ""
             }
            },
            "type": "scattergeo"
           }
          ],
          "scattergl": [
           {
            "marker": {
             "colorbar": {
              "outlinewidth": 0,
              "ticks": ""
             }
            },
            "type": "scattergl"
           }
          ],
          "scattermap": [
           {
            "marker": {
             "colorbar": {
              "outlinewidth": 0,
              "ticks": ""
             }
            },
            "type": "scattermap"
           }
          ],
          "scattermapbox": [
           {
            "marker": {
             "colorbar": {
              "outlinewidth": 0,
              "ticks": ""
             }
            },
            "type": "scattermapbox"
           }
          ],
          "scatterpolar": [
           {
            "marker": {
             "colorbar": {
              "outlinewidth": 0,
              "ticks": ""
             }
            },
            "type": "scatterpolar"
           }
          ],
          "scatterpolargl": [
           {
            "marker": {
             "colorbar": {
              "outlinewidth": 0,
              "ticks": ""
             }
            },
            "type": "scatterpolargl"
           }
          ],
          "scatterternary": [
           {
            "marker": {
             "colorbar": {
              "outlinewidth": 0,
              "ticks": ""
             }
            },
            "type": "scatterternary"
           }
          ],
          "surface": [
           {
            "colorbar": {
             "outlinewidth": 0,
             "ticks": ""
            },
            "colorscale": [
             [
              0,
              "#0d0887"
             ],
             [
              0.1111111111111111,
              "#46039f"
             ],
             [
              0.2222222222222222,
              "#7201a8"
             ],
             [
              0.3333333333333333,
              "#9c179e"
             ],
             [
              0.4444444444444444,
              "#bd3786"
             ],
             [
              0.5555555555555556,
              "#d8576b"
             ],
             [
              0.6666666666666666,
              "#ed7953"
             ],
             [
              0.7777777777777778,
              "#fb9f3a"
             ],
             [
              0.8888888888888888,
              "#fdca26"
             ],
             [
              1,
              "#f0f921"
             ]
            ],
            "type": "surface"
           }
          ],
          "table": [
           {
            "cells": {
             "fill": {
              "color": "#EBF0F8"
             },
             "line": {
              "color": "white"
             }
            },
            "header": {
             "fill": {
              "color": "#C8D4E3"
             },
             "line": {
              "color": "white"
             }
            },
            "type": "table"
           }
          ]
         },
         "layout": {
          "annotationdefaults": {
           "arrowcolor": "#2a3f5f",
           "arrowhead": 0,
           "arrowwidth": 1
          },
          "autotypenumbers": "strict",
          "coloraxis": {
           "colorbar": {
            "outlinewidth": 0,
            "ticks": ""
           }
          },
          "colorscale": {
           "diverging": [
            [
             0,
             "#8e0152"
            ],
            [
             0.1,
             "#c51b7d"
            ],
            [
             0.2,
             "#de77ae"
            ],
            [
             0.3,
             "#f1b6da"
            ],
            [
             0.4,
             "#fde0ef"
            ],
            [
             0.5,
             "#f7f7f7"
            ],
            [
             0.6,
             "#e6f5d0"
            ],
            [
             0.7,
             "#b8e186"
            ],
            [
             0.8,
             "#7fbc41"
            ],
            [
             0.9,
             "#4d9221"
            ],
            [
             1,
             "#276419"
            ]
           ],
           "sequential": [
            [
             0,
             "#0d0887"
            ],
            [
             0.1111111111111111,
             "#46039f"
            ],
            [
             0.2222222222222222,
             "#7201a8"
            ],
            [
             0.3333333333333333,
             "#9c179e"
            ],
            [
             0.4444444444444444,
             "#bd3786"
            ],
            [
             0.5555555555555556,
             "#d8576b"
            ],
            [
             0.6666666666666666,
             "#ed7953"
            ],
            [
             0.7777777777777778,
             "#fb9f3a"
            ],
            [
             0.8888888888888888,
             "#fdca26"
            ],
            [
             1,
             "#f0f921"
            ]
           ],
           "sequentialminus": [
            [
             0,
             "#0d0887"
            ],
            [
             0.1111111111111111,
             "#46039f"
            ],
            [
             0.2222222222222222,
             "#7201a8"
            ],
            [
             0.3333333333333333,
             "#9c179e"
            ],
            [
             0.4444444444444444,
             "#bd3786"
            ],
            [
             0.5555555555555556,
             "#d8576b"
            ],
            [
             0.6666666666666666,
             "#ed7953"
            ],
            [
             0.7777777777777778,
             "#fb9f3a"
            ],
            [
             0.8888888888888888,
             "#fdca26"
            ],
            [
             1,
             "#f0f921"
            ]
           ]
          },
          "colorway": [
           "#636efa",
           "#EF553B",
           "#00cc96",
           "#ab63fa",
           "#FFA15A",
           "#19d3f3",
           "#FF6692",
           "#B6E880",
           "#FF97FF",
           "#FECB52"
          ],
          "font": {
           "color": "#2a3f5f"
          },
          "geo": {
           "bgcolor": "white",
           "lakecolor": "white",
           "landcolor": "white",
           "showlakes": true,
           "showland": true,
           "subunitcolor": "#C8D4E3"
          },
          "hoverlabel": {
           "align": "left"
          },
          "hovermode": "closest",
          "mapbox": {
           "style": "light"
          },
          "paper_bgcolor": "white",
          "plot_bgcolor": "white",
          "polar": {
           "angularaxis": {
            "gridcolor": "#EBF0F8",
            "linecolor": "#EBF0F8",
            "ticks": ""
           },
           "bgcolor": "white",
           "radialaxis": {
            "gridcolor": "#EBF0F8",
            "linecolor": "#EBF0F8",
            "ticks": ""
           }
          },
          "scene": {
           "xaxis": {
            "backgroundcolor": "white",
            "gridcolor": "#DFE8F3",
            "gridwidth": 2,
            "linecolor": "#EBF0F8",
            "showbackground": true,
            "ticks": "",
            "zerolinecolor": "#EBF0F8"
           },
           "yaxis": {
            "backgroundcolor": "white",
            "gridcolor": "#DFE8F3",
            "gridwidth": 2,
            "linecolor": "#EBF0F8",
            "showbackground": true,
            "ticks": "",
            "zerolinecolor": "#EBF0F8"
           },
           "zaxis": {
            "backgroundcolor": "white",
            "gridcolor": "#DFE8F3",
            "gridwidth": 2,
            "linecolor": "#EBF0F8",
            "showbackground": true,
            "ticks": "",
            "zerolinecolor": "#EBF0F8"
           }
          },
          "shapedefaults": {
           "line": {
            "color": "#2a3f5f"
           }
          },
          "ternary": {
           "aaxis": {
            "gridcolor": "#DFE8F3",
            "linecolor": "#A2B1C6",
            "ticks": ""
           },
           "baxis": {
            "gridcolor": "#DFE8F3",
            "linecolor": "#A2B1C6",
            "ticks": ""
           },
           "bgcolor": "white",
           "caxis": {
            "gridcolor": "#DFE8F3",
            "linecolor": "#A2B1C6",
            "ticks": ""
           }
          },
          "title": {
           "x": 0.05
          },
          "xaxis": {
           "automargin": true,
           "gridcolor": "#EBF0F8",
           "linecolor": "#EBF0F8",
           "ticks": "",
           "title": {
            "standoff": 15
           },
           "zerolinecolor": "#EBF0F8",
           "zerolinewidth": 2
          },
          "yaxis": {
           "automargin": true,
           "gridcolor": "#EBF0F8",
           "linecolor": "#EBF0F8",
           "ticks": "",
           "title": {
            "standoff": 15
           },
           "zerolinecolor": "#EBF0F8",
           "zerolinewidth": 2
          }
         }
        },
        "title": {
         "text": "Average Monthly Rainfall in India (1901 - 2015)"
        },
        "xaxis": {
         "anchor": "y",
         "domain": [
          0,
          1
         ],
         "title": {
          "text": "Month"
         }
        },
        "yaxis": {
         "anchor": "x",
         "domain": [
          0,
          1
         ],
         "title": {
          "text": "Rainfall (mm)"
         }
        }
       }
      }
     },
     "metadata": {},
     "output_type": "display_data"
    }
   ],
   "source": [
    "monthly_columns = ['JAN', 'FEB', 'MAR', 'APR', 'MAY', 'JUN', \n",
    "                   'JUL', 'AUG', 'SEP', 'OCT', 'NOV', 'DEC']\n",
    "\n",
    "monthly_avg = df[monthly_columns].mean()\n",
    "monthly_avg_df = monthly_avg.reset_index()\n",
    "monthly_avg_df.columns = ['Month', 'Average Rainfall (mm)']\n",
    "\n",
    "fig = px.bar(\n",
    "    monthly_avg_df,\n",
    "    x='Month',\n",
    "    y='Average Rainfall (mm)',\n",
    "    text='Average Rainfall (mm)',\n",
    "    title='Average Monthly Rainfall in India (1901 - 2015)',\n",
    "    template='plotly_white'\n",
    ")\n",
    "\n",
    "fig.add_hline(\n",
    "    y=monthly_avg.mean(),\n",
    "    line_dash=\"dash\",\n",
    "    line_color=\"red\",\n",
    "    annotation_text=\"Mean Rainfall\",\n",
    "    annotation_position=\"top right\"\n",
    ")\n",
    "\n",
    "fig.update_layout(\n",
    "    xaxis_title='Month',\n",
    "    yaxis_title='Rainfall (mm)',\n",
    "    height=500\n",
    ")\n",
    "\n",
    "fig.show()"
   ]
  },
  {
   "cell_type": "markdown",
   "id": "d4ad8770",
   "metadata": {},
   "source": [
    "#### Seasonal Rainfall Distribution\n",
    "\n",
    "Rainfall is grouped into 4 major seasons:\n",
    "\t•\tWinter (Jan-Feb)\n",
    "\t•\tPre-Monsoon (Mar-May)\n",
    "\t•\tMonsoon (Jun-Sep)\n",
    "\t•\tPost-Monsoon (Oct-Dec)\n",
    "\n",
    "We plot average seasonal rainfall to highlight dominant periods."
   ]
  },
  {
   "cell_type": "code",
   "execution_count": 59,
   "id": "21345266",
   "metadata": {},
   "outputs": [
    {
     "data": {
      "application/vnd.plotly.v1+json": {
       "config": {
        "plotlyServerURL": "https://plot.ly"
       },
       "data": [
        {
         "hovertemplate": "Season=%{x}<br>Average Rainfall (mm)=%{text}<extra></extra>",
         "legendgroup": "",
         "marker": {
          "color": "#636efa",
          "pattern": {
           "shape": ""
          }
         },
         "name": "",
         "orientation": "v",
         "showlegend": false,
         "text": {
          "bdata": "mpmZmZmZRUBmZmZmZhZgQGZmZmZm0otAmpmZmZn5XUA=",
          "dtype": "f8"
         },
         "textposition": "auto",
         "type": "bar",
         "x": [
          "Winter (Jan-Feb)",
          "Pre-Monsoon (Mar-May)",
          "Monsoon (Jun-Sep)",
          "Post-Monsoon (Oct-Dec)"
         ],
         "xaxis": "x",
         "y": {
          "bdata": "mpmZmZmZRUBmZmZmZhZgQGZmZmZm0otAmpmZmZn5XUA=",
          "dtype": "f8"
         },
         "yaxis": "y"
        }
       ],
       "layout": {
        "barmode": "relative",
        "height": 500,
        "legend": {
         "tracegroupgap": 0
        },
        "template": {
         "data": {
          "bar": [
           {
            "error_x": {
             "color": "#2a3f5f"
            },
            "error_y": {
             "color": "#2a3f5f"
            },
            "marker": {
             "line": {
              "color": "white",
              "width": 0.5
             },
             "pattern": {
              "fillmode": "overlay",
              "size": 10,
              "solidity": 0.2
             }
            },
            "type": "bar"
           }
          ],
          "barpolar": [
           {
            "marker": {
             "line": {
              "color": "white",
              "width": 0.5
             },
             "pattern": {
              "fillmode": "overlay",
              "size": 10,
              "solidity": 0.2
             }
            },
            "type": "barpolar"
           }
          ],
          "carpet": [
           {
            "aaxis": {
             "endlinecolor": "#2a3f5f",
             "gridcolor": "#C8D4E3",
             "linecolor": "#C8D4E3",
             "minorgridcolor": "#C8D4E3",
             "startlinecolor": "#2a3f5f"
            },
            "baxis": {
             "endlinecolor": "#2a3f5f",
             "gridcolor": "#C8D4E3",
             "linecolor": "#C8D4E3",
             "minorgridcolor": "#C8D4E3",
             "startlinecolor": "#2a3f5f"
            },
            "type": "carpet"
           }
          ],
          "choropleth": [
           {
            "colorbar": {
             "outlinewidth": 0,
             "ticks": ""
            },
            "type": "choropleth"
           }
          ],
          "contour": [
           {
            "colorbar": {
             "outlinewidth": 0,
             "ticks": ""
            },
            "colorscale": [
             [
              0,
              "#0d0887"
             ],
             [
              0.1111111111111111,
              "#46039f"
             ],
             [
              0.2222222222222222,
              "#7201a8"
             ],
             [
              0.3333333333333333,
              "#9c179e"
             ],
             [
              0.4444444444444444,
              "#bd3786"
             ],
             [
              0.5555555555555556,
              "#d8576b"
             ],
             [
              0.6666666666666666,
              "#ed7953"
             ],
             [
              0.7777777777777778,
              "#fb9f3a"
             ],
             [
              0.8888888888888888,
              "#fdca26"
             ],
             [
              1,
              "#f0f921"
             ]
            ],
            "type": "contour"
           }
          ],
          "contourcarpet": [
           {
            "colorbar": {
             "outlinewidth": 0,
             "ticks": ""
            },
            "type": "contourcarpet"
           }
          ],
          "heatmap": [
           {
            "colorbar": {
             "outlinewidth": 0,
             "ticks": ""
            },
            "colorscale": [
             [
              0,
              "#0d0887"
             ],
             [
              0.1111111111111111,
              "#46039f"
             ],
             [
              0.2222222222222222,
              "#7201a8"
             ],
             [
              0.3333333333333333,
              "#9c179e"
             ],
             [
              0.4444444444444444,
              "#bd3786"
             ],
             [
              0.5555555555555556,
              "#d8576b"
             ],
             [
              0.6666666666666666,
              "#ed7953"
             ],
             [
              0.7777777777777778,
              "#fb9f3a"
             ],
             [
              0.8888888888888888,
              "#fdca26"
             ],
             [
              1,
              "#f0f921"
             ]
            ],
            "type": "heatmap"
           }
          ],
          "histogram": [
           {
            "marker": {
             "pattern": {
              "fillmode": "overlay",
              "size": 10,
              "solidity": 0.2
             }
            },
            "type": "histogram"
           }
          ],
          "histogram2d": [
           {
            "colorbar": {
             "outlinewidth": 0,
             "ticks": ""
            },
            "colorscale": [
             [
              0,
              "#0d0887"
             ],
             [
              0.1111111111111111,
              "#46039f"
             ],
             [
              0.2222222222222222,
              "#7201a8"
             ],
             [
              0.3333333333333333,
              "#9c179e"
             ],
             [
              0.4444444444444444,
              "#bd3786"
             ],
             [
              0.5555555555555556,
              "#d8576b"
             ],
             [
              0.6666666666666666,
              "#ed7953"
             ],
             [
              0.7777777777777778,
              "#fb9f3a"
             ],
             [
              0.8888888888888888,
              "#fdca26"
             ],
             [
              1,
              "#f0f921"
             ]
            ],
            "type": "histogram2d"
           }
          ],
          "histogram2dcontour": [
           {
            "colorbar": {
             "outlinewidth": 0,
             "ticks": ""
            },
            "colorscale": [
             [
              0,
              "#0d0887"
             ],
             [
              0.1111111111111111,
              "#46039f"
             ],
             [
              0.2222222222222222,
              "#7201a8"
             ],
             [
              0.3333333333333333,
              "#9c179e"
             ],
             [
              0.4444444444444444,
              "#bd3786"
             ],
             [
              0.5555555555555556,
              "#d8576b"
             ],
             [
              0.6666666666666666,
              "#ed7953"
             ],
             [
              0.7777777777777778,
              "#fb9f3a"
             ],
             [
              0.8888888888888888,
              "#fdca26"
             ],
             [
              1,
              "#f0f921"
             ]
            ],
            "type": "histogram2dcontour"
           }
          ],
          "mesh3d": [
           {
            "colorbar": {
             "outlinewidth": 0,
             "ticks": ""
            },
            "type": "mesh3d"
           }
          ],
          "parcoords": [
           {
            "line": {
             "colorbar": {
              "outlinewidth": 0,
              "ticks": ""
             }
            },
            "type": "parcoords"
           }
          ],
          "pie": [
           {
            "automargin": true,
            "type": "pie"
           }
          ],
          "scatter": [
           {
            "fillpattern": {
             "fillmode": "overlay",
             "size": 10,
             "solidity": 0.2
            },
            "type": "scatter"
           }
          ],
          "scatter3d": [
           {
            "line": {
             "colorbar": {
              "outlinewidth": 0,
              "ticks": ""
             }
            },
            "marker": {
             "colorbar": {
              "outlinewidth": 0,
              "ticks": ""
             }
            },
            "type": "scatter3d"
           }
          ],
          "scattercarpet": [
           {
            "marker": {
             "colorbar": {
              "outlinewidth": 0,
              "ticks": ""
             }
            },
            "type": "scattercarpet"
           }
          ],
          "scattergeo": [
           {
            "marker": {
             "colorbar": {
              "outlinewidth": 0,
              "ticks": ""
             }
            },
            "type": "scattergeo"
           }
          ],
          "scattergl": [
           {
            "marker": {
             "colorbar": {
              "outlinewidth": 0,
              "ticks": ""
             }
            },
            "type": "scattergl"
           }
          ],
          "scattermap": [
           {
            "marker": {
             "colorbar": {
              "outlinewidth": 0,
              "ticks": ""
             }
            },
            "type": "scattermap"
           }
          ],
          "scattermapbox": [
           {
            "marker": {
             "colorbar": {
              "outlinewidth": 0,
              "ticks": ""
             }
            },
            "type": "scattermapbox"
           }
          ],
          "scatterpolar": [
           {
            "marker": {
             "colorbar": {
              "outlinewidth": 0,
              "ticks": ""
             }
            },
            "type": "scatterpolar"
           }
          ],
          "scatterpolargl": [
           {
            "marker": {
             "colorbar": {
              "outlinewidth": 0,
              "ticks": ""
             }
            },
            "type": "scatterpolargl"
           }
          ],
          "scatterternary": [
           {
            "marker": {
             "colorbar": {
              "outlinewidth": 0,
              "ticks": ""
             }
            },
            "type": "scatterternary"
           }
          ],
          "surface": [
           {
            "colorbar": {
             "outlinewidth": 0,
             "ticks": ""
            },
            "colorscale": [
             [
              0,
              "#0d0887"
             ],
             [
              0.1111111111111111,
              "#46039f"
             ],
             [
              0.2222222222222222,
              "#7201a8"
             ],
             [
              0.3333333333333333,
              "#9c179e"
             ],
             [
              0.4444444444444444,
              "#bd3786"
             ],
             [
              0.5555555555555556,
              "#d8576b"
             ],
             [
              0.6666666666666666,
              "#ed7953"
             ],
             [
              0.7777777777777778,
              "#fb9f3a"
             ],
             [
              0.8888888888888888,
              "#fdca26"
             ],
             [
              1,
              "#f0f921"
             ]
            ],
            "type": "surface"
           }
          ],
          "table": [
           {
            "cells": {
             "fill": {
              "color": "#EBF0F8"
             },
             "line": {
              "color": "white"
             }
            },
            "header": {
             "fill": {
              "color": "#C8D4E3"
             },
             "line": {
              "color": "white"
             }
            },
            "type": "table"
           }
          ]
         },
         "layout": {
          "annotationdefaults": {
           "arrowcolor": "#2a3f5f",
           "arrowhead": 0,
           "arrowwidth": 1
          },
          "autotypenumbers": "strict",
          "coloraxis": {
           "colorbar": {
            "outlinewidth": 0,
            "ticks": ""
           }
          },
          "colorscale": {
           "diverging": [
            [
             0,
             "#8e0152"
            ],
            [
             0.1,
             "#c51b7d"
            ],
            [
             0.2,
             "#de77ae"
            ],
            [
             0.3,
             "#f1b6da"
            ],
            [
             0.4,
             "#fde0ef"
            ],
            [
             0.5,
             "#f7f7f7"
            ],
            [
             0.6,
             "#e6f5d0"
            ],
            [
             0.7,
             "#b8e186"
            ],
            [
             0.8,
             "#7fbc41"
            ],
            [
             0.9,
             "#4d9221"
            ],
            [
             1,
             "#276419"
            ]
           ],
           "sequential": [
            [
             0,
             "#0d0887"
            ],
            [
             0.1111111111111111,
             "#46039f"
            ],
            [
             0.2222222222222222,
             "#7201a8"
            ],
            [
             0.3333333333333333,
             "#9c179e"
            ],
            [
             0.4444444444444444,
             "#bd3786"
            ],
            [
             0.5555555555555556,
             "#d8576b"
            ],
            [
             0.6666666666666666,
             "#ed7953"
            ],
            [
             0.7777777777777778,
             "#fb9f3a"
            ],
            [
             0.8888888888888888,
             "#fdca26"
            ],
            [
             1,
             "#f0f921"
            ]
           ],
           "sequentialminus": [
            [
             0,
             "#0d0887"
            ],
            [
             0.1111111111111111,
             "#46039f"
            ],
            [
             0.2222222222222222,
             "#7201a8"
            ],
            [
             0.3333333333333333,
             "#9c179e"
            ],
            [
             0.4444444444444444,
             "#bd3786"
            ],
            [
             0.5555555555555556,
             "#d8576b"
            ],
            [
             0.6666666666666666,
             "#ed7953"
            ],
            [
             0.7777777777777778,
             "#fb9f3a"
            ],
            [
             0.8888888888888888,
             "#fdca26"
            ],
            [
             1,
             "#f0f921"
            ]
           ]
          },
          "colorway": [
           "#636efa",
           "#EF553B",
           "#00cc96",
           "#ab63fa",
           "#FFA15A",
           "#19d3f3",
           "#FF6692",
           "#B6E880",
           "#FF97FF",
           "#FECB52"
          ],
          "font": {
           "color": "#2a3f5f"
          },
          "geo": {
           "bgcolor": "white",
           "lakecolor": "white",
           "landcolor": "white",
           "showlakes": true,
           "showland": true,
           "subunitcolor": "#C8D4E3"
          },
          "hoverlabel": {
           "align": "left"
          },
          "hovermode": "closest",
          "mapbox": {
           "style": "light"
          },
          "paper_bgcolor": "white",
          "plot_bgcolor": "white",
          "polar": {
           "angularaxis": {
            "gridcolor": "#EBF0F8",
            "linecolor": "#EBF0F8",
            "ticks": ""
           },
           "bgcolor": "white",
           "radialaxis": {
            "gridcolor": "#EBF0F8",
            "linecolor": "#EBF0F8",
            "ticks": ""
           }
          },
          "scene": {
           "xaxis": {
            "backgroundcolor": "white",
            "gridcolor": "#DFE8F3",
            "gridwidth": 2,
            "linecolor": "#EBF0F8",
            "showbackground": true,
            "ticks": "",
            "zerolinecolor": "#EBF0F8"
           },
           "yaxis": {
            "backgroundcolor": "white",
            "gridcolor": "#DFE8F3",
            "gridwidth": 2,
            "linecolor": "#EBF0F8",
            "showbackground": true,
            "ticks": "",
            "zerolinecolor": "#EBF0F8"
           },
           "zaxis": {
            "backgroundcolor": "white",
            "gridcolor": "#DFE8F3",
            "gridwidth": 2,
            "linecolor": "#EBF0F8",
            "showbackground": true,
            "ticks": "",
            "zerolinecolor": "#EBF0F8"
           }
          },
          "shapedefaults": {
           "line": {
            "color": "#2a3f5f"
           }
          },
          "ternary": {
           "aaxis": {
            "gridcolor": "#DFE8F3",
            "linecolor": "#A2B1C6",
            "ticks": ""
           },
           "baxis": {
            "gridcolor": "#DFE8F3",
            "linecolor": "#A2B1C6",
            "ticks": ""
           },
           "bgcolor": "white",
           "caxis": {
            "gridcolor": "#DFE8F3",
            "linecolor": "#A2B1C6",
            "ticks": ""
           }
          },
          "title": {
           "x": 0.05
          },
          "xaxis": {
           "automargin": true,
           "gridcolor": "#EBF0F8",
           "linecolor": "#EBF0F8",
           "ticks": "",
           "title": {
            "standoff": 15
           },
           "zerolinecolor": "#EBF0F8",
           "zerolinewidth": 2
          },
          "yaxis": {
           "automargin": true,
           "gridcolor": "#EBF0F8",
           "linecolor": "#EBF0F8",
           "ticks": "",
           "title": {
            "standoff": 15
           },
           "zerolinecolor": "#EBF0F8",
           "zerolinewidth": 2
          }
         }
        },
        "title": {
         "text": "Average Seasonal Rainfall in India (1901 - 2015)"
        },
        "xaxis": {
         "anchor": "y",
         "domain": [
          0,
          1
         ],
         "title": {
          "text": "Season"
         }
        },
        "yaxis": {
         "anchor": "x",
         "domain": [
          0,
          1
         ],
         "title": {
          "text": "Rainfall (mm)"
         }
        }
       }
      }
     },
     "metadata": {},
     "output_type": "display_data"
    }
   ],
   "source": [
    "seasonal_columns = ['Jan-Feb', 'Mar-May', 'Jun-Sep', 'Oct-Dec']\n",
    "season_names = ['Winter (Jan-Feb)', 'Pre-Monsoon (Mar-May)', 'Monsoon (Jun-Sep)', 'Post-Monsoon (Oct-Dec)']\n",
    "\n",
    "seasonal_avg = df[seasonal_columns].mean().round(1)\n",
    "\n",
    "seasonal_df = pd.DataFrame({\n",
    "    'Season': season_names,\n",
    "    'Average Rainfall (mm)': seasonal_avg.values\n",
    "})\n",
    "\n",
    "fig = px.bar(\n",
    "    seasonal_df,\n",
    "    x='Season',\n",
    "    y='Average Rainfall (mm)',\n",
    "    text='Average Rainfall (mm)',\n",
    "    title='Average Seasonal Rainfall in India (1901 - 2015)',\n",
    "    template='plotly_white'\n",
    ")\n",
    "\n",
    "fig.update_layout(\n",
    "    xaxis_title='Season',\n",
    "    yaxis_title='Rainfall (mm)',\n",
    "    height=500\n",
    ")\n",
    "\n",
    "fig.show()"
   ]
  },
  {
   "cell_type": "markdown",
   "id": "92173367",
   "metadata": {},
   "source": [
    "#### Annual Rainfall with 10-Year Rolling Average\n",
    "\n",
    "To smooth short-term fluctuations and highlight long-term trends, we overlay a 10-year rolling average on the annual rainfall plot.\n"
   ]
  },
  {
   "cell_type": "code",
   "execution_count": 76,
   "id": "22dc4dcb",
   "metadata": {},
   "outputs": [
    {
     "data": {
      "application/vnd.plotly.v1+json": {
       "config": {
        "plotlyServerURL": "https://plot.ly"
       },
       "data": [
        {
         "hovertemplate": "Year=%{x}<br>Rainfall (mm)=%{y}<extra></extra>",
         "legendgroup": "",
         "line": {
          "color": "#636efa",
          "dash": "solid"
         },
         "marker": {
          "symbol": "circle"
         },
         "mode": "lines+markers",
         "name": "",
         "orientation": "v",
         "showlegend": false,
         "type": "scatter",
         "x": {
          "bdata": "bQduB28HcAdxB3IHcwd0B3UHdgd3B3gHeQd6B3sHfAd9B34HfweAB4EHggeDB4QHhQeGB4cHiAeJB4oHiweMB40HjgePB5AHkQeSB5MHlAeVB5YHlweYB5kHmgebB5wHnQeeB58HoAehB6IHowekB6UHpgenB6gHqQeqB6sHrAetB64HrwewB7EHsgezB7QHtQe2B7cHuAe5B7oHuwe8B70Hvge/B8AHwQfCB8MHxAfFB8YHxwfIB8kHygfLB8wHzQfOB88H0AfRB9IH0wfUB9UH1gfXB9gH2QfaB9sH3AfdB94H3wc=",
          "dtype": "i2"
         },
         "xaxis": "x",
         "y": {
          "bdata": "mZmZmZkhkEAzMzMzMxmQQAEAAAAAmpJAzczMzMzcj0CamZmZmXmOQGZmZmZm4JFAMzMzMzM/kEBnZmZmZiKRQP//////F5JAmpmZmZnBkkCamZmZmV2QQAAAAAAA2JBAZ2ZmZma0kEDMzMzMzPiSQM3MzMzMxJFA///////jlEDNzMzMzCCXQGdmZmZmCJBAmZmZmZlzlECZmZmZmV+QQMzMzMzMYJNAAAAAAADwkkA0MzMzM2GSQDMzMzMz0ZNAMzMzMzPpkkAzMzMzM3uTQGZmZmZmupNAMzMzMzMJk0ABAAAAAOKSQGZmZmZm5pJAzMzMzMyKlEDOzMzMzAqTQAAAAAAAxpVAAQAAAAAuk0D//////92RQM3MzMzM9pRAZ2ZmZmYIk0A0MzMzM2uUQAAAAAAAmJFAmpmZmZn5kkAAAAAAAOSQQGhmZmZmMpRAZ2ZmZmYIlED//////5uUQM3MzMzMJpNAAQAAAADSlEDNzMzMzFKTQJmZmZmZ95RAZmZmZmbik0ABAAAAAFKSQDMzMzMzlZBAzMzMzMxQkUBmZmZmZhqTQM3MzMzMcJJA//////9JlEAzMzMzM6mVQDIzMzMzaZJAAAAAAADMlEDNzMzMzJiVQJmZmZmZ85FAAAAAAADslUCamZmZmbGSQM3MzMzM6JJAZ2ZmZmZMk0ABAAAAAFSNQAAAAAAAoJBANDMzMzPxkUDNzMzMzHiQQMzMzMzM7pFAmpmZmZl7k0AAAAAAAAiTQGVmZmZmoo1AZ2ZmZmb4kkA0MzMzM0+QQM3MzMzMKJRAzszMzMySkUCamZmZmdmTQGdmZmZmXJNAAQAAAAD8j0BmZmZmZpaSQP//////TZJAzMzMzMz6kEAAAAAAAM6UQDMzMzMzD5JAmpmZmZnPkUAAAAAAAJqRQJmZmZmZ25BAmZmZmZkblUCZmZmZmYmRQGdmZmZm4pVAmpmZmZkfkkAyMzMzM4WRQDMzMzMzx5JAZmZmZmY+lEAzMzMzM2+TQDMzMzMzd5JAmpmZmZlNkkDNzMzMzG6TQAAAAAAAsJFAZmZmZmZqkEDNzMzMzOyQQJqZmZmZxYxAmpmZmZlZkkA0MzMzM72QQAEAAAAAQpNAmZmZmZm9kkAAAAAAAP6SQDMzMzMzsZFAZ2ZmZmb6jUCZmZmZmcGSQDQzMzMzWZFAAAAAAADGkEDOzMzMzACTQM3MzMzMJpBAZ2ZmZmYUkUA=",
          "dtype": "f8"
         },
         "yaxis": "y"
        },
        {
         "line": {
          "color": "red",
          "width": 3
         },
         "mode": "lines+markers",
         "name": "10-Year Rolling Avg",
         "type": "scatter",
         "x": {
          "bdata": "bQduB28HcAdxB3IHcwd0B3UHdgd3B3gHeQd6B3sHfAd9B34HfweAB4EHggeDB4QHhQeGB4cHiAeJB4oHiweMB40HjgePB5AHkQeSB5MHlAeVB5YHlweYB5kHmgebB5wHnQeeB58HoAehB6IHowekB6UHpgenB6gHqQeqB6sHrAetB64HrwewB7EHsgezB7QHtQe2B7cHuAe5B7oHuwe8B70Hvge/B8AHwQfCB8MHxAfFB8YHxwfIB8kHygfLB8wHzQfOB88H0AfRB9IH0wfUB9UH1gfXB9gH2QfaB9sH3AfdB94H3wc=",
          "dtype": "i2"
         },
         "y": {
          "bdata": "AAAAAAAA+H8AAAAAAAD4fwAAAAAAAPh/AAAAAAAA+H8AAAAAAAD4fwAAAAAAAPh/AAAAAAAA+H8AAAAAAAD4fwAAAAAAAPh/9ihcj8ICkUCkcD0K1wiRQAAAAAAAHJFAj8L1KFzrkEBcj8L1KDmRQFK4HoXreZFAhutRuB7HkUCPwvUoXHeSQDMzMzMzW5JA61G4HoWXkkDC9Shcj1qSQHE9Ctejp5JAXI/C9SjdkkCF61G4HgiTQB+F61G4HZNAAAAAAAA7k0B7FK5H4RaTQM3MzMzMv5JASOF6FK4Mk0DrUbgeheSSQIbrUbgeJZNAexSuR+FCk0BI4XoUrkWTQMP1KFyPnJNA4noUrkeMk0AVrkfhenGTQD4K16Nwl5NAcT0K16OFk0AqXI/C9aiTQFK4HoXrh5NAAAAAAACKk0DsUbgehSyTQNejcD0KSpNAFK5H4Xodk0CuR+F6FEKTQNajcD0KY5NAZmZmZmZfk0DNzMzMzGaTQHoUrkfhdJNAFa5H4Xqvk0BwPQrXo56TQM3MzMzMlpNAAAAAAABNk0C5HoXrUTWTQM3MzMzM/ZJAzczMzMwak0AK16NwPTCTQHsUrkfhGJNA7FG4HoUUk0BmZmZmZkCTQAAAAAAAN5NASOF6FK6/k0ApXI/C9eKTQHoUrkfh3ZNAzczMzMzzk0CkcD0K12OTQClcj8L14pJAAAAAAADXkkDhehSuR2iSQOtRuB6FCpJAHoXrUbgxkkAehetRuOeRQML1KFyPhJFArkfhehSGkUDrUbgehTmRQArXo3A9xpFAw/UoXI/ekUBmZmZmZg+SQD4K16NwWZJAHoXrUbgnkkAehetRuBCSQFyPwvUo/pFAFK5H4Xo1kkAUrkfhemSSQJDC9ShckZJA4noUrkdVkkAAAAAAAFaSQGZmZmZmCZJArkfhehQ2kkBI4XoUrl2SQIbrUbgespJAPgrXo3CtkkAK16NwPbuSQGZmZmZmh5JA4XoUrke/kkAehetRuOiSQM3MzMzM/pJAzczMzMwjk0DNzMzMzPiSQHE9Ctej/JJAwvUoXI9wkkBSuB6F61GSQB+F61G4AZJA9ihcj8L2kUDXo3A9Cp2RQJqZmZmZmJFAcT0K16OfkUC4HoXrUbGRQPYoXI/ChJFAR+F6FK4/kUAehetRuHuRQD4K16NwhpFA61G4HoXDkUAzMzMzM9SRQFyPwvUoxZFAPgrXo3CNkUA=",
          "dtype": "f8"
         }
        }
       ],
       "layout": {
        "legend": {
         "tracegroupgap": 0
        },
        "template": {
         "data": {
          "bar": [
           {
            "error_x": {
             "color": "#2a3f5f"
            },
            "error_y": {
             "color": "#2a3f5f"
            },
            "marker": {
             "line": {
              "color": "white",
              "width": 0.5
             },
             "pattern": {
              "fillmode": "overlay",
              "size": 10,
              "solidity": 0.2
             }
            },
            "type": "bar"
           }
          ],
          "barpolar": [
           {
            "marker": {
             "line": {
              "color": "white",
              "width": 0.5
             },
             "pattern": {
              "fillmode": "overlay",
              "size": 10,
              "solidity": 0.2
             }
            },
            "type": "barpolar"
           }
          ],
          "carpet": [
           {
            "aaxis": {
             "endlinecolor": "#2a3f5f",
             "gridcolor": "#C8D4E3",
             "linecolor": "#C8D4E3",
             "minorgridcolor": "#C8D4E3",
             "startlinecolor": "#2a3f5f"
            },
            "baxis": {
             "endlinecolor": "#2a3f5f",
             "gridcolor": "#C8D4E3",
             "linecolor": "#C8D4E3",
             "minorgridcolor": "#C8D4E3",
             "startlinecolor": "#2a3f5f"
            },
            "type": "carpet"
           }
          ],
          "choropleth": [
           {
            "colorbar": {
             "outlinewidth": 0,
             "ticks": ""
            },
            "type": "choropleth"
           }
          ],
          "contour": [
           {
            "colorbar": {
             "outlinewidth": 0,
             "ticks": ""
            },
            "colorscale": [
             [
              0,
              "#0d0887"
             ],
             [
              0.1111111111111111,
              "#46039f"
             ],
             [
              0.2222222222222222,
              "#7201a8"
             ],
             [
              0.3333333333333333,
              "#9c179e"
             ],
             [
              0.4444444444444444,
              "#bd3786"
             ],
             [
              0.5555555555555556,
              "#d8576b"
             ],
             [
              0.6666666666666666,
              "#ed7953"
             ],
             [
              0.7777777777777778,
              "#fb9f3a"
             ],
             [
              0.8888888888888888,
              "#fdca26"
             ],
             [
              1,
              "#f0f921"
             ]
            ],
            "type": "contour"
           }
          ],
          "contourcarpet": [
           {
            "colorbar": {
             "outlinewidth": 0,
             "ticks": ""
            },
            "type": "contourcarpet"
           }
          ],
          "heatmap": [
           {
            "colorbar": {
             "outlinewidth": 0,
             "ticks": ""
            },
            "colorscale": [
             [
              0,
              "#0d0887"
             ],
             [
              0.1111111111111111,
              "#46039f"
             ],
             [
              0.2222222222222222,
              "#7201a8"
             ],
             [
              0.3333333333333333,
              "#9c179e"
             ],
             [
              0.4444444444444444,
              "#bd3786"
             ],
             [
              0.5555555555555556,
              "#d8576b"
             ],
             [
              0.6666666666666666,
              "#ed7953"
             ],
             [
              0.7777777777777778,
              "#fb9f3a"
             ],
             [
              0.8888888888888888,
              "#fdca26"
             ],
             [
              1,
              "#f0f921"
             ]
            ],
            "type": "heatmap"
           }
          ],
          "histogram": [
           {
            "marker": {
             "pattern": {
              "fillmode": "overlay",
              "size": 10,
              "solidity": 0.2
             }
            },
            "type": "histogram"
           }
          ],
          "histogram2d": [
           {
            "colorbar": {
             "outlinewidth": 0,
             "ticks": ""
            },
            "colorscale": [
             [
              0,
              "#0d0887"
             ],
             [
              0.1111111111111111,
              "#46039f"
             ],
             [
              0.2222222222222222,
              "#7201a8"
             ],
             [
              0.3333333333333333,
              "#9c179e"
             ],
             [
              0.4444444444444444,
              "#bd3786"
             ],
             [
              0.5555555555555556,
              "#d8576b"
             ],
             [
              0.6666666666666666,
              "#ed7953"
             ],
             [
              0.7777777777777778,
              "#fb9f3a"
             ],
             [
              0.8888888888888888,
              "#fdca26"
             ],
             [
              1,
              "#f0f921"
             ]
            ],
            "type": "histogram2d"
           }
          ],
          "histogram2dcontour": [
           {
            "colorbar": {
             "outlinewidth": 0,
             "ticks": ""
            },
            "colorscale": [
             [
              0,
              "#0d0887"
             ],
             [
              0.1111111111111111,
              "#46039f"
             ],
             [
              0.2222222222222222,
              "#7201a8"
             ],
             [
              0.3333333333333333,
              "#9c179e"
             ],
             [
              0.4444444444444444,
              "#bd3786"
             ],
             [
              0.5555555555555556,
              "#d8576b"
             ],
             [
              0.6666666666666666,
              "#ed7953"
             ],
             [
              0.7777777777777778,
              "#fb9f3a"
             ],
             [
              0.8888888888888888,
              "#fdca26"
             ],
             [
              1,
              "#f0f921"
             ]
            ],
            "type": "histogram2dcontour"
           }
          ],
          "mesh3d": [
           {
            "colorbar": {
             "outlinewidth": 0,
             "ticks": ""
            },
            "type": "mesh3d"
           }
          ],
          "parcoords": [
           {
            "line": {
             "colorbar": {
              "outlinewidth": 0,
              "ticks": ""
             }
            },
            "type": "parcoords"
           }
          ],
          "pie": [
           {
            "automargin": true,
            "type": "pie"
           }
          ],
          "scatter": [
           {
            "fillpattern": {
             "fillmode": "overlay",
             "size": 10,
             "solidity": 0.2
            },
            "type": "scatter"
           }
          ],
          "scatter3d": [
           {
            "line": {
             "colorbar": {
              "outlinewidth": 0,
              "ticks": ""
             }
            },
            "marker": {
             "colorbar": {
              "outlinewidth": 0,
              "ticks": ""
             }
            },
            "type": "scatter3d"
           }
          ],
          "scattercarpet": [
           {
            "marker": {
             "colorbar": {
              "outlinewidth": 0,
              "ticks": ""
             }
            },
            "type": "scattercarpet"
           }
          ],
          "scattergeo": [
           {
            "marker": {
             "colorbar": {
              "outlinewidth": 0,
              "ticks": ""
             }
            },
            "type": "scattergeo"
           }
          ],
          "scattergl": [
           {
            "marker": {
             "colorbar": {
              "outlinewidth": 0,
              "ticks": ""
             }
            },
            "type": "scattergl"
           }
          ],
          "scattermap": [
           {
            "marker": {
             "colorbar": {
              "outlinewidth": 0,
              "ticks": ""
             }
            },
            "type": "scattermap"
           }
          ],
          "scattermapbox": [
           {
            "marker": {
             "colorbar": {
              "outlinewidth": 0,
              "ticks": ""
             }
            },
            "type": "scattermapbox"
           }
          ],
          "scatterpolar": [
           {
            "marker": {
             "colorbar": {
              "outlinewidth": 0,
              "ticks": ""
             }
            },
            "type": "scatterpolar"
           }
          ],
          "scatterpolargl": [
           {
            "marker": {
             "colorbar": {
              "outlinewidth": 0,
              "ticks": ""
             }
            },
            "type": "scatterpolargl"
           }
          ],
          "scatterternary": [
           {
            "marker": {
             "colorbar": {
              "outlinewidth": 0,
              "ticks": ""
             }
            },
            "type": "scatterternary"
           }
          ],
          "surface": [
           {
            "colorbar": {
             "outlinewidth": 0,
             "ticks": ""
            },
            "colorscale": [
             [
              0,
              "#0d0887"
             ],
             [
              0.1111111111111111,
              "#46039f"
             ],
             [
              0.2222222222222222,
              "#7201a8"
             ],
             [
              0.3333333333333333,
              "#9c179e"
             ],
             [
              0.4444444444444444,
              "#bd3786"
             ],
             [
              0.5555555555555556,
              "#d8576b"
             ],
             [
              0.6666666666666666,
              "#ed7953"
             ],
             [
              0.7777777777777778,
              "#fb9f3a"
             ],
             [
              0.8888888888888888,
              "#fdca26"
             ],
             [
              1,
              "#f0f921"
             ]
            ],
            "type": "surface"
           }
          ],
          "table": [
           {
            "cells": {
             "fill": {
              "color": "#EBF0F8"
             },
             "line": {
              "color": "white"
             }
            },
            "header": {
             "fill": {
              "color": "#C8D4E3"
             },
             "line": {
              "color": "white"
             }
            },
            "type": "table"
           }
          ]
         },
         "layout": {
          "annotationdefaults": {
           "arrowcolor": "#2a3f5f",
           "arrowhead": 0,
           "arrowwidth": 1
          },
          "autotypenumbers": "strict",
          "coloraxis": {
           "colorbar": {
            "outlinewidth": 0,
            "ticks": ""
           }
          },
          "colorscale": {
           "diverging": [
            [
             0,
             "#8e0152"
            ],
            [
             0.1,
             "#c51b7d"
            ],
            [
             0.2,
             "#de77ae"
            ],
            [
             0.3,
             "#f1b6da"
            ],
            [
             0.4,
             "#fde0ef"
            ],
            [
             0.5,
             "#f7f7f7"
            ],
            [
             0.6,
             "#e6f5d0"
            ],
            [
             0.7,
             "#b8e186"
            ],
            [
             0.8,
             "#7fbc41"
            ],
            [
             0.9,
             "#4d9221"
            ],
            [
             1,
             "#276419"
            ]
           ],
           "sequential": [
            [
             0,
             "#0d0887"
            ],
            [
             0.1111111111111111,
             "#46039f"
            ],
            [
             0.2222222222222222,
             "#7201a8"
            ],
            [
             0.3333333333333333,
             "#9c179e"
            ],
            [
             0.4444444444444444,
             "#bd3786"
            ],
            [
             0.5555555555555556,
             "#d8576b"
            ],
            [
             0.6666666666666666,
             "#ed7953"
            ],
            [
             0.7777777777777778,
             "#fb9f3a"
            ],
            [
             0.8888888888888888,
             "#fdca26"
            ],
            [
             1,
             "#f0f921"
            ]
           ],
           "sequentialminus": [
            [
             0,
             "#0d0887"
            ],
            [
             0.1111111111111111,
             "#46039f"
            ],
            [
             0.2222222222222222,
             "#7201a8"
            ],
            [
             0.3333333333333333,
             "#9c179e"
            ],
            [
             0.4444444444444444,
             "#bd3786"
            ],
            [
             0.5555555555555556,
             "#d8576b"
            ],
            [
             0.6666666666666666,
             "#ed7953"
            ],
            [
             0.7777777777777778,
             "#fb9f3a"
            ],
            [
             0.8888888888888888,
             "#fdca26"
            ],
            [
             1,
             "#f0f921"
            ]
           ]
          },
          "colorway": [
           "#636efa",
           "#EF553B",
           "#00cc96",
           "#ab63fa",
           "#FFA15A",
           "#19d3f3",
           "#FF6692",
           "#B6E880",
           "#FF97FF",
           "#FECB52"
          ],
          "font": {
           "color": "#2a3f5f"
          },
          "geo": {
           "bgcolor": "white",
           "lakecolor": "white",
           "landcolor": "white",
           "showlakes": true,
           "showland": true,
           "subunitcolor": "#C8D4E3"
          },
          "hoverlabel": {
           "align": "left"
          },
          "hovermode": "closest",
          "mapbox": {
           "style": "light"
          },
          "paper_bgcolor": "white",
          "plot_bgcolor": "white",
          "polar": {
           "angularaxis": {
            "gridcolor": "#EBF0F8",
            "linecolor": "#EBF0F8",
            "ticks": ""
           },
           "bgcolor": "white",
           "radialaxis": {
            "gridcolor": "#EBF0F8",
            "linecolor": "#EBF0F8",
            "ticks": ""
           }
          },
          "scene": {
           "xaxis": {
            "backgroundcolor": "white",
            "gridcolor": "#DFE8F3",
            "gridwidth": 2,
            "linecolor": "#EBF0F8",
            "showbackground": true,
            "ticks": "",
            "zerolinecolor": "#EBF0F8"
           },
           "yaxis": {
            "backgroundcolor": "white",
            "gridcolor": "#DFE8F3",
            "gridwidth": 2,
            "linecolor": "#EBF0F8",
            "showbackground": true,
            "ticks": "",
            "zerolinecolor": "#EBF0F8"
           },
           "zaxis": {
            "backgroundcolor": "white",
            "gridcolor": "#DFE8F3",
            "gridwidth": 2,
            "linecolor": "#EBF0F8",
            "showbackground": true,
            "ticks": "",
            "zerolinecolor": "#EBF0F8"
           }
          },
          "shapedefaults": {
           "line": {
            "color": "#2a3f5f"
           }
          },
          "ternary": {
           "aaxis": {
            "gridcolor": "#DFE8F3",
            "linecolor": "#A2B1C6",
            "ticks": ""
           },
           "baxis": {
            "gridcolor": "#DFE8F3",
            "linecolor": "#A2B1C6",
            "ticks": ""
           },
           "bgcolor": "white",
           "caxis": {
            "gridcolor": "#DFE8F3",
            "linecolor": "#A2B1C6",
            "ticks": ""
           }
          },
          "title": {
           "x": 0.05
          },
          "xaxis": {
           "automargin": true,
           "gridcolor": "#EBF0F8",
           "linecolor": "#EBF0F8",
           "ticks": "",
           "title": {
            "standoff": 15
           },
           "zerolinecolor": "#EBF0F8",
           "zerolinewidth": 2
          },
          "yaxis": {
           "automargin": true,
           "gridcolor": "#EBF0F8",
           "linecolor": "#EBF0F8",
           "ticks": "",
           "title": {
            "standoff": 15
           },
           "zerolinecolor": "#EBF0F8",
           "zerolinewidth": 2
          }
         }
        },
        "title": {
         "text": "Annual Rainfall Trend in India (1901–2015)"
        },
        "xaxis": {
         "anchor": "y",
         "domain": [
          0,
          1
         ],
         "title": {
          "text": "Year"
         }
        },
        "yaxis": {
         "anchor": "x",
         "domain": [
          0,
          1
         ],
         "title": {
          "text": "Rainfall (mm)"
         }
        }
       }
      }
     },
     "metadata": {},
     "output_type": "display_data"
    }
   ],
   "source": [
    "df['Annual'] = df[['JAN', 'FEB', 'MAR', 'APR', 'MAY', 'JUN', \n",
    "                   'JUL', 'AUG', 'SEP', 'OCT', 'NOV', 'DEC']].sum(axis=1)\n",
    "\n",
    "fig = px.line(\n",
    "    df, x='YEAR', \n",
    "    y='Annual',\n",
    "    title='Annual Rainfall Trend in India (1901–2015)',\n",
    "    labels={'YEAR': 'Year', 'Annual': 'Rainfall (mm)'},\n",
    "    template='plotly_white')\n",
    "\n",
    "fig.add_trace(go.Scatter(\n",
    "    x=df['YEAR'],\n",
    "    y=df['ANNUAL'].rolling(window=10).mean(),\n",
    "    mode='lines',\n",
    "    name='10-Year Rolling Avg',\n",
    "    line=dict(color='red', width=3)\n",
    "))\n",
    "\n",
    "fig.update_traces(mode='lines+markers')\n",
    "fig.show()"
   ]
  },
  {
   "cell_type": "markdown",
   "id": "7c2e3b25",
   "metadata": {},
   "source": [
    "#### Seasonal Rainfall Heatmap\n",
    "\n",
    "A heatmap helps visualize rainfall intensity across years and seasons. This gives an intuitive idea of changes in seasonal rainfall patterns over time."
   ]
  },
  {
   "cell_type": "code",
   "execution_count": 111,
   "id": "e3c29a8d",
   "metadata": {},
   "outputs": [
    {
     "data": {
      "application/vnd.plotly.v1+json": {
       "config": {
        "plotlyServerURL": "https://plot.ly"
       },
       "data": [
        {
         "coloraxis": "coloraxis",
         "histfunc": "sum",
         "hovertemplate": "Season=%{x}<br>YEAR=%{y}<br>sum of Rainfall=%{z}<extra></extra>",
         "name": "",
         "type": "histogram2d",
         "x": [
          "Jan-Feb",
          "Jan-Feb",
          "Jan-Feb",
          "Jan-Feb",
          "Jan-Feb",
          "Jan-Feb",
          "Jan-Feb",
          "Jan-Feb",
          "Jan-Feb",
          "Jan-Feb",
          "Jan-Feb",
          "Jan-Feb",
          "Jan-Feb",
          "Jan-Feb",
          "Jan-Feb",
          "Jan-Feb",
          "Jan-Feb",
          "Jan-Feb",
          "Jan-Feb",
          "Jan-Feb",
          "Jan-Feb",
          "Jan-Feb",
          "Jan-Feb",
          "Jan-Feb",
          "Jan-Feb",
          "Jan-Feb",
          "Jan-Feb",
          "Jan-Feb",
          "Jan-Feb",
          "Jan-Feb",
          "Jan-Feb",
          "Jan-Feb",
          "Jan-Feb",
          "Jan-Feb",
          "Jan-Feb",
          "Jan-Feb",
          "Jan-Feb",
          "Jan-Feb",
          "Jan-Feb",
          "Jan-Feb",
          "Jan-Feb",
          "Jan-Feb",
          "Jan-Feb",
          "Jan-Feb",
          "Jan-Feb",
          "Jan-Feb",
          "Jan-Feb",
          "Jan-Feb",
          "Jan-Feb",
          "Jan-Feb",
          "Jan-Feb",
          "Jan-Feb",
          "Jan-Feb",
          "Jan-Feb",
          "Jan-Feb",
          "Jan-Feb",
          "Jan-Feb",
          "Jan-Feb",
          "Jan-Feb",
          "Jan-Feb",
          "Jan-Feb",
          "Jan-Feb",
          "Jan-Feb",
          "Jan-Feb",
          "Jan-Feb",
          "Jan-Feb",
          "Jan-Feb",
          "Jan-Feb",
          "Jan-Feb",
          "Jan-Feb",
          "Jan-Feb",
          "Jan-Feb",
          "Jan-Feb",
          "Jan-Feb",
          "Jan-Feb",
          "Jan-Feb",
          "Jan-Feb",
          "Jan-Feb",
          "Jan-Feb",
          "Jan-Feb",
          "Jan-Feb",
          "Jan-Feb",
          "Jan-Feb",
          "Jan-Feb",
          "Jan-Feb",
          "Jan-Feb",
          "Jan-Feb",
          "Jan-Feb",
          "Jan-Feb",
          "Jan-Feb",
          "Jan-Feb",
          "Jan-Feb",
          "Jan-Feb",
          "Jan-Feb",
          "Jan-Feb",
          "Jan-Feb",
          "Jan-Feb",
          "Jan-Feb",
          "Jan-Feb",
          "Jan-Feb",
          "Jan-Feb",
          "Jan-Feb",
          "Jan-Feb",
          "Jan-Feb",
          "Jan-Feb",
          "Jan-Feb",
          "Jan-Feb",
          "Jan-Feb",
          "Jan-Feb",
          "Jan-Feb",
          "Jan-Feb",
          "Jan-Feb",
          "Jan-Feb",
          "Jan-Feb",
          "Jan-Feb",
          "Mar-May",
          "Mar-May",
          "Mar-May",
          "Mar-May",
          "Mar-May",
          "Mar-May",
          "Mar-May",
          "Mar-May",
          "Mar-May",
          "Mar-May",
          "Mar-May",
          "Mar-May",
          "Mar-May",
          "Mar-May",
          "Mar-May",
          "Mar-May",
          "Mar-May",
          "Mar-May",
          "Mar-May",
          "Mar-May",
          "Mar-May",
          "Mar-May",
          "Mar-May",
          "Mar-May",
          "Mar-May",
          "Mar-May",
          "Mar-May",
          "Mar-May",
          "Mar-May",
          "Mar-May",
          "Mar-May",
          "Mar-May",
          "Mar-May",
          "Mar-May",
          "Mar-May",
          "Mar-May",
          "Mar-May",
          "Mar-May",
          "Mar-May",
          "Mar-May",
          "Mar-May",
          "Mar-May",
          "Mar-May",
          "Mar-May",
          "Mar-May",
          "Mar-May",
          "Mar-May",
          "Mar-May",
          "Mar-May",
          "Mar-May",
          "Mar-May",
          "Mar-May",
          "Mar-May",
          "Mar-May",
          "Mar-May",
          "Mar-May",
          "Mar-May",
          "Mar-May",
          "Mar-May",
          "Mar-May",
          "Mar-May",
          "Mar-May",
          "Mar-May",
          "Mar-May",
          "Mar-May",
          "Mar-May",
          "Mar-May",
          "Mar-May",
          "Mar-May",
          "Mar-May",
          "Mar-May",
          "Mar-May",
          "Mar-May",
          "Mar-May",
          "Mar-May",
          "Mar-May",
          "Mar-May",
          "Mar-May",
          "Mar-May",
          "Mar-May",
          "Mar-May",
          "Mar-May",
          "Mar-May",
          "Mar-May",
          "Mar-May",
          "Mar-May",
          "Mar-May",
          "Mar-May",
          "Mar-May",
          "Mar-May",
          "Mar-May",
          "Mar-May",
          "Mar-May",
          "Mar-May",
          "Mar-May",
          "Mar-May",
          "Mar-May",
          "Mar-May",
          "Mar-May",
          "Mar-May",
          "Mar-May",
          "Mar-May",
          "Mar-May",
          "Mar-May",
          "Mar-May",
          "Mar-May",
          "Mar-May",
          "Mar-May",
          "Mar-May",
          "Mar-May",
          "Mar-May",
          "Mar-May",
          "Mar-May",
          "Mar-May",
          "Mar-May",
          "Jun-Sep",
          "Jun-Sep",
          "Jun-Sep",
          "Jun-Sep",
          "Jun-Sep",
          "Jun-Sep",
          "Jun-Sep",
          "Jun-Sep",
          "Jun-Sep",
          "Jun-Sep",
          "Jun-Sep",
          "Jun-Sep",
          "Jun-Sep",
          "Jun-Sep",
          "Jun-Sep",
          "Jun-Sep",
          "Jun-Sep",
          "Jun-Sep",
          "Jun-Sep",
          "Jun-Sep",
          "Jun-Sep",
          "Jun-Sep",
          "Jun-Sep",
          "Jun-Sep",
          "Jun-Sep",
          "Jun-Sep",
          "Jun-Sep",
          "Jun-Sep",
          "Jun-Sep",
          "Jun-Sep",
          "Jun-Sep",
          "Jun-Sep",
          "Jun-Sep",
          "Jun-Sep",
          "Jun-Sep",
          "Jun-Sep",
          "Jun-Sep",
          "Jun-Sep",
          "Jun-Sep",
          "Jun-Sep",
          "Jun-Sep",
          "Jun-Sep",
          "Jun-Sep",
          "Jun-Sep",
          "Jun-Sep",
          "Jun-Sep",
          "Jun-Sep",
          "Jun-Sep",
          "Jun-Sep",
          "Jun-Sep",
          "Jun-Sep",
          "Jun-Sep",
          "Jun-Sep",
          "Jun-Sep",
          "Jun-Sep",
          "Jun-Sep",
          "Jun-Sep",
          "Jun-Sep",
          "Jun-Sep",
          "Jun-Sep",
          "Jun-Sep",
          "Jun-Sep",
          "Jun-Sep",
          "Jun-Sep",
          "Jun-Sep",
          "Jun-Sep",
          "Jun-Sep",
          "Jun-Sep",
          "Jun-Sep",
          "Jun-Sep",
          "Jun-Sep",
          "Jun-Sep",
          "Jun-Sep",
          "Jun-Sep",
          "Jun-Sep",
          "Jun-Sep",
          "Jun-Sep",
          "Jun-Sep",
          "Jun-Sep",
          "Jun-Sep",
          "Jun-Sep",
          "Jun-Sep",
          "Jun-Sep",
          "Jun-Sep",
          "Jun-Sep",
          "Jun-Sep",
          "Jun-Sep",
          "Jun-Sep",
          "Jun-Sep",
          "Jun-Sep",
          "Jun-Sep",
          "Jun-Sep",
          "Jun-Sep",
          "Jun-Sep",
          "Jun-Sep",
          "Jun-Sep",
          "Jun-Sep",
          "Jun-Sep",
          "Jun-Sep",
          "Jun-Sep",
          "Jun-Sep",
          "Jun-Sep",
          "Jun-Sep",
          "Jun-Sep",
          "Jun-Sep",
          "Jun-Sep",
          "Jun-Sep",
          "Jun-Sep",
          "Jun-Sep",
          "Jun-Sep",
          "Jun-Sep",
          "Jun-Sep",
          "Jun-Sep",
          "Jun-Sep",
          "Jun-Sep",
          "Oct-Dec",
          "Oct-Dec",
          "Oct-Dec",
          "Oct-Dec",
          "Oct-Dec",
          "Oct-Dec",
          "Oct-Dec",
          "Oct-Dec",
          "Oct-Dec",
          "Oct-Dec",
          "Oct-Dec",
          "Oct-Dec",
          "Oct-Dec",
          "Oct-Dec",
          "Oct-Dec",
          "Oct-Dec",
          "Oct-Dec",
          "Oct-Dec",
          "Oct-Dec",
          "Oct-Dec",
          "Oct-Dec",
          "Oct-Dec",
          "Oct-Dec",
          "Oct-Dec",
          "Oct-Dec",
          "Oct-Dec",
          "Oct-Dec",
          "Oct-Dec",
          "Oct-Dec",
          "Oct-Dec",
          "Oct-Dec",
          "Oct-Dec",
          "Oct-Dec",
          "Oct-Dec",
          "Oct-Dec",
          "Oct-Dec",
          "Oct-Dec",
          "Oct-Dec",
          "Oct-Dec",
          "Oct-Dec",
          "Oct-Dec",
          "Oct-Dec",
          "Oct-Dec",
          "Oct-Dec",
          "Oct-Dec",
          "Oct-Dec",
          "Oct-Dec",
          "Oct-Dec",
          "Oct-Dec",
          "Oct-Dec",
          "Oct-Dec",
          "Oct-Dec",
          "Oct-Dec",
          "Oct-Dec",
          "Oct-Dec",
          "Oct-Dec",
          "Oct-Dec",
          "Oct-Dec",
          "Oct-Dec",
          "Oct-Dec",
          "Oct-Dec",
          "Oct-Dec",
          "Oct-Dec",
          "Oct-Dec",
          "Oct-Dec",
          "Oct-Dec",
          "Oct-Dec",
          "Oct-Dec",
          "Oct-Dec",
          "Oct-Dec",
          "Oct-Dec",
          "Oct-Dec",
          "Oct-Dec",
          "Oct-Dec",
          "Oct-Dec",
          "Oct-Dec",
          "Oct-Dec",
          "Oct-Dec",
          "Oct-Dec",
          "Oct-Dec",
          "Oct-Dec",
          "Oct-Dec",
          "Oct-Dec",
          "Oct-Dec",
          "Oct-Dec",
          "Oct-Dec",
          "Oct-Dec",
          "Oct-Dec",
          "Oct-Dec",
          "Oct-Dec",
          "Oct-Dec",
          "Oct-Dec",
          "Oct-Dec",
          "Oct-Dec",
          "Oct-Dec",
          "Oct-Dec",
          "Oct-Dec",
          "Oct-Dec",
          "Oct-Dec",
          "Oct-Dec",
          "Oct-Dec",
          "Oct-Dec",
          "Oct-Dec",
          "Oct-Dec",
          "Oct-Dec",
          "Oct-Dec",
          "Oct-Dec",
          "Oct-Dec",
          "Oct-Dec",
          "Oct-Dec",
          "Oct-Dec",
          "Oct-Dec",
          "Oct-Dec",
          "Oct-Dec",
          "Oct-Dec"
         ],
         "xaxis": "x",
         "xbingroup": "x",
         "y": {
          "bdata": "bQduB28HcAdxB3IHcwd0B3UHdgd3B3gHeQd6B3sHfAd9B34HfweAB4EHggeDB4QHhQeGB4cHiAeJB4oHiweMB40HjgePB5AHkQeSB5MHlAeVB5YHlweYB5kHmgebB5wHnQeeB58HoAehB6IHowekB6UHpgenB6gHqQeqB6sHrAetB64HrwewB7EHsgezB7QHtQe2B7cHuAe5B7oHuwe8B70Hvge/B8AHwQfCB8MHxAfFB8YHxwfIB8kHygfLB8wHzQfOB88H0AfRB9IH0wfUB9UH1gfXB9gH2QfaB9sH3AfdB94H3wdtB24HbwdwB3EHcgdzB3QHdQd2B3cHeAd5B3oHewd8B30Hfgd/B4AHgQeCB4MHhAeFB4YHhweIB4kHigeLB4wHjQeOB48HkAeRB5IHkweUB5UHlgeXB5gHmQeaB5sHnAedB54HnwegB6EHogejB6QHpQemB6cHqAepB6oHqwesB60HrgevB7AHsQeyB7MHtAe1B7YHtwe4B7kHuge7B7wHvQe+B78HwAfBB8IHwwfEB8UHxgfHB8gHyQfKB8sHzAfNB84HzwfQB9EH0gfTB9QH1QfWB9cH2AfZB9oH2wfcB90H3gffB20HbgdvB3AHcQdyB3MHdAd1B3YHdwd4B3kHegd7B3wHfQd+B38HgAeBB4IHgweEB4UHhgeHB4gHiQeKB4sHjAeNB44HjweQB5EHkgeTB5QHlQeWB5cHmAeZB5oHmwecB50HngefB6AHoQeiB6MHpAelB6YHpweoB6kHqgerB6wHrQeuB68HsAexB7IHswe0B7UHtge3B7gHuQe6B7sHvAe9B74HvwfAB8EHwgfDB8QHxQfGB8cHyAfJB8oHywfMB80HzgfPB9AH0QfSB9MH1AfVB9YH1wfYB9kH2gfbB9wH3QfeB98HbQduB28HcAdxB3IHcwd0B3UHdgd3B3gHeQd6B3sHfAd9B34HfweAB4EHggeDB4QHhQeGB4cHiAeJB4oHiweMB40HjgePB5AHkQeSB5MHlAeVB5YHlweYB5kHmgebB5wHnQeeB58HoAehB6IHowekB6UHpgenB6gHqQeqB6sHrAetB64HrwewB7EHsgezB7QHtQe2B7cHuAe5B7oHuwe8B70Hvge/B8AHwQfCB8MHxAfFB8YHxwfIB8kHygfLB8wHzQfOB88H0AfRB9IH0wfUB9UH1gfXB9gH2QfaB9sH3AfdB94H3wc=",
          "dtype": "i2"
         },
         "yaxis": "y",
         "ybingroup": "y",
         "z": {
          "bdata": "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",
          "dtype": "f8"
         }
        }
       ],
       "layout": {
        "coloraxis": {
         "colorbar": {
          "title": {
           "text": "sum of Rainfall"
          }
         },
         "colorscale": [
          [
           0,
           "#440154"
          ],
          [
           0.1111111111111111,
           "#482878"
          ],
          [
           0.2222222222222222,
           "#3e4989"
          ],
          [
           0.3333333333333333,
           "#31688e"
          ],
          [
           0.4444444444444444,
           "#26828e"
          ],
          [
           0.5555555555555556,
           "#1f9e89"
          ],
          [
           0.6666666666666666,
           "#35b779"
          ],
          [
           0.7777777777777778,
           "#6ece58"
          ],
          [
           0.8888888888888888,
           "#b5de2b"
          ],
          [
           1,
           "#fde725"
          ]
         ]
        },
        "height": 700,
        "legend": {
         "tracegroupgap": 0
        },
        "template": {
         "data": {
          "bar": [
           {
            "error_x": {
             "color": "#2a3f5f"
            },
            "error_y": {
             "color": "#2a3f5f"
            },
            "marker": {
             "line": {
              "color": "#E5ECF6",
              "width": 0.5
             },
             "pattern": {
              "fillmode": "overlay",
              "size": 10,
              "solidity": 0.2
             }
            },
            "type": "bar"
           }
          ],
          "barpolar": [
           {
            "marker": {
             "line": {
              "color": "#E5ECF6",
              "width": 0.5
             },
             "pattern": {
              "fillmode": "overlay",
              "size": 10,
              "solidity": 0.2
             }
            },
            "type": "barpolar"
           }
          ],
          "carpet": [
           {
            "aaxis": {
             "endlinecolor": "#2a3f5f",
             "gridcolor": "white",
             "linecolor": "white",
             "minorgridcolor": "white",
             "startlinecolor": "#2a3f5f"
            },
            "baxis": {
             "endlinecolor": "#2a3f5f",
             "gridcolor": "white",
             "linecolor": "white",
             "minorgridcolor": "white",
             "startlinecolor": "#2a3f5f"
            },
            "type": "carpet"
           }
          ],
          "choropleth": [
           {
            "colorbar": {
             "outlinewidth": 0,
             "ticks": ""
            },
            "type": "choropleth"
           }
          ],
          "contour": [
           {
            "colorbar": {
             "outlinewidth": 0,
             "ticks": ""
            },
            "colorscale": [
             [
              0,
              "#0d0887"
             ],
             [
              0.1111111111111111,
              "#46039f"
             ],
             [
              0.2222222222222222,
              "#7201a8"
             ],
             [
              0.3333333333333333,
              "#9c179e"
             ],
             [
              0.4444444444444444,
              "#bd3786"
             ],
             [
              0.5555555555555556,
              "#d8576b"
             ],
             [
              0.6666666666666666,
              "#ed7953"
             ],
             [
              0.7777777777777778,
              "#fb9f3a"
             ],
             [
              0.8888888888888888,
              "#fdca26"
             ],
             [
              1,
              "#f0f921"
             ]
            ],
            "type": "contour"
           }
          ],
          "contourcarpet": [
           {
            "colorbar": {
             "outlinewidth": 0,
             "ticks": ""
            },
            "type": "contourcarpet"
           }
          ],
          "heatmap": [
           {
            "colorbar": {
             "outlinewidth": 0,
             "ticks": ""
            },
            "colorscale": [
             [
              0,
              "#0d0887"
             ],
             [
              0.1111111111111111,
              "#46039f"
             ],
             [
              0.2222222222222222,
              "#7201a8"
             ],
             [
              0.3333333333333333,
              "#9c179e"
             ],
             [
              0.4444444444444444,
              "#bd3786"
             ],
             [
              0.5555555555555556,
              "#d8576b"
             ],
             [
              0.6666666666666666,
              "#ed7953"
             ],
             [
              0.7777777777777778,
              "#fb9f3a"
             ],
             [
              0.8888888888888888,
              "#fdca26"
             ],
             [
              1,
              "#f0f921"
             ]
            ],
            "type": "heatmap"
           }
          ],
          "histogram": [
           {
            "marker": {
             "pattern": {
              "fillmode": "overlay",
              "size": 10,
              "solidity": 0.2
             }
            },
            "type": "histogram"
           }
          ],
          "histogram2d": [
           {
            "colorbar": {
             "outlinewidth": 0,
             "ticks": ""
            },
            "colorscale": [
             [
              0,
              "#0d0887"
             ],
             [
              0.1111111111111111,
              "#46039f"
             ],
             [
              0.2222222222222222,
              "#7201a8"
             ],
             [
              0.3333333333333333,
              "#9c179e"
             ],
             [
              0.4444444444444444,
              "#bd3786"
             ],
             [
              0.5555555555555556,
              "#d8576b"
             ],
             [
              0.6666666666666666,
              "#ed7953"
             ],
             [
              0.7777777777777778,
              "#fb9f3a"
             ],
             [
              0.8888888888888888,
              "#fdca26"
             ],
             [
              1,
              "#f0f921"
             ]
            ],
            "type": "histogram2d"
           }
          ],
          "histogram2dcontour": [
           {
            "colorbar": {
             "outlinewidth": 0,
             "ticks": ""
            },
            "colorscale": [
             [
              0,
              "#0d0887"
             ],
             [
              0.1111111111111111,
              "#46039f"
             ],
             [
              0.2222222222222222,
              "#7201a8"
             ],
             [
              0.3333333333333333,
              "#9c179e"
             ],
             [
              0.4444444444444444,
              "#bd3786"
             ],
             [
              0.5555555555555556,
              "#d8576b"
             ],
             [
              0.6666666666666666,
              "#ed7953"
             ],
             [
              0.7777777777777778,
              "#fb9f3a"
             ],
             [
              0.8888888888888888,
              "#fdca26"
             ],
             [
              1,
              "#f0f921"
             ]
            ],
            "type": "histogram2dcontour"
           }
          ],
          "mesh3d": [
           {
            "colorbar": {
             "outlinewidth": 0,
             "ticks": ""
            },
            "type": "mesh3d"
           }
          ],
          "parcoords": [
           {
            "line": {
             "colorbar": {
              "outlinewidth": 0,
              "ticks": ""
             }
            },
            "type": "parcoords"
           }
          ],
          "pie": [
           {
            "automargin": true,
            "type": "pie"
           }
          ],
          "scatter": [
           {
            "fillpattern": {
             "fillmode": "overlay",
             "size": 10,
             "solidity": 0.2
            },
            "type": "scatter"
           }
          ],
          "scatter3d": [
           {
            "line": {
             "colorbar": {
              "outlinewidth": 0,
              "ticks": ""
             }
            },
            "marker": {
             "colorbar": {
              "outlinewidth": 0,
              "ticks": ""
             }
            },
            "type": "scatter3d"
           }
          ],
          "scattercarpet": [
           {
            "marker": {
             "colorbar": {
              "outlinewidth": 0,
              "ticks": ""
             }
            },
            "type": "scattercarpet"
           }
          ],
          "scattergeo": [
           {
            "marker": {
             "colorbar": {
              "outlinewidth": 0,
              "ticks": ""
             }
            },
            "type": "scattergeo"
           }
          ],
          "scattergl": [
           {
            "marker": {
             "colorbar": {
              "outlinewidth": 0,
              "ticks": ""
             }
            },
            "type": "scattergl"
           }
          ],
          "scattermap": [
           {
            "marker": {
             "colorbar": {
              "outlinewidth": 0,
              "ticks": ""
             }
            },
            "type": "scattermap"
           }
          ],
          "scattermapbox": [
           {
            "marker": {
             "colorbar": {
              "outlinewidth": 0,
              "ticks": ""
             }
            },
            "type": "scattermapbox"
           }
          ],
          "scatterpolar": [
           {
            "marker": {
             "colorbar": {
              "outlinewidth": 0,
              "ticks": ""
             }
            },
            "type": "scatterpolar"
           }
          ],
          "scatterpolargl": [
           {
            "marker": {
             "colorbar": {
              "outlinewidth": 0,
              "ticks": ""
             }
            },
            "type": "scatterpolargl"
           }
          ],
          "scatterternary": [
           {
            "marker": {
             "colorbar": {
              "outlinewidth": 0,
              "ticks": ""
             }
            },
            "type": "scatterternary"
           }
          ],
          "surface": [
           {
            "colorbar": {
             "outlinewidth": 0,
             "ticks": ""
            },
            "colorscale": [
             [
              0,
              "#0d0887"
             ],
             [
              0.1111111111111111,
              "#46039f"
             ],
             [
              0.2222222222222222,
              "#7201a8"
             ],
             [
              0.3333333333333333,
              "#9c179e"
             ],
             [
              0.4444444444444444,
              "#bd3786"
             ],
             [
              0.5555555555555556,
              "#d8576b"
             ],
             [
              0.6666666666666666,
              "#ed7953"
             ],
             [
              0.7777777777777778,
              "#fb9f3a"
             ],
             [
              0.8888888888888888,
              "#fdca26"
             ],
             [
              1,
              "#f0f921"
             ]
            ],
            "type": "surface"
           }
          ],
          "table": [
           {
            "cells": {
             "fill": {
              "color": "#EBF0F8"
             },
             "line": {
              "color": "white"
             }
            },
            "header": {
             "fill": {
              "color": "#C8D4E3"
             },
             "line": {
              "color": "white"
             }
            },
            "type": "table"
           }
          ]
         },
         "layout": {
          "annotationdefaults": {
           "arrowcolor": "#2a3f5f",
           "arrowhead": 0,
           "arrowwidth": 1
          },
          "autotypenumbers": "strict",
          "coloraxis": {
           "colorbar": {
            "outlinewidth": 0,
            "ticks": ""
           }
          },
          "colorscale": {
           "diverging": [
            [
             0,
             "#8e0152"
            ],
            [
             0.1,
             "#c51b7d"
            ],
            [
             0.2,
             "#de77ae"
            ],
            [
             0.3,
             "#f1b6da"
            ],
            [
             0.4,
             "#fde0ef"
            ],
            [
             0.5,
             "#f7f7f7"
            ],
            [
             0.6,
             "#e6f5d0"
            ],
            [
             0.7,
             "#b8e186"
            ],
            [
             0.8,
             "#7fbc41"
            ],
            [
             0.9,
             "#4d9221"
            ],
            [
             1,
             "#276419"
            ]
           ],
           "sequential": [
            [
             0,
             "#0d0887"
            ],
            [
             0.1111111111111111,
             "#46039f"
            ],
            [
             0.2222222222222222,
             "#7201a8"
            ],
            [
             0.3333333333333333,
             "#9c179e"
            ],
            [
             0.4444444444444444,
             "#bd3786"
            ],
            [
             0.5555555555555556,
             "#d8576b"
            ],
            [
             0.6666666666666666,
             "#ed7953"
            ],
            [
             0.7777777777777778,
             "#fb9f3a"
            ],
            [
             0.8888888888888888,
             "#fdca26"
            ],
            [
             1,
             "#f0f921"
            ]
           ],
           "sequentialminus": [
            [
             0,
             "#0d0887"
            ],
            [
             0.1111111111111111,
             "#46039f"
            ],
            [
             0.2222222222222222,
             "#7201a8"
            ],
            [
             0.3333333333333333,
             "#9c179e"
            ],
            [
             0.4444444444444444,
             "#bd3786"
            ],
            [
             0.5555555555555556,
             "#d8576b"
            ],
            [
             0.6666666666666666,
             "#ed7953"
            ],
            [
             0.7777777777777778,
             "#fb9f3a"
            ],
            [
             0.8888888888888888,
             "#fdca26"
            ],
            [
             1,
             "#f0f921"
            ]
           ]
          },
          "colorway": [
           "#636efa",
           "#EF553B",
           "#00cc96",
           "#ab63fa",
           "#FFA15A",
           "#19d3f3",
           "#FF6692",
           "#B6E880",
           "#FF97FF",
           "#FECB52"
          ],
          "font": {
           "color": "#2a3f5f"
          },
          "geo": {
           "bgcolor": "white",
           "lakecolor": "white",
           "landcolor": "#E5ECF6",
           "showlakes": true,
           "showland": true,
           "subunitcolor": "white"
          },
          "hoverlabel": {
           "align": "left"
          },
          "hovermode": "closest",
          "mapbox": {
           "style": "light"
          },
          "paper_bgcolor": "white",
          "plot_bgcolor": "#E5ECF6",
          "polar": {
           "angularaxis": {
            "gridcolor": "white",
            "linecolor": "white",
            "ticks": ""
           },
           "bgcolor": "#E5ECF6",
           "radialaxis": {
            "gridcolor": "white",
            "linecolor": "white",
            "ticks": ""
           }
          },
          "scene": {
           "xaxis": {
            "backgroundcolor": "#E5ECF6",
            "gridcolor": "white",
            "gridwidth": 2,
            "linecolor": "white",
            "showbackground": true,
            "ticks": "",
            "zerolinecolor": "white"
           },
           "yaxis": {
            "backgroundcolor": "#E5ECF6",
            "gridcolor": "white",
            "gridwidth": 2,
            "linecolor": "white",
            "showbackground": true,
            "ticks": "",
            "zerolinecolor": "white"
           },
           "zaxis": {
            "backgroundcolor": "#E5ECF6",
            "gridcolor": "white",
            "gridwidth": 2,
            "linecolor": "white",
            "showbackground": true,
            "ticks": "",
            "zerolinecolor": "white"
           }
          },
          "shapedefaults": {
           "line": {
            "color": "#2a3f5f"
           }
          },
          "ternary": {
           "aaxis": {
            "gridcolor": "white",
            "linecolor": "white",
            "ticks": ""
           },
           "baxis": {
            "gridcolor": "white",
            "linecolor": "white",
            "ticks": ""
           },
           "bgcolor": "#E5ECF6",
           "caxis": {
            "gridcolor": "white",
            "linecolor": "white",
            "ticks": ""
           }
          },
          "title": {
           "x": 0.05
          },
          "xaxis": {
           "automargin": true,
           "gridcolor": "white",
           "linecolor": "white",
           "ticks": "",
           "title": {
            "standoff": 15
           },
           "zerolinecolor": "white",
           "zerolinewidth": 2
          },
          "yaxis": {
           "automargin": true,
           "gridcolor": "white",
           "linecolor": "white",
           "ticks": "",
           "title": {
            "standoff": 15
           },
           "zerolinecolor": "white",
           "zerolinewidth": 2
          }
         }
        },
        "title": {
         "text": "Seasonal Rainfall Distribution (Heatmap)"
        },
        "xaxis": {
         "anchor": "y",
         "domain": [
          0,
          1
         ],
         "title": {
          "text": "Season"
         }
        },
        "yaxis": {
         "anchor": "x",
         "domain": [
          0,
          1
         ],
         "nticks": 20,
         "title": {
          "text": "YEAR"
         }
        }
       }
      }
     },
     "metadata": {},
     "output_type": "display_data"
    }
   ],
   "source": [
    "heatmap_df = df[['YEAR'] + seasonal_columns].copy()\n",
    "heatmap_df = heatmap_df.melt(id_vars='YEAR', var_name='Season', value_name='Rainfall')\n",
    "\n",
    "fig = px.density_heatmap(\n",
    "    heatmap_df,\n",
    "    x='Season',\n",
    "    y='YEAR',\n",
    "    z='Rainfall',\n",
    "    color_continuous_scale='Viridis',\n",
    "    title='Seasonal Rainfall Distribution (Heatmap)',\n",
    "    height=700\n",
    ")\n",
    "\n",
    "fig.update_layout(yaxis_nticks=20)\n",
    "fig.show()"
   ]
  },
  {
   "cell_type": "markdown",
   "id": "267e4632",
   "metadata": {},
   "source": [
    "#### Anomaly Detection (Statistical)\n",
    "\n",
    "Using standard deviation thresholds, we classify years with extremely high or low rainfall as anomalies, and plot them along with the mean line."
   ]
  },
  {
   "cell_type": "code",
   "execution_count": null,
   "id": "bffc5266",
   "metadata": {},
   "outputs": [
    {
     "data": {
      "application/vnd.plotly.v1+json": {
       "config": {
        "plotlyServerURL": "https://plot.ly"
       },
       "data": [
        {
         "hovertemplate": "Anomaly=Normal<br>Year=%{x}<br>Rainfall (mm)=%{y}<extra></extra>",
         "legendgroup": "Normal",
         "marker": {
          "color": "gray",
          "symbol": "circle"
         },
         "mode": "markers",
         "name": "Normal",
         "orientation": "v",
         "showlegend": true,
         "type": "scatter",
         "x": {
          "bdata": "bQduB28HcAdyB3MHdAd1B3YHdwd4B3kHegd7B3wHfgd/B4AHgQeCB4MHhAeFB4YHhweIB4kHigeLB4wHjgePB5AHkQeSB5MHlAeVB5YHlweYB5kHmgebB5wHnQeeB58HoAehB6IHowelB6YHqAeqB6sHrAeuB68HsAexB7IHswe1B7YHtwe4B7kHuge7B7wHvQe+B78HwAfBB8IHwwfFB8cHyAfJB8oHywfMB80HzgfPB9AH0QfTB9QH1QfWB9cH2AfaB9sH3AfdB94H3wc=",
          "dtype": "i2"
         },
         "xaxis": "x",
         "y": {
          "bdata": "mZmZmZkhkEAzMzMzMxmQQAEAAAAAmpJAzczMzMzcj0BmZmZmZuCRQDMzMzMzP5BAZ2ZmZmYikUD//////xeSQJqZmZmZwZJAmpmZmZldkEAAAAAAANiQQGdmZmZmtJBAzMzMzMz4kkDNzMzMzMSRQP//////45RAZ2ZmZmYIkECZmZmZmXOUQJmZmZmZX5BAzMzMzMxgk0AAAAAAAPCSQDQzMzMzYZJAMzMzMzPRk0AzMzMzM+mSQDMzMzMze5NAZmZmZma6k0AzMzMzMwmTQAEAAAAA4pJAZmZmZmbmkkDMzMzMzIqUQM7MzMzMCpNAAQAAAAAuk0D//////92RQM3MzMzM9pRAZ2ZmZmYIk0A0MzMzM2uUQAAAAAAAmJFAmpmZmZn5kkAAAAAAAOSQQGhmZmZmMpRAZ2ZmZmYIlED//////5uUQM3MzMzMJpNAAQAAAADSlEDNzMzMzFKTQJmZmZmZ95RAZmZmZmbik0ABAAAAAFKSQDMzMzMzlZBAzMzMzMxQkUBmZmZmZhqTQM3MzMzMcJJA//////9JlEAyMzMzM2mSQAAAAAAAzJRAmZmZmZnzkUCamZmZmbGSQM3MzMzM6JJAZ2ZmZmZMk0AAAAAAAKCQQDQzMzMz8ZFAzczMzMx4kEDMzMzMzO6RQJqZmZmZe5NAAAAAAAAIk0BnZmZmZviSQDQzMzMzT5BAzczMzMwolEDOzMzMzJKRQJqZmZmZ2ZNAZ2ZmZmZck0ABAAAAAPyPQGZmZmZmlpJA//////9NkkDMzMzMzPqQQAAAAAAAzpRAMzMzMzMPkkCamZmZmc+RQAAAAAAAmpFAmZmZmZnbkECZmZmZmYmRQJqZmZmZH5JAMjMzMzOFkUAzMzMzM8eSQGZmZmZmPpRAMzMzMzNvk0AzMzMzM3eSQJqZmZmZTZJAzczMzMxuk0AAAAAAALCRQGZmZmZmapBAzczMzMzskECamZmZmVmSQDQzMzMzvZBAAQAAAABCk0CZmZmZmb2SQAAAAAAA/pJAMzMzMzOxkUCZmZmZmcGSQDQzMzMzWZFAAAAAAADGkEDOzMzMzACTQM3MzMzMJpBAZ2ZmZmYUkUA=",
          "dtype": "f8"
         },
         "yaxis": "y"
        },
        {
         "hovertemplate": "Anomaly=Low<br>Year=%{x}<br>Rainfall (mm)=%{y}<extra></extra>",
         "legendgroup": "Low",
         "marker": {
          "color": "blue",
          "symbol": "circle"
         },
         "mode": "markers",
         "name": "Low",
         "orientation": "v",
         "showlegend": true,
         "type": "scatter",
         "x": {
          "bdata": "cQetB7QH0gfZBw==",
          "dtype": "i2"
         },
         "xaxis": "x",
         "y": {
          "bdata": "mpmZmZl5jkABAAAAAFSNQGVmZmZmoo1AmpmZmZnFjEBnZmZmZvqNQA==",
          "dtype": "f8"
         },
         "yaxis": "y"
        },
        {
         "hovertemplate": "Anomaly=High<br>Year=%{x}<br>Rainfall (mm)=%{y}<extra></extra>",
         "legendgroup": "High",
         "marker": {
          "color": "red",
          "symbol": "circle"
         },
         "mode": "markers",
         "name": "High",
         "orientation": "v",
         "showlegend": true,
         "type": "scatter",
         "x": {
          "bdata": "fQeNB6QHpwepB8QHxgc=",
          "dtype": "i2"
         },
         "xaxis": "x",
         "y": {
          "bdata": "zczMzMwgl0AAAAAAAMaVQDMzMzMzqZVAzczMzMyYlUAAAAAAAOyVQJmZmZmZG5VAZ2ZmZmbilUA=",
          "dtype": "f8"
         },
         "yaxis": "y"
        }
       ],
       "layout": {
        "annotations": [
         {
          "showarrow": false,
          "text": "Mean",
          "x": 1,
          "xanchor": "right",
          "xref": "x domain",
          "y": 1182.0278260869568,
          "yanchor": "bottom",
          "yref": "y"
         },
         {
          "arrowhead": 2,
          "ax": 0,
          "ay": -30,
          "font": {
           "color": "black",
           "size": 10
          },
          "showarrow": true,
          "text": "1905",
          "x": 1905,
          "y": 975.2
         },
         {
          "arrowhead": 2,
          "ax": 0,
          "ay": -30,
          "font": {
           "color": "black",
           "size": 10
          },
          "showarrow": true,
          "text": "1917",
          "x": 1917,
          "y": 1480.2
         },
         {
          "arrowhead": 2,
          "ax": 0,
          "ay": -30,
          "font": {
           "color": "black",
           "size": 10
          },
          "showarrow": true,
          "text": "1933",
          "x": 1933,
          "y": 1393.5
         },
         {
          "arrowhead": 2,
          "ax": 0,
          "ay": -30,
          "font": {
           "color": "black",
           "size": 10
          },
          "showarrow": true,
          "text": "1956",
          "x": 1956,
          "y": 1386.3
         },
         {
          "arrowhead": 2,
          "ax": 0,
          "ay": -30,
          "font": {
           "color": "black",
           "size": 10
          },
          "showarrow": true,
          "text": "1959",
          "x": 1959,
          "y": 1382.2
         },
         {
          "arrowhead": 2,
          "ax": 0,
          "ay": -30,
          "font": {
           "color": "black",
           "size": 10
          },
          "showarrow": true,
          "text": "1961",
          "x": 1961,
          "y": 1403
         },
         {
          "arrowhead": 2,
          "ax": 0,
          "ay": -30,
          "font": {
           "color": "black",
           "size": 10
          },
          "showarrow": true,
          "text": "1965",
          "x": 1965,
          "y": 938.5000000000001
         },
         {
          "arrowhead": 2,
          "ax": 0,
          "ay": -30,
          "font": {
           "color": "black",
           "size": 10
          },
          "showarrow": true,
          "text": "1972",
          "x": 1972,
          "y": 948.2999999999998
         },
         {
          "arrowhead": 2,
          "ax": 0,
          "ay": -30,
          "font": {
           "color": "black",
           "size": 10
          },
          "showarrow": true,
          "text": "1988",
          "x": 1988,
          "y": 1350.8999999999999
         },
         {
          "arrowhead": 2,
          "ax": 0,
          "ay": -30,
          "font": {
           "color": "black",
           "size": 10
          },
          "showarrow": true,
          "text": "1990",
          "x": 1990,
          "y": 1400.6000000000001
         },
         {
          "arrowhead": 2,
          "ax": 0,
          "ay": -30,
          "font": {
           "color": "black",
           "size": 10
          },
          "showarrow": true,
          "text": "2002",
          "x": 2002,
          "y": 920.7
         },
         {
          "arrowhead": 2,
          "ax": 0,
          "ay": -30,
          "font": {
           "color": "black",
           "size": 10
          },
          "showarrow": true,
          "text": "2009",
          "x": 2009,
          "y": 959.3000000000001
         }
        ],
        "legend": {
         "title": {
          "text": "Anomaly"
         },
         "tracegroupgap": 0
        },
        "shapes": [
         {
          "line": {
           "color": "green",
           "dash": "dot"
          },
          "type": "line",
          "x0": 0,
          "x1": 1,
          "xref": "x domain",
          "y0": 1182.0278260869568,
          "y1": 1182.0278260869568,
          "yref": "y"
         }
        ],
        "template": {
         "data": {
          "bar": [
           {
            "error_x": {
             "color": "#2a3f5f"
            },
            "error_y": {
             "color": "#2a3f5f"
            },
            "marker": {
             "line": {
              "color": "white",
              "width": 0.5
             },
             "pattern": {
              "fillmode": "overlay",
              "size": 10,
              "solidity": 0.2
             }
            },
            "type": "bar"
           }
          ],
          "barpolar": [
           {
            "marker": {
             "line": {
              "color": "white",
              "width": 0.5
             },
             "pattern": {
              "fillmode": "overlay",
              "size": 10,
              "solidity": 0.2
             }
            },
            "type": "barpolar"
           }
          ],
          "carpet": [
           {
            "aaxis": {
             "endlinecolor": "#2a3f5f",
             "gridcolor": "#C8D4E3",
             "linecolor": "#C8D4E3",
             "minorgridcolor": "#C8D4E3",
             "startlinecolor": "#2a3f5f"
            },
            "baxis": {
             "endlinecolor": "#2a3f5f",
             "gridcolor": "#C8D4E3",
             "linecolor": "#C8D4E3",
             "minorgridcolor": "#C8D4E3",
             "startlinecolor": "#2a3f5f"
            },
            "type": "carpet"
           }
          ],
          "choropleth": [
           {
            "colorbar": {
             "outlinewidth": 0,
             "ticks": ""
            },
            "type": "choropleth"
           }
          ],
          "contour": [
           {
            "colorbar": {
             "outlinewidth": 0,
             "ticks": ""
            },
            "colorscale": [
             [
              0,
              "#0d0887"
             ],
             [
              0.1111111111111111,
              "#46039f"
             ],
             [
              0.2222222222222222,
              "#7201a8"
             ],
             [
              0.3333333333333333,
              "#9c179e"
             ],
             [
              0.4444444444444444,
              "#bd3786"
             ],
             [
              0.5555555555555556,
              "#d8576b"
             ],
             [
              0.6666666666666666,
              "#ed7953"
             ],
             [
              0.7777777777777778,
              "#fb9f3a"
             ],
             [
              0.8888888888888888,
              "#fdca26"
             ],
             [
              1,
              "#f0f921"
             ]
            ],
            "type": "contour"
           }
          ],
          "contourcarpet": [
           {
            "colorbar": {
             "outlinewidth": 0,
             "ticks": ""
            },
            "type": "contourcarpet"
           }
          ],
          "heatmap": [
           {
            "colorbar": {
             "outlinewidth": 0,
             "ticks": ""
            },
            "colorscale": [
             [
              0,
              "#0d0887"
             ],
             [
              0.1111111111111111,
              "#46039f"
             ],
             [
              0.2222222222222222,
              "#7201a8"
             ],
             [
              0.3333333333333333,
              "#9c179e"
             ],
             [
              0.4444444444444444,
              "#bd3786"
             ],
             [
              0.5555555555555556,
              "#d8576b"
             ],
             [
              0.6666666666666666,
              "#ed7953"
             ],
             [
              0.7777777777777778,
              "#fb9f3a"
             ],
             [
              0.8888888888888888,
              "#fdca26"
             ],
             [
              1,
              "#f0f921"
             ]
            ],
            "type": "heatmap"
           }
          ],
          "histogram": [
           {
            "marker": {
             "pattern": {
              "fillmode": "overlay",
              "size": 10,
              "solidity": 0.2
             }
            },
            "type": "histogram"
           }
          ],
          "histogram2d": [
           {
            "colorbar": {
             "outlinewidth": 0,
             "ticks": ""
            },
            "colorscale": [
             [
              0,
              "#0d0887"
             ],
             [
              0.1111111111111111,
              "#46039f"
             ],
             [
              0.2222222222222222,
              "#7201a8"
             ],
             [
              0.3333333333333333,
              "#9c179e"
             ],
             [
              0.4444444444444444,
              "#bd3786"
             ],
             [
              0.5555555555555556,
              "#d8576b"
             ],
             [
              0.6666666666666666,
              "#ed7953"
             ],
             [
              0.7777777777777778,
              "#fb9f3a"
             ],
             [
              0.8888888888888888,
              "#fdca26"
             ],
             [
              1,
              "#f0f921"
             ]
            ],
            "type": "histogram2d"
           }
          ],
          "histogram2dcontour": [
           {
            "colorbar": {
             "outlinewidth": 0,
             "ticks": ""
            },
            "colorscale": [
             [
              0,
              "#0d0887"
             ],
             [
              0.1111111111111111,
              "#46039f"
             ],
             [
              0.2222222222222222,
              "#7201a8"
             ],
             [
              0.3333333333333333,
              "#9c179e"
             ],
             [
              0.4444444444444444,
              "#bd3786"
             ],
             [
              0.5555555555555556,
              "#d8576b"
             ],
             [
              0.6666666666666666,
              "#ed7953"
             ],
             [
              0.7777777777777778,
              "#fb9f3a"
             ],
             [
              0.8888888888888888,
              "#fdca26"
             ],
             [
              1,
              "#f0f921"
             ]
            ],
            "type": "histogram2dcontour"
           }
          ],
          "mesh3d": [
           {
            "colorbar": {
             "outlinewidth": 0,
             "ticks": ""
            },
            "type": "mesh3d"
           }
          ],
          "parcoords": [
           {
            "line": {
             "colorbar": {
              "outlinewidth": 0,
              "ticks": ""
             }
            },
            "type": "parcoords"
           }
          ],
          "pie": [
           {
            "automargin": true,
            "type": "pie"
           }
          ],
          "scatter": [
           {
            "fillpattern": {
             "fillmode": "overlay",
             "size": 10,
             "solidity": 0.2
            },
            "type": "scatter"
           }
          ],
          "scatter3d": [
           {
            "line": {
             "colorbar": {
              "outlinewidth": 0,
              "ticks": ""
             }
            },
            "marker": {
             "colorbar": {
              "outlinewidth": 0,
              "ticks": ""
             }
            },
            "type": "scatter3d"
           }
          ],
          "scattercarpet": [
           {
            "marker": {
             "colorbar": {
              "outlinewidth": 0,
              "ticks": ""
             }
            },
            "type": "scattercarpet"
           }
          ],
          "scattergeo": [
           {
            "marker": {
             "colorbar": {
              "outlinewidth": 0,
              "ticks": ""
             }
            },
            "type": "scattergeo"
           }
          ],
          "scattergl": [
           {
            "marker": {
             "colorbar": {
              "outlinewidth": 0,
              "ticks": ""
             }
            },
            "type": "scattergl"
           }
          ],
          "scattermap": [
           {
            "marker": {
             "colorbar": {
              "outlinewidth": 0,
              "ticks": ""
             }
            },
            "type": "scattermap"
           }
          ],
          "scattermapbox": [
           {
            "marker": {
             "colorbar": {
              "outlinewidth": 0,
              "ticks": ""
             }
            },
            "type": "scattermapbox"
           }
          ],
          "scatterpolar": [
           {
            "marker": {
             "colorbar": {
              "outlinewidth": 0,
              "ticks": ""
             }
            },
            "type": "scatterpolar"
           }
          ],
          "scatterpolargl": [
           {
            "marker": {
             "colorbar": {
              "outlinewidth": 0,
              "ticks": ""
             }
            },
            "type": "scatterpolargl"
           }
          ],
          "scatterternary": [
           {
            "marker": {
             "colorbar": {
              "outlinewidth": 0,
              "ticks": ""
             }
            },
            "type": "scatterternary"
           }
          ],
          "surface": [
           {
            "colorbar": {
             "outlinewidth": 0,
             "ticks": ""
            },
            "colorscale": [
             [
              0,
              "#0d0887"
             ],
             [
              0.1111111111111111,
              "#46039f"
             ],
             [
              0.2222222222222222,
              "#7201a8"
             ],
             [
              0.3333333333333333,
              "#9c179e"
             ],
             [
              0.4444444444444444,
              "#bd3786"
             ],
             [
              0.5555555555555556,
              "#d8576b"
             ],
             [
              0.6666666666666666,
              "#ed7953"
             ],
             [
              0.7777777777777778,
              "#fb9f3a"
             ],
             [
              0.8888888888888888,
              "#fdca26"
             ],
             [
              1,
              "#f0f921"
             ]
            ],
            "type": "surface"
           }
          ],
          "table": [
           {
            "cells": {
             "fill": {
              "color": "#EBF0F8"
             },
             "line": {
              "color": "white"
             }
            },
            "header": {
             "fill": {
              "color": "#C8D4E3"
             },
             "line": {
              "color": "white"
             }
            },
            "type": "table"
           }
          ]
         },
         "layout": {
          "annotationdefaults": {
           "arrowcolor": "#2a3f5f",
           "arrowhead": 0,
           "arrowwidth": 1
          },
          "autotypenumbers": "strict",
          "coloraxis": {
           "colorbar": {
            "outlinewidth": 0,
            "ticks": ""
           }
          },
          "colorscale": {
           "diverging": [
            [
             0,
             "#8e0152"
            ],
            [
             0.1,
             "#c51b7d"
            ],
            [
             0.2,
             "#de77ae"
            ],
            [
             0.3,
             "#f1b6da"
            ],
            [
             0.4,
             "#fde0ef"
            ],
            [
             0.5,
             "#f7f7f7"
            ],
            [
             0.6,
             "#e6f5d0"
            ],
            [
             0.7,
             "#b8e186"
            ],
            [
             0.8,
             "#7fbc41"
            ],
            [
             0.9,
             "#4d9221"
            ],
            [
             1,
             "#276419"
            ]
           ],
           "sequential": [
            [
             0,
             "#0d0887"
            ],
            [
             0.1111111111111111,
             "#46039f"
            ],
            [
             0.2222222222222222,
             "#7201a8"
            ],
            [
             0.3333333333333333,
             "#9c179e"
            ],
            [
             0.4444444444444444,
             "#bd3786"
            ],
            [
             0.5555555555555556,
             "#d8576b"
            ],
            [
             0.6666666666666666,
             "#ed7953"
            ],
            [
             0.7777777777777778,
             "#fb9f3a"
            ],
            [
             0.8888888888888888,
             "#fdca26"
            ],
            [
             1,
             "#f0f921"
            ]
           ],
           "sequentialminus": [
            [
             0,
             "#0d0887"
            ],
            [
             0.1111111111111111,
             "#46039f"
            ],
            [
             0.2222222222222222,
             "#7201a8"
            ],
            [
             0.3333333333333333,
             "#9c179e"
            ],
            [
             0.4444444444444444,
             "#bd3786"
            ],
            [
             0.5555555555555556,
             "#d8576b"
            ],
            [
             0.6666666666666666,
             "#ed7953"
            ],
            [
             0.7777777777777778,
             "#fb9f3a"
            ],
            [
             0.8888888888888888,
             "#fdca26"
            ],
            [
             1,
             "#f0f921"
            ]
           ]
          },
          "colorway": [
           "#636efa",
           "#EF553B",
           "#00cc96",
           "#ab63fa",
           "#FFA15A",
           "#19d3f3",
           "#FF6692",
           "#B6E880",
           "#FF97FF",
           "#FECB52"
          ],
          "font": {
           "color": "#2a3f5f"
          },
          "geo": {
           "bgcolor": "white",
           "lakecolor": "white",
           "landcolor": "white",
           "showlakes": true,
           "showland": true,
           "subunitcolor": "#C8D4E3"
          },
          "hoverlabel": {
           "align": "left"
          },
          "hovermode": "closest",
          "mapbox": {
           "style": "light"
          },
          "paper_bgcolor": "white",
          "plot_bgcolor": "white",
          "polar": {
           "angularaxis": {
            "gridcolor": "#EBF0F8",
            "linecolor": "#EBF0F8",
            "ticks": ""
           },
           "bgcolor": "white",
           "radialaxis": {
            "gridcolor": "#EBF0F8",
            "linecolor": "#EBF0F8",
            "ticks": ""
           }
          },
          "scene": {
           "xaxis": {
            "backgroundcolor": "white",
            "gridcolor": "#DFE8F3",
            "gridwidth": 2,
            "linecolor": "#EBF0F8",
            "showbackground": true,
            "ticks": "",
            "zerolinecolor": "#EBF0F8"
           },
           "yaxis": {
            "backgroundcolor": "white",
            "gridcolor": "#DFE8F3",
            "gridwidth": 2,
            "linecolor": "#EBF0F8",
            "showbackground": true,
            "ticks": "",
            "zerolinecolor": "#EBF0F8"
           },
           "zaxis": {
            "backgroundcolor": "white",
            "gridcolor": "#DFE8F3",
            "gridwidth": 2,
            "linecolor": "#EBF0F8",
            "showbackground": true,
            "ticks": "",
            "zerolinecolor": "#EBF0F8"
           }
          },
          "shapedefaults": {
           "line": {
            "color": "#2a3f5f"
           }
          },
          "ternary": {
           "aaxis": {
            "gridcolor": "#DFE8F3",
            "linecolor": "#A2B1C6",
            "ticks": ""
           },
           "baxis": {
            "gridcolor": "#DFE8F3",
            "linecolor": "#A2B1C6",
            "ticks": ""
           },
           "bgcolor": "white",
           "caxis": {
            "gridcolor": "#DFE8F3",
            "linecolor": "#A2B1C6",
            "ticks": ""
           }
          },
          "title": {
           "x": 0.05
          },
          "xaxis": {
           "automargin": true,
           "gridcolor": "#EBF0F8",
           "linecolor": "#EBF0F8",
           "ticks": "",
           "title": {
            "standoff": 15
           },
           "zerolinecolor": "#EBF0F8",
           "zerolinewidth": 2
          },
          "yaxis": {
           "automargin": true,
           "gridcolor": "#EBF0F8",
           "linecolor": "#EBF0F8",
           "ticks": "",
           "title": {
            "standoff": 15
           },
           "zerolinecolor": "#EBF0F8",
           "zerolinewidth": 2
          }
         }
        },
        "title": {
         "text": "Anomaly Detection in Annual Rainfall (India)"
        },
        "xaxis": {
         "anchor": "y",
         "domain": [
          0,
          1
         ],
         "title": {
          "text": "Year"
         }
        },
        "yaxis": {
         "anchor": "x",
         "domain": [
          0,
          1
         ],
         "title": {
          "text": "Rainfall (mm)"
         }
        }
       }
      }
     },
     "metadata": {},
     "output_type": "display_data"
    }
   ],
   "source": [
    "mean_rainfall = df['ANNUAL'].mean()\n",
    "std_rainfall = df['ANNUAL'].std()\n",
    "\n",
    "upper_limit = mean_rainfall + 1.5 * std_rainfall\n",
    "lower_limit = mean_rainfall - 1.5 * std_rainfall\n",
    "\n",
    "df['Anomaly'] = df['ANNUAL'].apply(\n",
    "    lambda x: 'High' if x > upper_limit else ('Low' if x < lower_limit else 'Normal')\n",
    ")\n",
    "\n",
    "fig = px.scatter(\n",
    "    df,\n",
    "    x='YEAR',\n",
    "    y='ANNUAL',\n",
    "    color='Anomaly',\n",
    "    color_discrete_map={'High': 'red', 'Low': 'blue', 'Normal': 'gray'},\n",
    "    title='Anomaly Detection in Annual Rainfall (India)',\n",
    "    labels={'YEAR': 'Year', 'ANNUAL': 'Rainfall (mm)'},\n",
    "    template='plotly_white'\n",
    ")\n",
    "\n",
    "fig.add_hline(y=mean_rainfall, line_dash='dot', annotation_text='Mean', line_color='green')\n",
    "\n",
    "for i, row in df[df['Anomaly'] != 'Normal'].iterrows():\n",
    "    fig.add_annotation(\n",
    "        x=row['YEAR'],\n",
    "        y=row['ANNUAL'],\n",
    "        text=row['YEAR'],\n",
    "        showarrow=True,\n",
    "        arrowhead=2,\n",
    "        font=dict(color='black', size=10),\n",
    "        ax=0,\n",
    "        ay=-30\n",
    "    )\n",
    "\n",
    "fig.show()"
   ]
  },
  {
   "cell_type": "markdown",
   "id": "bfc2288f",
   "metadata": {},
   "source": [
    "#### Anomaly Detection using Isolation Forest\n",
    "\n",
    "Using Isolation Forest, a machine learning-based outlier detection technique, we identify abnormal rainfall patterns in:\n",
    "\t•\tAnnual data\n",
    "\t•\tMonthly data\n",
    "\n",
    "These anomalies may indicate unusual climatic events or data collection issues."
   ]
  },
  {
   "cell_type": "code",
   "execution_count": null,
   "id": "c5a76bd7",
   "metadata": {},
   "outputs": [
    {
     "data": {
      "text/html": [
       "<div>\n",
       "<style scoped>\n",
       "    .dataframe tbody tr th:only-of-type {\n",
       "        vertical-align: middle;\n",
       "    }\n",
       "\n",
       "    .dataframe tbody tr th {\n",
       "        vertical-align: top;\n",
       "    }\n",
       "\n",
       "    .dataframe thead th {\n",
       "        text-align: right;\n",
       "    }\n",
       "</style>\n",
       "<table border=\"1\" class=\"dataframe\">\n",
       "  <thead>\n",
       "    <tr style=\"text-align: right;\">\n",
       "      <th></th>\n",
       "      <th>REGION</th>\n",
       "      <th>YEAR</th>\n",
       "      <th>JAN</th>\n",
       "      <th>FEB</th>\n",
       "      <th>MAR</th>\n",
       "      <th>APR</th>\n",
       "      <th>MAY</th>\n",
       "      <th>JUN</th>\n",
       "      <th>JUL</th>\n",
       "      <th>AUG</th>\n",
       "      <th>...</th>\n",
       "      <th>AUG_Z</th>\n",
       "      <th>SEP_Z</th>\n",
       "      <th>OCT_Z</th>\n",
       "      <th>NOV_Z</th>\n",
       "      <th>DEC_Z</th>\n",
       "      <th>anomaly_iforest</th>\n",
       "      <th>Monthly_Anomaly</th>\n",
       "      <th>Pre_Monsoon</th>\n",
       "      <th>Post_Monsoon</th>\n",
       "      <th>Annual</th>\n",
       "    </tr>\n",
       "  </thead>\n",
       "  <tbody>\n",
       "    <tr>\n",
       "      <th>6</th>\n",
       "      <td>INDIA</td>\n",
       "      <td>1907</td>\n",
       "      <td>16.2</td>\n",
       "      <td>46.0</td>\n",
       "      <td>37.8</td>\n",
       "      <td>62.8</td>\n",
       "      <td>32.6</td>\n",
       "      <td>154.4</td>\n",
       "      <td>225.4</td>\n",
       "      <td>310.4</td>\n",
       "      <td>...</td>\n",
       "      <td>1.486734</td>\n",
       "      <td>-2.062514</td>\n",
       "      <td>-1.874963</td>\n",
       "      <td>-0.416446</td>\n",
       "      <td>-0.327691</td>\n",
       "      <td>-1</td>\n",
       "      <td>-1</td>\n",
       "      <td>133.2</td>\n",
       "      <td>57.3</td>\n",
       "      <td>1039.8</td>\n",
       "    </tr>\n",
       "    <tr>\n",
       "      <th>10</th>\n",
       "      <td>INDIA</td>\n",
       "      <td>1911</td>\n",
       "      <td>45.7</td>\n",
       "      <td>5.6</td>\n",
       "      <td>49.9</td>\n",
       "      <td>22.8</td>\n",
       "      <td>47.6</td>\n",
       "      <td>191.9</td>\n",
       "      <td>162.7</td>\n",
       "      <td>213.5</td>\n",
       "      <td>...</td>\n",
       "      <td>-1.283784</td>\n",
       "      <td>0.268194</td>\n",
       "      <td>-0.180477</td>\n",
       "      <td>0.844341</td>\n",
       "      <td>-0.339069</td>\n",
       "      <td>-1</td>\n",
       "      <td>-1</td>\n",
       "      <td>120.3</td>\n",
       "      <td>125.4</td>\n",
       "      <td>1047.4</td>\n",
       "    </tr>\n",
       "    <tr>\n",
       "      <th>16</th>\n",
       "      <td>INDIA</td>\n",
       "      <td>1917</td>\n",
       "      <td>8.7</td>\n",
       "      <td>38.7</td>\n",
       "      <td>22.8</td>\n",
       "      <td>43.2</td>\n",
       "      <td>75.0</td>\n",
       "      <td>231.8</td>\n",
       "      <td>285.2</td>\n",
       "      <td>296.5</td>\n",
       "      <td>...</td>\n",
       "      <td>1.089312</td>\n",
       "      <td>2.961880</td>\n",
       "      <td>2.939642</td>\n",
       "      <td>-0.062432</td>\n",
       "      <td>-0.532498</td>\n",
       "      <td>-1</td>\n",
       "      <td>-1</td>\n",
       "      <td>141.0</td>\n",
       "      <td>197.3</td>\n",
       "      <td>1480.2</td>\n",
       "    </tr>\n",
       "    <tr>\n",
       "      <th>17</th>\n",
       "      <td>INDIA</td>\n",
       "      <td>1918</td>\n",
       "      <td>12.2</td>\n",
       "      <td>4.4</td>\n",
       "      <td>41.6</td>\n",
       "      <td>38.8</td>\n",
       "      <td>102.8</td>\n",
       "      <td>212.6</td>\n",
       "      <td>183.8</td>\n",
       "      <td>242.7</td>\n",
       "      <td>...</td>\n",
       "      <td>-0.448912</td>\n",
       "      <td>-1.713180</td>\n",
       "      <td>-1.970477</td>\n",
       "      <td>0.738758</td>\n",
       "      <td>0.161570</td>\n",
       "      <td>-1</td>\n",
       "      <td>-1</td>\n",
       "      <td>183.2</td>\n",
       "      <td>77.5</td>\n",
       "      <td>1026.1</td>\n",
       "    </tr>\n",
       "    <tr>\n",
       "      <th>66</th>\n",
       "      <td>INDIA</td>\n",
       "      <td>1967</td>\n",
       "      <td>11.2</td>\n",
       "      <td>13.4</td>\n",
       "      <td>63.3</td>\n",
       "      <td>29.1</td>\n",
       "      <td>42.4</td>\n",
       "      <td>144.9</td>\n",
       "      <td>304.6</td>\n",
       "      <td>262.9</td>\n",
       "      <td>...</td>\n",
       "      <td>0.128637</td>\n",
       "      <td>-0.056577</td>\n",
       "      <td>-1.252354</td>\n",
       "      <td>-1.105842</td>\n",
       "      <td>4.485274</td>\n",
       "      <td>-1</td>\n",
       "      <td>1</td>\n",
       "      <td>134.8</td>\n",
       "      <td>106.1</td>\n",
       "      <td>1148.3</td>\n",
       "    </tr>\n",
       "  </tbody>\n",
       "</table>\n",
       "<p>5 rows × 43 columns</p>\n",
       "</div>"
      ],
      "text/plain": [
       "   REGION  YEAR   JAN   FEB   MAR   APR    MAY    JUN    JUL    AUG  ...  \\\n",
       "6   INDIA  1907  16.2  46.0  37.8  62.8   32.6  154.4  225.4  310.4  ...   \n",
       "10  INDIA  1911  45.7   5.6  49.9  22.8   47.6  191.9  162.7  213.5  ...   \n",
       "16  INDIA  1917   8.7  38.7  22.8  43.2   75.0  231.8  285.2  296.5  ...   \n",
       "17  INDIA  1918  12.2   4.4  41.6  38.8  102.8  212.6  183.8  242.7  ...   \n",
       "66  INDIA  1967  11.2  13.4  63.3  29.1   42.4  144.9  304.6  262.9  ...   \n",
       "\n",
       "       AUG_Z     SEP_Z     OCT_Z     NOV_Z     DEC_Z  anomaly_iforest  \\\n",
       "6   1.486734 -2.062514 -1.874963 -0.416446 -0.327691               -1   \n",
       "10 -1.283784  0.268194 -0.180477  0.844341 -0.339069               -1   \n",
       "16  1.089312  2.961880  2.939642 -0.062432 -0.532498               -1   \n",
       "17 -0.448912 -1.713180 -1.970477  0.738758  0.161570               -1   \n",
       "66  0.128637 -0.056577 -1.252354 -1.105842  4.485274               -1   \n",
       "\n",
       "    Monthly_Anomaly  Pre_Monsoon  Post_Monsoon  Annual  \n",
       "6                -1        133.2          57.3  1039.8  \n",
       "10               -1        120.3         125.4  1047.4  \n",
       "16               -1        141.0         197.3  1480.2  \n",
       "17               -1        183.2          77.5  1026.1  \n",
       "66                1        134.8         106.1  1148.3  \n",
       "\n",
       "[5 rows x 43 columns]"
      ]
     },
     "execution_count": 113,
     "metadata": {},
     "output_type": "execute_result"
    }
   ],
   "source": [
    "features = df[['JAN', 'FEB', 'MAR', 'APR', 'MAY', 'JUN',\n",
    "               'JUL', 'AUG', 'SEP', 'OCT', 'NOV', 'DEC', 'ANNUAL']]\n",
    "\n",
    "iso_forest = IsolationForest(contamination=0.05, random_state=42)\n",
    "df['anomaly_iforest'] = iso_forest.fit_predict(features)\n",
    "\n",
    "# -1 = anomaly, 1 = normal\n",
    "df_anomalies_iforest = df[df['anomaly_iforest'] == -1]\n",
    "\n",
    "df_anomalies_iforest.head()"
   ]
  },
  {
   "cell_type": "code",
   "execution_count": 114,
   "id": "8ee1f934",
   "metadata": {},
   "outputs": [
    {
     "data": {
      "text/html": [
       "<div>\n",
       "<style scoped>\n",
       "    .dataframe tbody tr th:only-of-type {\n",
       "        vertical-align: middle;\n",
       "    }\n",
       "\n",
       "    .dataframe tbody tr th {\n",
       "        vertical-align: top;\n",
       "    }\n",
       "\n",
       "    .dataframe thead th {\n",
       "        text-align: right;\n",
       "    }\n",
       "</style>\n",
       "<table border=\"1\" class=\"dataframe\">\n",
       "  <thead>\n",
       "    <tr style=\"text-align: right;\">\n",
       "      <th></th>\n",
       "      <th>YEAR</th>\n",
       "      <th>JAN</th>\n",
       "      <th>FEB</th>\n",
       "      <th>MAR</th>\n",
       "      <th>APR</th>\n",
       "      <th>MAY</th>\n",
       "      <th>JUN</th>\n",
       "      <th>JUL</th>\n",
       "      <th>AUG</th>\n",
       "      <th>SEP</th>\n",
       "      <th>OCT</th>\n",
       "      <th>NOV</th>\n",
       "      <th>DEC</th>\n",
       "    </tr>\n",
       "  </thead>\n",
       "  <tbody>\n",
       "    <tr>\n",
       "      <th>6</th>\n",
       "      <td>1907</td>\n",
       "      <td>16.2</td>\n",
       "      <td>46.0</td>\n",
       "      <td>37.8</td>\n",
       "      <td>62.8</td>\n",
       "      <td>32.6</td>\n",
       "      <td>154.4</td>\n",
       "      <td>225.4</td>\n",
       "      <td>310.4</td>\n",
       "      <td>96.9</td>\n",
       "      <td>22.7</td>\n",
       "      <td>22.5</td>\n",
       "      <td>12.1</td>\n",
       "    </tr>\n",
       "    <tr>\n",
       "      <th>10</th>\n",
       "      <td>1911</td>\n",
       "      <td>45.7</td>\n",
       "      <td>5.6</td>\n",
       "      <td>49.9</td>\n",
       "      <td>22.8</td>\n",
       "      <td>47.6</td>\n",
       "      <td>191.9</td>\n",
       "      <td>162.7</td>\n",
       "      <td>213.5</td>\n",
       "      <td>182.3</td>\n",
       "      <td>70.6</td>\n",
       "      <td>42.8</td>\n",
       "      <td>12.0</td>\n",
       "    </tr>\n",
       "    <tr>\n",
       "      <th>16</th>\n",
       "      <td>1917</td>\n",
       "      <td>8.7</td>\n",
       "      <td>38.7</td>\n",
       "      <td>22.8</td>\n",
       "      <td>43.2</td>\n",
       "      <td>75.0</td>\n",
       "      <td>231.8</td>\n",
       "      <td>285.2</td>\n",
       "      <td>296.5</td>\n",
       "      <td>281.0</td>\n",
       "      <td>158.8</td>\n",
       "      <td>28.2</td>\n",
       "      <td>10.3</td>\n",
       "    </tr>\n",
       "    <tr>\n",
       "      <th>17</th>\n",
       "      <td>1918</td>\n",
       "      <td>12.2</td>\n",
       "      <td>4.4</td>\n",
       "      <td>41.6</td>\n",
       "      <td>38.8</td>\n",
       "      <td>102.8</td>\n",
       "      <td>212.6</td>\n",
       "      <td>183.8</td>\n",
       "      <td>242.7</td>\n",
       "      <td>109.7</td>\n",
       "      <td>20.0</td>\n",
       "      <td>41.1</td>\n",
       "      <td>16.4</td>\n",
       "    </tr>\n",
       "    <tr>\n",
       "      <th>66</th>\n",
       "      <td>1967</td>\n",
       "      <td>11.2</td>\n",
       "      <td>13.4</td>\n",
       "      <td>63.3</td>\n",
       "      <td>29.1</td>\n",
       "      <td>42.4</td>\n",
       "      <td>144.9</td>\n",
       "      <td>304.6</td>\n",
       "      <td>262.9</td>\n",
       "      <td>170.4</td>\n",
       "      <td>40.3</td>\n",
       "      <td>11.4</td>\n",
       "      <td>54.4</td>\n",
       "    </tr>\n",
       "  </tbody>\n",
       "</table>\n",
       "</div>"
      ],
      "text/plain": [
       "    YEAR   JAN   FEB   MAR   APR    MAY    JUN    JUL    AUG    SEP    OCT  \\\n",
       "6   1907  16.2  46.0  37.8  62.8   32.6  154.4  225.4  310.4   96.9   22.7   \n",
       "10  1911  45.7   5.6  49.9  22.8   47.6  191.9  162.7  213.5  182.3   70.6   \n",
       "16  1917   8.7  38.7  22.8  43.2   75.0  231.8  285.2  296.5  281.0  158.8   \n",
       "17  1918  12.2   4.4  41.6  38.8  102.8  212.6  183.8  242.7  109.7   20.0   \n",
       "66  1967  11.2  13.4  63.3  29.1   42.4  144.9  304.6  262.9  170.4   40.3   \n",
       "\n",
       "     NOV   DEC  \n",
       "6   22.5  12.1  \n",
       "10  42.8  12.0  \n",
       "16  28.2  10.3  \n",
       "17  41.1  16.4  \n",
       "66  11.4  54.4  "
      ]
     },
     "execution_count": 114,
     "metadata": {},
     "output_type": "execute_result"
    }
   ],
   "source": [
    "monthly_data = df[['JAN', 'FEB', 'MAR', 'APR', 'MAY', 'JUN', 'JUL', 'AUG', 'SEP', 'OCT', 'NOV', 'DEC']]\n",
    "df['Monthly_Anomaly'] = iso_forest.fit_predict(monthly_data)\n",
    "df_monthly_anomalies_df = df[df['Monthly_Anomaly'] == -1][['YEAR'] + monthly_columns]\n",
    "df_monthly_anomalies_df.head()"
   ]
  },
  {
   "cell_type": "markdown",
   "id": "5f2ba361",
   "metadata": {},
   "source": [
    "#### Monthly Rainfall Anomalies\n",
    "\n",
    "We identify specific months and years with unusual rainfall using Isolation Forest and highlight them over the monthly trends."
   ]
  },
  {
   "cell_type": "code",
   "execution_count": 115,
   "id": "02fc81fa",
   "metadata": {},
   "outputs": [
    {
     "data": {
      "application/vnd.plotly.v1+json": {
       "config": {
        "plotlyServerURL": "https://plot.ly"
       },
       "data": [
        {
         "hovertemplate": "Month=JAN<br>Year=%{x}<br>Rainfall (mm)=%{y}<extra></extra>",
         "legendgroup": "JAN",
         "line": {
          "color": "rgb(141,211,199)",
          "dash": "solid"
         },
         "marker": {
          "symbol": "circle"
         },
         "mode": "lines",
         "name": "JAN",
         "showlegend": true,
         "type": "scattergl",
         "x": {
          "bdata": "bQduB28HcAdxB3IHcwd0B3UHdgd3B3gHeQd6B3sHfAd9B34HfweAB4EHggeDB4QHhQeGB4cHiAeJB4oHiweMB40HjgePB5AHkQeSB5MHlAeVB5YHlweYB5kHmgebB5wHnQeeB58HoAehB6IHowekB6UHpgenB6gHqQeqB6sHrAetB64HrwewB7EHsgezB7QHtQe2B7cHuAe5B7oHuwe8B70Hvge/B8AHwQfCB8MHxAfFB8YHxwfIB8kHygfLB8wHzQfOB88H0AfRB9IH0wfUB9UH1gfXB9gH2QfaB9sH3AfdB94H3wc=",
          "dtype": "i2"
         },
         "xaxis": "x",
         "y": {
          "bdata": "mpmZmZlZQUCamZmZmZkdQAAAAAAAADFAzczMzMzMLEDNzMzMzEw5QDMzMzMzMzVAMzMzMzMzMEDNzMzMzMw1QM3MzMzMTDdAMzMzMzMzL0CamZmZmdlGQJqZmZmZGTZAZmZmZmZmGkAzMzMzMzMTQGZmZmZmZjNAZmZmZmZmFEBmZmZmZmYhQGZmZmZmZihAAAAAAABASkCamZmZmRk5QM3MzMzMTERAMzMzMzOzPUAAAAAAAIA4QJqZmZmZGTdAZmZmZmZmLEAzMzMzMzM9QDMzMzMzMy1AZmZmZmbmNkAzMzMzMzM/QGZmZmZm5jlAAAAAAAAALUCamZmZmZkkQAAAAAAAADJAZmZmZmbmOEDNzMzMzMw9QAAAAAAAACpAAAAAAAAAHEBmZmZmZiZAQAAAAAAAACxAzczMzMzMLEBmZmZmZuY3QJqZmZmZGTdAAAAAAABATUDNzMzMzEw9QDMzMzMzM0FAmpmZmZmZEUAAAAAAAIA2QJqZmZmZGTlAAAAAAAAAKkDNzMzMzMxBQAAAAAAAADBAAAAAAAAAJUBmZmZmZmY+QJqZmZmZGUNAMzMzMzMzNkDNzMzMzMwzQM3MzMzMzENAzczMzMzMKkDNzMzMzAxAQM3MzMzMzCtAZmZmZmbmOUAzMzMzMzMpQDMzMzMzMxtAZmZmZmZmL0DNzMzMzMwlQJqZmZmZmSlAZmZmZmZmJkBmZmZmZuY7QJqZmZmZmShAAAAAAACANkAAAAAAAAAwQGZmZmZmZiNAzczMzMxMM0CamZmZmZkuQM3MzMzMzC1AmpmZmZmZJkAzMzMzMzM0QGZmZmZmZihAzczMzMzMNEDNzMzMzMwpQGZmZmZmZjxAzczMzMzMOEDNzMzMzMwyQDMzMzMzMzNAmpmZmZkZN0CamZmZmZktQM3MzMzMzCxAMzMzMzMzIkAzMzMzMzMtQM3MzMzMzC1AmpmZmZmZK0CamZmZmRk0QDMzMzMzMzFAMzMzMzMzOEBmZmZmZiZAQM3MzMzMzDZAzczMzMzMK0DNzMzMzMwxQGZmZmZmZjJAAAAAAAAAM0DNzMzMzMwcQM3MzMzMzDBAzczMzMzMHEAzMzMzMzM6QGZmZmZmJkRAZmZmZmZmMUCamZmZmZkFQGZmZmZmZjZAmpmZmZmZJ0AAAAAAAAAeQM3MzMzMzB5AAAAAAACAPEAAAAAAAAAkQM3MzMzMTDFAZmZmZmZmMUA=",
          "dtype": "f8"
         },
         "yaxis": "y"
        },
        {
         "hovertemplate": "Month=FEB<br>Year=%{x}<br>Rainfall (mm)=%{y}<extra></extra>",
         "legendgroup": "FEB",
         "line": {
          "color": "rgb(255,255,179)",
          "dash": "solid"
         },
         "marker": {
          "symbol": "circle"
         },
         "mode": "lines",
         "name": "FEB",
         "showlegend": true,
         "type": "scattergl",
         "x": {
          "bdata": "bQduB28HcAdxB3IHcwd0B3UHdgd3B3gHeQd6B3sHfAd9B34HfweAB4EHggeDB4QHhQeGB4cHiAeJB4oHiweMB40HjgePB5AHkQeSB5MHlAeVB5YHlweYB5kHmgebB5wHnQeeB58HoAehB6IHowekB6UHpgenB6gHqQeqB6sHrAetB64HrwewB7EHsgezB7QHtQe2B7cHuAe5B7oHuwe8B70Hvge/B8AHwQfCB8MHxAfFB8YHxwfIB8kHygfLB8wHzQfOB88H0AfRB9IH0wfUB9UH1gfXB9gH2QfaB9sH3AfdB94H3wc=",
          "dtype": "i2"
         },
         "xaxis": "x",
         "y": {
          "bdata": "mpmZmZnZQkAzMzMzMzMRQJqZmZmZmSBAMzMzMzMzI0BmZmZmZuY0QGZmZmZmZklAAAAAAAAAR0DNzMzMzMwxQGZmZmZm5jFAMzMzMzMzJkBmZmZmZmYWQM3MzMzMzDVAZmZmZmZmREAAAAAAAIA/QM3MzMzMzERAMzMzMzOzNkCamZmZmVlDQJqZmZmZmRFAMzMzMzOzNkBmZmZmZuY3QJqZmZmZmSFAmpmZmZmZJEAAAAAAAMBEQAAAAAAAgDlAAAAAAAAAKUAAAAAAAAAnQAAAAAAAgEJAMzMzMzPzRECamZmZmZk0QJqZmZmZmTdAmpmZmZlZQUAzMzMzMzM5QAAAAAAAAD9AZmZmZmZmJ0BmZmZmZuY1QM3MzMzMTEZAZmZmZmbmSkBmZmZmZmZAQAAAAAAAgEFAAAAAAAAAO0BmZmZmZuYwQM3MzMzMzEZAmpmZmZmZI0BmZmZmZuZDQM3MzMzMzCNAZmZmZmbmMkAAAAAAAIAyQJqZmZmZmT1AZmZmZmbmPEAAAAAAAAA6QJqZmZmZmShAZmZmZmZmNEBmZmZmZmYlQJqZmZmZ2UJAAAAAAAAAEkCamZmZmZkmQJqZmZmZmTFAzczMzMzMMkDNzMzMzEw4QJqZmZmZmQVAmpmZmZmZQUAAAAAAAIA1QAAAAAAAACJAmpmZmZmZLEAAAAAAAAA6QJqZmZmZGThAzczMzMzMKkAAAAAAAIAzQJqZmZmZmStAZmZmZmbmOkAAAAAAAIA2QJqZmZmZGTtAZmZmZmbmNEAAAAAAAAApQDMzMzMzszJAAAAAAACAN0AAAAAAAAAkQAAAAAAAADtAmpmZmZlZQUCamZmZmRk2QGZmZmZmZjRAZmZmZmZmOECamZmZmZk3QJqZmZmZ2UFAMzMzMzMzI0CamZmZmVlCQM3MzMzMzDVAMzMzMzMzPEBmZmZmZmYsQGZmZmZmJkZAzczMzMxMOkAzMzMzM7MyQM3MzMzMTDhAzczMzMzMOkAzMzMzMzM9QJqZmZmZGTdAAAAAAAAAJEAzMzMzM/NBQAAAAAAAAChAAAAAAAAAO0CamZmZmZkkQAAAAAAAADVAzczMzMwMRUBmZmZmZmYlQAAAAAAAAEdAAAAAAAAAJ0CamZmZmdlBQDMzMzMzMzNAZmZmZmZmKkDNzMzMzEwwQM3MzMzMTDpAmpmZmZmZJUAzMzMzM3NCQGZmZmZm5jlAAAAAAAAANUA=",
          "dtype": "f8"
         },
         "yaxis": "y"
        },
        {
         "hovertemplate": "Month=MAR<br>Year=%{x}<br>Rainfall (mm)=%{y}<extra></extra>",
         "legendgroup": "MAR",
         "line": {
          "color": "rgb(190,186,218)",
          "dash": "solid"
         },
         "marker": {
          "symbol": "circle"
         },
         "mode": "lines",
         "name": "MAR",
         "showlegend": true,
         "type": "scattergl",
         "x": {
          "bdata": "bQduB28HcAdxB3IHcwd0B3UHdgd3B3gHeQd6B3sHfAd9B34HfweAB4EHggeDB4QHhQeGB4cHiAeJB4oHiweMB40HjgePB5AHkQeSB5MHlAeVB5YHlweYB5kHmgebB5wHnQeeB58HoAehB6IHowekB6UHpgenB6gHqQeqB6sHrAetB64HrwewB7EHsgezB7QHtQe2B7cHuAe5B7oHuwe8B70Hvge/B8AHwQfCB8MHxAfFB8YHxwfIB8kHygfLB8wHzQfOB88H0AfRB9IH0wfUB9UH1gfXB9gH2QfaB9sH3AfdB94H3wc=",
          "dtype": "i2"
         },
         "xaxis": "x",
         "y": {
          "bdata": "AAAAAAAAMkAAAAAAAAAzQM3MzMzMTD9AzczMzMzMP0CamZmZmVlFQDMzMzMzsz9AZmZmZmbmQkBmZmZmZmYhQM3MzMzMzBxAmpmZmZmZK0AzMzMzM/NIQDMzMzMzMzVAAAAAAAAAOUDNzMzMzEw8QJqZmZmZGUdAmpmZmZmZKEDNzMzMzMw2QM3MzMzMzERAzczMzMxMNECamZmZmRlNQJqZmZmZmTJAMzMzMzMzLUAzMzMzM7M2QJqZmZmZmSxAmpmZmZmZL0DNzMzMzAxOQJqZmZmZGTdAMzMzMzOzNkDNzMzMzMwsQDMzMzMzszlAMzMzMzOzM0AAAAAAAIA2QJqZmZmZmTpAMzMzMzMzMUBmZmZmZuY0QGZmZmZmJkRAzczMzMxMNECamZmZmZlAQGZmZmZmZkBAzczMzMzMSEAzMzMzMzMzQAAAAAAAADRAAAAAAAAAPkCamZmZmVlMQJqZmZmZGTRAMzMzMzMzOEAAAAAAAAA6QM3MzMzMDERAAAAAAACAOEAzMzMzM3NCQJqZmZmZmUZAAAAAAAAAQ0AAAAAAAIA5QGZmZmZmZjFAzczMzMzMOECamZmZmRlAQM3MzMzMzD1AMzMzMzMzM0DNzMzMzMw1QAAAAAAAwEFAmpmZmZmZOkAzMzMzMzMvQM3MzMzMTENAZmZmZmbmMkBmZmZmZmY6QM3MzMzMTDRAZmZmZmamT0AAAAAAAIA7QAAAAAAAgDNAZmZmZmbmOECamZmZmZkkQAAAAAAAADVAMzMzMzOzM0DNzMzMzMwzQDMzMzMzMztAZmZmZmbmN0BmZmZmZmYrQJqZmZmZGUZAzczMzMxMPUBmZmZmZiZAQM3MzMzMzEdAzczMzMxMR0AzMzMzM7NFQM3MzMzMzDVAzczMzMzMM0DNzMzMzMw8QGZmZmZmZjtAZmZmZmamSEBmZmZmZuY6QGZmZmZmpkpAzczMzMzMO0BmZmZmZmY5QGZmZmZmpkNAZmZmZmbmN0CamZmZmRk8QGZmZmZmZj9AMzMzMzMzPkDNzMzMzAxGQJqZmZmZmSVAmpmZmZmZMkDNzMzMzEw1QGZmZmZm5jZAmpmZmZnZQEDNzMzMzMwnQM3MzMzMTEVAMzMzMzMzQUAzMzMzMzNBQJqZmZmZ2UJAZmZmZmZmLkCamZmZmZkwQGZmZmZmZjVAMzMzMzMzJUAAAAAAAAAtQM3MzMzMTEBAAAAAAAAAT0A=",
          "dtype": "f8"
         },
         "yaxis": "y"
        },
        {
         "hovertemplate": "Month=APR<br>Year=%{x}<br>Rainfall (mm)=%{y}<extra></extra>",
         "legendgroup": "APR",
         "line": {
          "color": "rgb(251,128,114)",
          "dash": "solid"
         },
         "marker": {
          "symbol": "circle"
         },
         "mode": "lines",
         "name": "APR",
         "showlegend": true,
         "type": "scattergl",
         "x": {
          "bdata": "bQduB28HcAdxB3IHcwd0B3UHdgd3B3gHeQd6B3sHfAd9B34HfweAB4EHggeDB4QHhQeGB4cHiAeJB4oHiweMB40HjgePB5AHkQeSB5MHlAeVB5YHlweYB5kHmgebB5wHnQeeB58HoAehB6IHowekB6UHpgenB6gHqQeqB6sHrAetB64HrwewB7EHsgezB7QHtQe2B7cHuAe5B7oHuwe8B70Hvge/B8AHwQfCB8MHxAfFB8YHxwfIB8kHygfLB8wHzQfOB88H0AfRB9IH0wfUB9UH1gfXB9gH2QfaB9sH3AfdB94H3wc=",
          "dtype": "i2"
         },
         "xaxis": "x",
         "y": {
          "bdata": "ZmZmZmamQ0AAAAAAAMBFQJqZmZmZGTFAzczMzMyMQECamZmZmdlAQJqZmZmZGTBAZmZmZmZmT0BmZmZmZqZAQAAAAAAAgE9AMzMzMzMzPUDNzMzMzMw2QAAAAAAAAERAmpmZmZkZOkBmZmZmZiZHQDMzMzMzM0JAzczMzMwMQkCamZmZmZlFQGZmZmZmZkNAAAAAAADAQEBmZmZmZmZDQAAAAAAAwEVAAAAAAACAP0DNzMzMzAxAQDMzMzMzsz9AAAAAAAAARkCamZmZmVlFQDMzMzMzs0JAzczMzMxMQUCamZmZmZlLQJqZmZmZmUpAMzMzMzOzQkDNzMzMzEw/QM3MzMzMDElAmpmZmZmZR0CamZmZmRlGQGZmZmZmJkFAzczMzMwMTEBmZmZmZqZBQGZmZmZmJkVAmpmZmZkZPEDNzMzMzEw/QM3MzMzMTEdAzczMzMwMSUCamZmZmZlAQAAAAAAAgEdAAAAAAAAASEBmZmZmZqZDQDMzMzMzM0VAmpmZmZlZSkBmZmZmZuY8QJqZmZmZ2UtAZmZmZmZmQEBmZmZmZiZDQJqZmZmZGTdAZmZmZmbmP0AzMzMzMzM/QDMzMzMzc0RAzczMzMxMQkBmZmZmZuY5QAAAAAAAADRAZmZmZmbmPEAAAAAAAMBFQM3MzMzMDElAzczMzMwMREDNzMzMzMxFQAAAAAAAAEBAmpmZmZkZPUAzMzMzMzNAQJqZmZmZ2UNAMzMzMzMzPUBmZmZmZiZKQDMzMzMzc0JAAAAAAAAAO0CamZmZmRlAQAAAAAAAgDtAzczMzMzMQUAAAAAAAMBQQDMzMzMzc0BAZmZmZmbmNEDNzMzMzAxBQGZmZmZmJkJAmpmZmZlZSUCamZmZmdlMQJqZmZmZ2UVAMzMzMzPzQkDNzMzMzAxIQGZmZmZmpkRAAAAAAADAREDNzMzMzIxAQAAAAAAAAEVAmpmZmZmZSEAAAAAAAIA3QJqZmZmZGTpAAAAAAACARkBmZmZmZmY/QJqZmZmZGT9AzczMzMyMRkDNzMzMzMxEQJqZmZmZGTNAAAAAAACAQUAAAAAAAMBGQDMzMzMzc0NAAAAAAADAQUDNzMzMzExJQAAAAAAAQENAZmZmZmZmPkDNzMzMzMxAQM3MzMzMTEBAAAAAAAAAOkDNzMzMzAxFQAAAAAAAgERAAAAAAABASEBmZmZmZmY9QDMzMzMzMzRAmpmZmZlZUUA=",
          "dtype": "f8"
         },
         "yaxis": "y"
        },
        {
         "hovertemplate": "Month=MAY<br>Year=%{x}<br>Rainfall (mm)=%{y}<extra></extra>",
         "legendgroup": "MAY",
         "line": {
          "color": "rgb(128,177,211)",
          "dash": "solid"
         },
         "marker": {
          "symbol": "circle"
         },
         "mode": "lines",
         "name": "MAY",
         "showlegend": true,
         "type": "scattergl",
         "x": {
          "bdata": "bQduB28HcAdxB3IHcwd0B3UHdgd3B3gHeQd6B3sHfAd9B34HfweAB4EHggeDB4QHhQeGB4cHiAeJB4oHiweMB40HjgePB5AHkQeSB5MHlAeVB5YHlweYB5kHmgebB5wHnQeeB58HoAehB6IHowekB6UHpgenB6gHqQeqB6sHrAetB64HrwewB7EHsgezB7QHtQe2B7cHuAe5B7oHuwe8B70Hvge/B8AHwQfCB8MHxAfFB8YHxwfIB8kHygfLB8wHzQfOB88H0AfRB9IH0wfUB9UH1gfXB9gH2QfaB9sH3AfdB94H3wc=",
          "dtype": "i2"
         },
         "xaxis": "x",
         "y": {
          "bdata": "ZmZmZmZmSUBmZmZmZiZIQAAAAAAAwE1AmpmZmZkZUkCamZmZmdlLQJqZmZmZWUJAzczMzMxMQEAzMzMzM7NGQM3MzMzMDEpAAAAAAADAREDNzMzMzMxHQAAAAAAAgEVAzczMzMxMUkAAAAAAAGBRQJqZmZmZWU9AAAAAAADATUAAAAAAAMBSQDMzMzMzs1lAAAAAAABATkAzMzMzM/NKQDMzMzMzs0hAAAAAAACASECamZmZmVlOQJqZmZmZGVBAZmZmZmYGWkDNzMzMzExNQGZmZmZm5klAZmZmZmYmS0DNzMzMzGxQQJqZmZmZWUxAZmZmZmamTUAzMzMzM1NVQM3MzMzMzFlAAAAAAAAASEBmZmZmZuZBQJqZmZmZuVRAzczMzMyMTEBmZmZmZqZRQJqZmZmZGURAzczMzMxMVEAzMzMzMxNUQDMzMzMzc1BAzczMzMzsV0DNzMzMzIxOQGZmZmZm5kpAMzMzMzPTUUAAAAAAAIBLQGZmZmZmhlZAZmZmZmZGVkBmZmZmZqZIQDMzMzMz801AmpmZmZmZUEBmZmZmZqZHQAAAAAAAgEpAzczMzMyMUkCamZmZmRlVQGZmZmZmBlJAmpmZmZn5U0CamZmZmdlSQM3MzMzMTExAZmZmZmZGU0BmZmZmZqZRQM3MzMzMzE1AzczMzMzMSUCamZmZmZlJQAAAAAAAgExAMzMzMzMzRUCamZmZmVlHQJqZmZmZmU9AMzMzMzMTUUCamZmZmblSQM3MzMzMzEtAAAAAAAAATEBmZmZmZqZPQJqZmZmZ2UhAmpmZmZkZRkAzMzMzM/NUQAAAAAAAQE1AmpmZmZnZSUCamZmZmVlLQAAAAAAAwFBAzczMzMzMTUBmZmZmZsZRQAAAAAAAwE1AzczMzMwMTkCamZmZmVlIQDMzMzMzk1BAMzMzMzMzUUAzMzMzM/NLQAAAAAAAoFxAAAAAAADgUECamZmZmRlMQAAAAAAAYFFAzczMzMwMSkDNzMzMzCxUQM3MzMzMzEtAAAAAAACAR0AAAAAAAMBJQDMzMzMzk1dAAAAAAABgUkBmZmZmZqZOQJqZmZmZ2UxAzczMzMxMQ0AAAAAAAKBSQGZmZmZmJklAzczMzMwsVEAzMzMzMzNJQJqZmZmZmUZAzczMzMxMTEAAAAAAAEBRQM3MzMzMzElAzczMzMwMQEAAAAAAAEBMQDMzMzMzM1JAZmZmZmbmSkA=",
          "dtype": "f8"
         },
         "yaxis": "y"
        },
        {
         "hovertemplate": "Month=JUN<br>Year=%{x}<br>Rainfall (mm)=%{y}<extra></extra>",
         "legendgroup": "JUN",
         "line": {
          "color": "rgb(253,180,98)",
          "dash": "solid"
         },
         "marker": {
          "symbol": "circle"
         },
         "mode": "lines",
         "name": "JUN",
         "showlegend": true,
         "type": "scattergl",
         "x": {
          "bdata": "bQduB28HcAdxB3IHcwd0B3UHdgd3B3gHeQd6B3sHfAd9B34HfweAB4EHggeDB4QHhQeGB4cHiAeJB4oHiweMB40HjgePB5AHkQeSB5MHlAeVB5YHlweYB5kHmgebB5wHnQeeB58HoAehB6IHowekB6UHpgenB6gHqQeqB6sHrAetB64HrwewB7EHsgezB7QHtQe2B7cHuAe5B7oHuwe8B70Hvge/B8AHwQfCB8MHxAfFB8YHxwfIB8kHygfLB8wHzQfOB88H0AfRB9IH0wfUB9UH1gfXB9gH2QfaB9sH3AfdB94H3wc=",
          "dtype": "i2"
         },
         "xaxis": "x",
         "y": {
          "bdata": "mpmZmZlZXEAzMzMzMzNbQDMzMzMzk11AmpmZmZmZZEAzMzMzM1NXQDMzMzMzI2ZAzczMzMxMY0CamZmZmZlfQGZmZmZmBmpAAAAAAACwakDNzMzMzPxnQDMzMzMzs1pAzczMzMzMakCamZmZmeljQM3MzMzMfGNAZmZmZmZmbUCamZmZmflsQDMzMzMzk2pAZmZmZmZmaEDNzMzMzHxkQM3MzMzMPGhAZmZmZmZWaUDNzMzMzKxZQAAAAAAA8GBAZmZmZmYmakAAAAAAAMBYQM3MzMzMbGZAMzMzMzNjZkCamZmZmVloQGZmZmZmxmZAAAAAAADQYEAAAAAAANBhQGZmZmZmRmtAZmZmZmbmakAzMzMzM/NjQAAAAAAAIG9AAAAAAABgZEAAAAAAADhxQGZmZmZmhmVAAAAAAADwZUAzMzMzM5NlQGZmZmZm1mdAAAAAAAAQZUAzMzMzM6NjQAAAAAAA0GNAmpmZmZm5akDNzMzMzExgQGZmZmZmhmRAMzMzMzNjZEAAAAAAAMBgQM3MzMzMHGRAMzMzMzOzZEAzMzMzM1NkQGZmZmZm5mFAmpmZmZlJZkBmZmZmZnZqQAAAAAAAYGNAmpmZmZn5XkBmZmZmZhZlQDMzMzMz42NAMzMzMzMDaECamZmZmQlhQAAAAAAAsGRAzczMzMwMZkAzMzMzM/NcQM3MzMzMLGZAzczMzMwcYkAAAAAAAIBiQJqZmZmZOWBAmpmZmZmZakAAAAAAAJBsQAAAAAAAwF5AAAAAAABwYkAzMzMzM7NeQDMzMzMzM2ZAAAAAAABgY0CamZmZmWlnQM3MzMzMTGpAmpmZmZmpYUDNzMzMzKxsQAAAAAAAIGNAzczMzMwcYUBmZmZmZgZjQAAAAAAAAGhAZmZmZmaGY0BmZmZmZtZmQGZmZmZmpmBAAAAAAADgY0CamZmZmUlnQAAAAAAAQGhAZmZmZmYGZ0BmZmZmZmZhQJqZmZmZWWVAAAAAAADAaUAzMzMzM5NhQM3MzMzM7GZAMzMzMzNzZUCamZmZmYlkQJqZmZmZaWVAAAAAAAAQZ0AzMzMzM+NqQDMzMzMzQ2VAAAAAAACQZECamZmZmflkQM3MzMzMXGJAzczMzMzsYkDNzMzMzCxpQJqZmZmZGWpAAAAAAACgVUDNzMzMzJxhQJqZmZmZ2WZAAAAAAABAX0DNzMzMzDxrQAAAAAAA4FdAmpmZmZkZaEA=",
          "dtype": "f8"
         },
         "yaxis": "y"
        },
        {
         "hovertemplate": "Month=JUL<br>Year=%{x}<br>Rainfall (mm)=%{y}<extra></extra>",
         "legendgroup": "JUL",
         "line": {
          "color": "rgb(179,222,105)",
          "dash": "solid"
         },
         "marker": {
          "symbol": "circle"
         },
         "mode": "lines",
         "name": "JUL",
         "showlegend": true,
         "type": "scattergl",
         "x": {
          "bdata": "bQduB28HcAdxB3IHcwd0B3UHdgd3B3gHeQd6B3sHfAd9B34HfweAB4EHggeDB4QHhQeGB4cHiAeJB4oHiweMB40HjgePB5AHkQeSB5MHlAeVB5YHlweYB5kHmgebB5wHnQeeB58HoAehB6IHowekB6UHpgenB6gHqQeqB6sHrAetB64HrwewB7EHsgezB7QHtQe2B7cHuAe5B7oHuwe8B70Hvge/B8AHwQfCB8MHxAfFB8YHxwfIB8kHygfLB8wHzQfOB88H0AfRB9IH0wfUB9UH1gfXB9gH2QfaB9sH3AfdB94H3wc=",
          "dtype": "i2"
         },
         "xaxis": "x",
         "y": {
          "bdata": "ZmZmZmZGbkAAAAAAAMBxQAAAAAAAkHJAAAAAAABQcECamZmZmZlvQGZmZmZm1nFAzczMzMwsbEAzMzMzM3N0QGZmZmZmVnNAmpmZmZlJb0BmZmZmZlZkQAAAAAAAkHRAZmZmZmYGcUDNzMzMzLR1QAAAAAAAwGxAmpmZmZmxcEAzMzMzM9NxQJqZmZmZ+WZAzczMzMxUc0AAAAAAAJhyQAAAAAAAmHJAzczMzMzcc0AAAAAAADh1QAAAAAAAgHRAzczMzMwsc0BmZmZmZg50QAAAAAAA8HVAmpmZmZkpc0DNzMzMzKxyQAAAAAAASHJAZmZmZmZedEAAAAAAAPh0QAAAAAAAwHFAAAAAAADYcUBmZmZmZuZzQGZmZmZmhnJAMzMzMzM7dUAAAAAAAAhzQAAAAAAAUHFAzczMzMycc0CamZmZmRluQJqZmZmZkXVAAAAAAACIc0AzMzMzMyt2QAAAAAAA8HRAzczMzMz0c0AAAAAAALBzQM3MzMzMvHVAAAAAAADwc0AzMzMzM7N0QM3MzMzMrG9AAAAAAADocUCamZmZmRl0QJqZmZmZeXJAmpmZmZmJbUAAAAAAALB2QAAAAAAAKHNAAAAAAAAAdECamZmZmZF3QJqZmZmZ6XNAmpmZmZkxdUBmZmZmZq5xQM3MzMzMHHBAzczMzMyEdUAzMzMzM9NwQM3MzMzMfG9AmpmZmZkJc0CamZmZmVlzQDMzMzMz63NAZmZmZmambkAzMzMzM8twQAAAAAAAsGlAzczMzMx0cUDNzMzMzIRxQGZmZmZmRnNAMzMzMzOTckBmZmZmZm50QJqZmZmZQXJAmpmZmZnpbUDNzMzMzKRyQJqZmZmZSXNAmpmZmZkJbUAAAAAAAKhxQAAAAAAA6HFAzczMzMwUckBmZmZmZlZwQJqZmZmZuWtAZmZmZmb2d0DNzMzMzORyQDMzMzMz63FAZmZmZmaWcUAzMzMzM+NwQAAAAAAAOHNAZmZmZmYWdkAzMzMzM1t0QGZmZmZmpnBAAAAAAACYcUCamZmZmaFxQDMzMzMza3BAmpmZmZm5cECamZmZmZFxQM3MzMzMXGFAmpmZmZkZc0BmZmZmZjZuQM3MzMzMRHVAAAAAAACockDNzMzMzHxyQAAAAAAAQG9AMzMzMzO7cUCamZmZmVlyQAAAAAAAYG5AmpmZmZkhcEBmZmZmZhZzQM3MzMzMLHBAzczMzMxMbkA=",
          "dtype": "f8"
         },
         "yaxis": "y"
        },
        {
         "hovertemplate": "Month=AUG<br>Year=%{x}<br>Rainfall (mm)=%{y}<extra></extra>",
         "legendgroup": "AUG",
         "line": {
          "color": "rgb(252,205,229)",
          "dash": "solid"
         },
         "marker": {
          "symbol": "circle"
         },
         "mode": "lines",
         "name": "AUG",
         "showlegend": true,
         "type": "scattergl",
         "x": {
          "bdata": "bQduB28HcAdxB3IHcwd0B3UHdgd3B3gHeQd6B3sHfAd9B34HfweAB4EHggeDB4QHhQeGB4cHiAeJB4oHiweMB40HjgePB5AHkQeSB5MHlAeVB5YHlweYB5kHmgebB5wHnQeeB58HoAehB6IHowekB6UHpgenB6gHqQeqB6sHrAetB64HrwewB7EHsgezB7QHtQe2B7cHuAe5B7oHuwe8B70Hvge/B8AHwQfCB8MHxAfFB8YHxwfIB8kHygfLB8wHzQfOB88H0AfRB9IH0wfUB9UH1gfXB9gH2QfaB9sH3AfdB94H3wc=",
          "dtype": "i2"
         },
         "xaxis": "x",
         "y": {
          "bdata": "ZmZmZmYOcUBmZmZmZvZoQGZmZmZm5nBAzczMzMzMaUCamZmZmRlpQDMzMzMzY29AZmZmZmZmc0DNzMzMzIxzQAAAAAAAYG1AzczMzMwcckAAAAAAALBqQM3MzMzMVHBAzczMzMw8aECamZmZmRluQDMzMzMzw2xAAAAAAABoc0AAAAAAAIhyQGZmZmZmVm5AAAAAAAAYckBmZmZmZvZnQAAAAAAAaHFAZmZmZmbWa0AAAAAAAFBxQJqZmZmZcXBAzczMzMzcbUAAAAAAAPh0QM3MzMzMNHBAmpmZmZkZbUDNzMzMzNxuQAAAAAAA0GpAAAAAAABQc0AzMzMzM+NtQAAAAAAAyHNAMzMzMzPLckBmZmZmZgZvQJqZmZmZOW5AAAAAAABQakAAAAAAAHBvQM3MzMzMTG1AMzMzMzOjcUBmZmZmZtZsQGZmZmZmVnJAmpmZmZlZbUCamZmZmTlyQGZmZmZm9m5AmpmZmZmJckCamZmZmTFyQM3MzMzMnHFAAAAAAACAbkCamZmZmWltQDMzMzMz02tAzczMzMwMcEBmZmZmZt5yQDMzMzMzA21AmpmZmZkJdECamZmZmUFwQDMzMzMzW3FAzczMzMxUdECamZmZmalwQGZmZmZmpm9AZmZmZmYGckAAAAAAAFBxQDMzMzMz03NAmpmZmZkpcUCamZmZmQloQDMzMzMzA2tAZmZmZmZucEAAAAAAAIBqQGZmZmZmBnFAmpmZmZmZc0AAAAAAANBwQJqZmZmZuWtAAAAAAACIc0AAAAAAAABtQJqZmZmZKXJAAAAAAAB4ckAAAAAAAPBuQAAAAAAAyHFAmpmZmZlpakCamZmZmbFwQGZmZmZm5m1AZmZmZmY+cUCamZmZmTlzQGZmZmZmbnBAAAAAAAAwbUAAAAAAADBtQGZmZmZmZm5AzczMzMz0ckBmZmZmZsZtQDMzMzMzU3JAMzMzMzNzcEAAAAAAAAByQM3MzMzMrGlAZmZmZmb+cUDNzMzMzMxwQGZmZmZmdnJAAAAAAABAcEAAAAAAAEBvQJqZmZmZOWtAZmZmZmYmbEAAAAAAAEBqQGZmZmZmxm5AmpmZmZn5bkAAAAAAAJBvQAAAAAAAAGhAmpmZmZnpckAzMzMzMzNwQM3MzMzMhHBAzczMzMz8Z0DNzMzMzARxQJqZmZmZyXFAZmZmZmZ+cEDNzMzMzAxvQM3MzMzMvG1AZmZmZmamaUA=",
          "dtype": "f8"
         },
         "yaxis": "y"
        },
        {
         "hovertemplate": "Month=SEP<br>Year=%{x}<br>Rainfall (mm)=%{y}<extra></extra>",
         "legendgroup": "SEP",
         "line": {
          "color": "rgb(217,217,217)",
          "dash": "solid"
         },
         "marker": {
          "symbol": "circle"
         },
         "mode": "lines",
         "name": "SEP",
         "showlegend": true,
         "type": "scattergl",
         "x": {
          "bdata": "bQduB28HcAdxB3IHcwd0B3UHdgd3B3gHeQd6B3sHfAd9B34HfweAB4EHggeDB4QHhQeGB4cHiAeJB4oHiweMB40HjgePB5AHkQeSB5MHlAeVB5YHlweYB5kHmgebB5wHnQeeB58HoAehB6IHowekB6UHpgenB6gHqQeqB6sHrAetB64HrwewB7EHsgezB7QHtQe2B7cHuAe5B7oHuwe8B70Hvge/B8AHwQfCB8MHxAfFB8YHxwfIB8kHygfLB8wHzQfOB88H0AfRB9IH0wfUB9UH1gfXB9gH2QfaB9sH3AfdB94H3wc=",
          "dtype": "i2"
         },
         "xaxis": "x",
         "y": {
          "bdata": "mpmZmZkZX0AAAAAAADBpQDMzMzMz42hAMzMzMzMzYEDNzMzMzExmQGZmZmZm1mZAmpmZmZk5WEAAAAAAANBiQDMzMzMzc2RAmpmZmZlZZ0CamZmZmclmQDMzMzMzE15AmpmZmZkZW0CamZmZmUloQAAAAAAAgGVAMzMzMzMzaUAAAAAAAJBxQM3MzMzMbFtAMzMzMzNzZEAAAAAAAMBeQDMzMzMz02lAZmZmZmZWaUBmZmZmZlZmQAAAAAAAUG5AZmZmZma2YUAAAAAAAGBqQDMzMzMzo2VAzczMzMwMYkBmZmZmZqZfQGZmZmZmFmZAMzMzMzMzaEAAAAAAAMBmQAAAAAAA8GpAAAAAAAAgZUAzMzMzM2NnQAAAAAAAUGhAAAAAAADgZUBmZmZmZlZlQJqZmZmZeWNAAAAAAABgX0AzMzMzM4NjQM3MzMzMDGdAmpmZmZmZakCamZmZmcljQAAAAAAA8GpAAAAAAAAgYkDNzMzMzNxtQM3MzMzMbGZAMzMzMzMzbEBmZmZmZnZpQJqZmZmZGV9AzczMzMwsXkBmZmZmZmZmQGZmZmZmFm9AZmZmZmZWa0AAAAAAAKBkQJqZmZmZiWBAmpmZmZm5bECamZmZmeltQM3MzMzMjGZAZmZmZmaGbUAAAAAAAIBqQM3MzMzMrGRAzczMzMzcaEAzMzMzM2NgQJqZmZmZmWJAzczMzMxMZUCamZmZmSlgQM3MzMzM3GVAMzMzMzODakBmZmZmZnZiQDMzMzMzI2BAAAAAAADQZkAzMzMzM8NhQGZmZmZmlmxAZmZmZmYWYkAAAAAAAHBiQDMzMzMzI2RAZmZmZmb2YEAzMzMzMzNiQDMzMzMzU2dAMzMzMzNTX0CamZmZmelvQM3MzMzMLGJAZmZmZmb2YkAAAAAAAGBfQJqZmZmZ6WJAzczMzMyMa0AzMzMzM4NkQDMzMzMzk2hAmpmZmZl5YUCamZmZmUllQGZmZmZmZmpAZmZmZmbWYkAzMzMzM6NmQM3MzMzMTGJAMzMzMzPDYkAzMzMzMyNpQDMzMzMzQ2dAmpmZmZnpYEDNzMzMzExbQM3MzMzMvGBAzczMzMx8ZkBmZmZmZuZeQGZmZmZmFmlAzczMzMzsZUAzMzMzM+NqQGZmZmZmtmRAmpmZmZmJYUAzMzMzM3NoQAAAAAAA0GdAZmZmZma2aEDNzMzMzIxiQM3MzMzMfGdAmpmZmZl5YEA=",
          "dtype": "f8"
         },
         "yaxis": "y"
        },
        {
         "hovertemplate": "Month=OCT<br>Year=%{x}<br>Rainfall (mm)=%{y}<extra></extra>",
         "legendgroup": "OCT",
         "line": {
          "color": "rgb(188,128,189)",
          "dash": "solid"
         },
         "marker": {
          "symbol": "circle"
         },
         "mode": "lines",
         "name": "OCT",
         "showlegend": true,
         "type": "scattergl",
         "x": {
          "bdata": "bQduB28HcAdxB3IHcwd0B3UHdgd3B3gHeQd6B3sHfAd9B34HfweAB4EHggeDB4QHhQeGB4cHiAeJB4oHiweMB40HjgePB5AHkQeSB5MHlAeVB5YHlweYB5kHmgebB5wHnQeeB58HoAehB6IHowekB6UHpgenB6gHqQeqB6sHrAetB64HrwewB7EHsgezB7QHtQe2B7cHuAe5B7oHuwe8B70Hvge/B8AHwQfCB8MHxAfFB8YHxwfIB8kHygfLB8wHzQfOB88H0AfRB9IH0wfUB9UH1gfXB9gH2QfaB9sH3AfdB94H3wc=",
          "dtype": "i2"
         },
         "xaxis": "x",
         "y": {
          "bdata": "mpmZmZlZSkAAAAAAAMBOQJqZmZmZeV1AAAAAAABAUUAzMzMzM7NJQM3MzMzMzEhAMzMzMzOzNkAAAAAAAMBCQGZmZmZmJkNAmpmZmZnZWkBmZmZmZqZRQDMzMzMz80tAAAAAAADAUEAAAAAAAEBIQDMzMzMzk1ZAZmZmZmZGYUCamZmZmdljQAAAAAAAADRAAAAAAAAgV0DNzMzMzAxGQGZmZmZmxlFAAAAAAACATkAzMzMzM3NOQM3MzMzMjFBAMzMzMzMzUUBmZmZmZqZMQM3MzMzMTFFAmpmZmZkZYECamZmZmRlXQDMzMzMzs1dAAAAAAAAgX0DNzMzMzExRQJqZmZmZmVdAAAAAAADAT0DNzMzMzIxIQJqZmZmZuVBAmpmZmZnZV0AzMzMzM1NTQDMzMzMz81ZAMzMzMzNzTkCamZmZmVlPQAAAAAAAwEFAAAAAAADgVUBmZmZmZiZXQJqZmZmZeVRAmpmZmZnZVECamZmZmVlRQGZmZmZm5k1AzczMzMxsWEBmZmZmZiZMQM3MzMzMbFJAZmZmZmbmU0BmZmZmZiZVQJqZmZmZeVJAmpmZmZnpYkCamZmZmQljQGZmZmZmRlBAAAAAAADgXUAAAAAAAABeQAAAAAAAQFFAMzMzMzOzXkDNzMzMzGxTQGZmZmZmhlhAmpmZmZl5UEAAAAAAAMBAQJqZmZmZWUxAZmZmZmYmREDNzMzMzOxQQM3MzMzMDEtAmpmZmZl5UkBmZmZmZiZZQAAAAAAAgFBAMzMzMzOTXECamZmZmZlZQJqZmZmZOV5AAAAAAAAAQECamZmZmdlUQGZmZmZmZkhAzczMzMwMSUBmZmZmZiZJQM3MzMzMjEVAMzMzMzPzSUAAAAAAAKBVQGZmZmZmJk5AzczMzMysXEBmZmZmZqZRQAAAAAAAQFdAzczMzMyMS0CamZmZmVlJQM3MzMzMzFlAMzMzMzMzTkAzMzMzMxNQQDMzMzMzs1VAmpmZmZn5U0DNzMzMzAxUQJqZmZmZ+VdAAAAAAACATUBmZmZmZoZaQAAAAAAAAF1AzczMzMxMREDNzMzMzGxYQDMzMzMzM0tAzczMzMwsV0AzMzMzMzNWQM3MzMzMDFhAZmZmZmYmSkBmZmZmZqZLQAAAAAAAQElAZmZmZmaGUUDNzMzMzOxQQAAAAAAAQEJAZmZmZmbmTUDNzMzMzBxgQDMzMzMzc05AMzMzMzNzRUA=",
          "dtype": "f8"
         },
         "yaxis": "y"
        },
        {
         "hovertemplate": "Month=NOV<br>Year=%{x}<br>Rainfall (mm)=%{y}<extra></extra>",
         "legendgroup": "NOV",
         "line": {
          "color": "rgb(204,235,197)",
          "dash": "solid"
         },
         "marker": {
          "symbol": "circle"
         },
         "mode": "lines",
         "name": "NOV",
         "showlegend": true,
         "type": "scattergl",
         "x": {
          "bdata": "bQduB28HcAdxB3IHcwd0B3UHdgd3B3gHeQd6B3sHfAd9B34HfweAB4EHggeDB4QHhQeGB4cHiAeJB4oHiweMB40HjgePB5AHkQeSB5MHlAeVB5YHlweYB5kHmgebB5wHnQeeB58HoAehB6IHowekB6UHpgenB6gHqQeqB6sHrAetB64HrwewB7EHsgezB7QHtQe2B7cHuAe5B7oHuwe8B70Hvge/B8AHwQfCB8MHxAfFB8YHxwfIB8kHygfLB8wHzQfOB88H0AfRB9IH0wfUB9UH1gfXB9gH2QfaB9sH3AfdB94H3wc=",
          "dtype": "i2"
         },
         "xaxis": "x",
         "y": {
          "bdata": "AAAAAAAAQ0BmZmZmZuY7QDMzMzMzc0JAZmZmZmZmJkBmZmZmZmYjQM3MzMzMzDFAAAAAAACANkAAAAAAAAAaQJqZmZmZmSNAAAAAAACAQUBmZmZmZmZFQGZmZmZmZklAZmZmZmZmMUCamZmZmRk1QM3MzMzMDEZAzczMzMzMRkAzMzMzMzM8QM3MzMzMjERAZmZmZmbmSEAAAAAAAIA4QAAAAAAAAC1AAAAAAADAS0BmZmZmZmYzQDMzMzMz80xAMzMzMzPzQ0AzMzMzMzMlQDMzMzMz80tAmpmZmZmZN0AAAAAAAIAyQM3MzMzMDEtAzczMzMxMREAzMzMzM/NNQAAAAAAAADRAMzMzMzNzQEAzMzMzMzMxQAAAAAAAgEtAzczMzMzMM0BmZmZmZuYxQGZmZmZm5jxAZmZmZmZmQ0DNzMzMzMw6QDMzMzMzMzJAMzMzMzOzMEAAAAAAAAA9QM3MzMzMzDBAzczMzMwsUkBmZmZmZmYeQDMzMzMz81FAMzMzMzMzJEBmZmZmZmY7QM3MzMzMTD9AMzMzMzMzIkAAAAAAAAApQM3MzMzMzAxAmpmZmZkZOkDNzMzMzExFQJqZmZmZmTtAZmZmZmbmPUDNzMzMzMw5QJqZmZmZmT9AAAAAAACANEAAAAAAAAAyQAAAAAAAgDtAZmZmZmbmNUBmZmZmZmYxQGZmZmZmpkhAzczMzMzMJkCamZmZmZk1QJqZmZmZmUJAmpmZmZmZL0AAAAAAAAAvQM3MzMzMTD5AMzMzMzOzMUBmZmZmZmYkQM3MzMzMzDZAMzMzMzMzS0BmZmZmZsZQQDMzMzMzc0hAzczMzMyMUkCamZmZmRk3QDMzMzMzMztAzczMzMxMRkAAAAAAAAAkQJqZmZmZmStAAAAAAACAMkCamZmZmdlHQM3MzMzMzEVAMzMzMzMzL0DNzMzMzEwzQAAAAAAAgD1AzczMzMzMPEBmZmZmZiZEQDMzMzMzMzxAmpmZmZmZOUCamZmZmVlCQJqZmZmZmSpAAAAAAADAS0CamZmZmVlDQDMzMzMzszNAZmZmZmZmLUAAAAAAAIAyQGZmZmZmZi1AZmZmZmZmJEBmZmZmZuYwQDMzMzMzMztAzczMzMwMQEBmZmZmZmYuQJqZmZmZGTlAmpmZmZmZSkCamZmZmVlMQGZmZmZmZjJAZmZmZmbmPEBmZmZmZmYrQAAAAAAAACtAMzMzMzOzQ0A=",
          "dtype": "f8"
         },
         "yaxis": "y"
        },
        {
         "hovertemplate": "Month=DEC<br>Year=%{x}<br>Rainfall (mm)=%{y}<extra></extra>",
         "legendgroup": "DEC",
         "line": {
          "color": "rgb(255,237,111)",
          "dash": "solid"
         },
         "marker": {
          "symbol": "circle"
         },
         "mode": "lines",
         "name": "DEC",
         "showlegend": true,
         "type": "scattergl",
         "x": {
          "bdata": "bQduB28HcAdxB3IHcwd0B3UHdgd3B3gHeQd6B3sHfAd9B34HfweAB4EHggeDB4QHhQeGB4cHiAeJB4oHiweMB40HjgePB5AHkQeSB5MHlAeVB5YHlweYB5kHmgebB5wHnQeeB58HoAehB6IHowekB6UHpgenB6gHqQeqB6sHrAetB64HrwewB7EHsgezB7QHtQe2B7cHuAe5B7oHuwe8B70Hvge/B8AHwQfCB8MHxAfFB8YHxwfIB8kHygfLB8wHzQfOB88H0AfRB9IH0wfUB9UH1gfXB9gH2QfaB9sH3AfdB94H3wc=",
          "dtype": "i2"
         },
         "xaxis": "x",
         "y": {
          "bdata": "mpmZmZmZIEBmZmZmZmY4QDMzMzMzszFAzczMzMxMMEAAAAAAAAAlQGZmZmZm5jdAMzMzMzMzKEBmZmZmZmYhQDMzMzMzMz5AmpmZmZmZGUAAAAAAAAAoQDMzMzMzMxdAZmZmZmbmN0AAAAAAAIA2QAAAAAAAACFAzczMzMzMCECamZmZmZkkQGZmZmZmZjBAAAAAAACAM0BmZmZmZmYKQDMzMzMzMzFAAAAAAAAALUCamZmZmZkwQJqZmZmZGTBAzczMzMzMLEDNzMzMzMwkQJqZmZmZmSVAmpmZmZmZOkAzMzMzM7NFQGZmZmZmZiNAAAAAAAAANUDNzMzMzMwvQAAAAAAAADBAZmZmZmZmJ0CamZmZmZkmQAAAAAAAADdAZmZmZmZmNEDNzMzMzMwUQJqZmZmZmfk/ZmZmZmZmMUAzMzMzM7MzQDMzMzMzMzhAzczMzMzMFEAzMzMzMzMvQGZmZmZmZhRAMzMzMzNzQUAAAAAAAAA3QJqZmZmZmSNAmpmZmZmZE0CamZmZmZkfQJqZmZmZmRdAzczMzMzMNUAAAAAAAAAgQGZmZmZmZitAMzMzMzMzI0BmZmZmZmYpQDMzMzMzMyxAZmZmZmZmLUDNzMzMzMwUQJqZmZmZmSBAZmZmZmZmJEAzMzMzM7M8QDMzMzMzMy1AAAAAAAAAKUCamZmZmRk1QJqZmZmZmTFAMzMzMzMzS0AAAAAAAAAoQDMzMzMzMyhAMzMzMzMz+z8AAAAAAAAoQM3MzMzMTDZAZmZmZmZmMUDNzMzMzMwlQJqZmZmZmQlAmpmZmZmZHUAAAAAAAAAwQAAAAAAAgDJAZmZmZmZmLEAzMzMzM7MzQDMzMzMzMyxAZmZmZmZmK0DNzMzMzMw2QAAAAAAAAC5AAAAAAACAOUAAAAAAAAA8QJqZmZmZmTVAMzMzMzMzMUDNzMzMzMwwQGZmZmZmZjxAAAAAAACAMUBmZmZmZmYUQAAAAAAAAC9AmpmZmZkZNEAAAAAAAAAiQAAAAAAAADFAAAAAAADAR0AAAAAAAAAlQGZmZmZmZg5AMzMzMzMzI0AAAAAAAAAYQM3MzMzMzBRAmpmZmZmZMEBmZmZmZmYYQAAAAAAAACdAZmZmZmZmKUAzMzMzM7MwQJqZmZmZmSVAmpmZmZmZJUCamZmZmRk2QAAAAAAAABpAMzMzMzMzI0DNzMzMzMwYQM3MzMzMzCRAAAAAAAAALkA=",
          "dtype": "f8"
         },
         "yaxis": "y"
        },
        {
         "marker": {
          "color": "red",
          "size": 5,
          "symbol": "circle"
         },
         "mode": "markers",
         "name": "Anomalous Months",
         "type": "scatter",
         "x": {
          "bdata": "dwd/B5cH1wdyB5EHqAd1B4YHrwffB28HuQdzB4UHxgfcB3EHkAeSB9kHpwfEB9IHeQeAB6YHfQe/B3wHfgecB6IHuweJB5oHzQd3B38HlwfXB3IHkQeoB3UHhgevB98Hbwe5B3MHhQfGB9wHcQeQB5IH2QenB8QH0gd5B4AHpgd9B78HfAd+B5wHoge7B4kHmgfNB3cHfweXB9cHcgeRB6gHdQeGB68H3wdvB7kHcweFB8YH3AdxB5AHkgfZB6cHxAfSB3kHgAemB30Hvwd8B34HnAeiB7sHiQeaB80Hdwd/B5cH1wdyB5EHqAd1B4YHrwffB28HuQdzB4UHxgfcB3EHkAeSB9kHpwfEB9IHeQeAB6YHfQe/B3wHfgecB6IHuweJB5oHzQd3B38HlwfXB3IHkQeoB3UHhgevB98Hbwe5B3MHhQfGB9wHcQeQB5IH2QenB8QH0gd5B4AHpgd9B78HfAd+B5wHoge7B4kHmgfNB3cHfweXB9cHcgeRB6gHdQeGB68H3wdvB7kHcweFB8YH3AdxB5AHkgfZB6cHxAfSB3kHgAemB30Hvwd8B34HnAeiB7sHiQeaB80Hdwd/B5cH1wdyB5EHqAd1B4YHrwffB28HuQdzB4UHxgfcB3EHkAeSB9kHpwfEB9IHeQeAB6YHfQe/B3wHfgecB6IHuweJB5oHzQd3B38HlwfXB3IHkQeoB3UHhgevB98Hbwe5B3MHhQfGB9wHcQeQB5IH2QenB8QH0gd5B4AHpgd9B78HfAd+B5wHoge7B4kHmgfNB3cHfweXB9cHcgeRB6gHdQeGB68H3wdvB7kHcweFB8YH3AdxB5AHkgfZB6cHxAfSB3kHgAemB30Hvwd8B34HnAeiB7sHiQeaB80Hdwd/B5cH1wdyB5EHqAd1B4YHrwffB28HuQdzB4UHxgfcB3EHkAeSB9kHpwfEB9IHeQeAB6YHfQe/B3wHfgecB6IHuweJB5oHzQd3B38HlwfXB3IHkQeoB3UHhgevB98Hbwe5B3MHhQfGB9wHcQeQB5IH2QenB8QH0gd5B4AHpgd9B78HfAd+B5wHoge7B4kHmgfNB3cHfweXB9cHcgeRB6gHdQeGB68H3wdvB7kHcweFB8YH3AdxB5AHkgfZB6cHxAfSB3kHgAemB30Hvwd8B34HnAeiB7sHiQeaB80H",
          "dtype": "i2"
         },
         "y": {
          "bdata": "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",
          "dtype": "f8"
         }
        }
       ],
       "layout": {
        "height": 500,
        "legend": {
         "title": {
          "text": "Legend"
         },
         "tracegroupgap": 0
        },
        "template": {
         "data": {
          "bar": [
           {
            "error_x": {
             "color": "#2a3f5f"
            },
            "error_y": {
             "color": "#2a3f5f"
            },
            "marker": {
             "line": {
              "color": "white",
              "width": 0.5
             },
             "pattern": {
              "fillmode": "overlay",
              "size": 10,
              "solidity": 0.2
             }
            },
            "type": "bar"
           }
          ],
          "barpolar": [
           {
            "marker": {
             "line": {
              "color": "white",
              "width": 0.5
             },
             "pattern": {
              "fillmode": "overlay",
              "size": 10,
              "solidity": 0.2
             }
            },
            "type": "barpolar"
           }
          ],
          "carpet": [
           {
            "aaxis": {
             "endlinecolor": "#2a3f5f",
             "gridcolor": "#C8D4E3",
             "linecolor": "#C8D4E3",
             "minorgridcolor": "#C8D4E3",
             "startlinecolor": "#2a3f5f"
            },
            "baxis": {
             "endlinecolor": "#2a3f5f",
             "gridcolor": "#C8D4E3",
             "linecolor": "#C8D4E3",
             "minorgridcolor": "#C8D4E3",
             "startlinecolor": "#2a3f5f"
            },
            "type": "carpet"
           }
          ],
          "choropleth": [
           {
            "colorbar": {
             "outlinewidth": 0,
             "ticks": ""
            },
            "type": "choropleth"
           }
          ],
          "contour": [
           {
            "colorbar": {
             "outlinewidth": 0,
             "ticks": ""
            },
            "colorscale": [
             [
              0,
              "#0d0887"
             ],
             [
              0.1111111111111111,
              "#46039f"
             ],
             [
              0.2222222222222222,
              "#7201a8"
             ],
             [
              0.3333333333333333,
              "#9c179e"
             ],
             [
              0.4444444444444444,
              "#bd3786"
             ],
             [
              0.5555555555555556,
              "#d8576b"
             ],
             [
              0.6666666666666666,
              "#ed7953"
             ],
             [
              0.7777777777777778,
              "#fb9f3a"
             ],
             [
              0.8888888888888888,
              "#fdca26"
             ],
             [
              1,
              "#f0f921"
             ]
            ],
            "type": "contour"
           }
          ],
          "contourcarpet": [
           {
            "colorbar": {
             "outlinewidth": 0,
             "ticks": ""
            },
            "type": "contourcarpet"
           }
          ],
          "heatmap": [
           {
            "colorbar": {
             "outlinewidth": 0,
             "ticks": ""
            },
            "colorscale": [
             [
              0,
              "#0d0887"
             ],
             [
              0.1111111111111111,
              "#46039f"
             ],
             [
              0.2222222222222222,
              "#7201a8"
             ],
             [
              0.3333333333333333,
              "#9c179e"
             ],
             [
              0.4444444444444444,
              "#bd3786"
             ],
             [
              0.5555555555555556,
              "#d8576b"
             ],
             [
              0.6666666666666666,
              "#ed7953"
             ],
             [
              0.7777777777777778,
              "#fb9f3a"
             ],
             [
              0.8888888888888888,
              "#fdca26"
             ],
             [
              1,
              "#f0f921"
             ]
            ],
            "type": "heatmap"
           }
          ],
          "histogram": [
           {
            "marker": {
             "pattern": {
              "fillmode": "overlay",
              "size": 10,
              "solidity": 0.2
             }
            },
            "type": "histogram"
           }
          ],
          "histogram2d": [
           {
            "colorbar": {
             "outlinewidth": 0,
             "ticks": ""
            },
            "colorscale": [
             [
              0,
              "#0d0887"
             ],
             [
              0.1111111111111111,
              "#46039f"
             ],
             [
              0.2222222222222222,
              "#7201a8"
             ],
             [
              0.3333333333333333,
              "#9c179e"
             ],
             [
              0.4444444444444444,
              "#bd3786"
             ],
             [
              0.5555555555555556,
              "#d8576b"
             ],
             [
              0.6666666666666666,
              "#ed7953"
             ],
             [
              0.7777777777777778,
              "#fb9f3a"
             ],
             [
              0.8888888888888888,
              "#fdca26"
             ],
             [
              1,
              "#f0f921"
             ]
            ],
            "type": "histogram2d"
           }
          ],
          "histogram2dcontour": [
           {
            "colorbar": {
             "outlinewidth": 0,
             "ticks": ""
            },
            "colorscale": [
             [
              0,
              "#0d0887"
             ],
             [
              0.1111111111111111,
              "#46039f"
             ],
             [
              0.2222222222222222,
              "#7201a8"
             ],
             [
              0.3333333333333333,
              "#9c179e"
             ],
             [
              0.4444444444444444,
              "#bd3786"
             ],
             [
              0.5555555555555556,
              "#d8576b"
             ],
             [
              0.6666666666666666,
              "#ed7953"
             ],
             [
              0.7777777777777778,
              "#fb9f3a"
             ],
             [
              0.8888888888888888,
              "#fdca26"
             ],
             [
              1,
              "#f0f921"
             ]
            ],
            "type": "histogram2dcontour"
           }
          ],
          "mesh3d": [
           {
            "colorbar": {
             "outlinewidth": 0,
             "ticks": ""
            },
            "type": "mesh3d"
           }
          ],
          "parcoords": [
           {
            "line": {
             "colorbar": {
              "outlinewidth": 0,
              "ticks": ""
             }
            },
            "type": "parcoords"
           }
          ],
          "pie": [
           {
            "automargin": true,
            "type": "pie"
           }
          ],
          "scatter": [
           {
            "fillpattern": {
             "fillmode": "overlay",
             "size": 10,
             "solidity": 0.2
            },
            "type": "scatter"
           }
          ],
          "scatter3d": [
           {
            "line": {
             "colorbar": {
              "outlinewidth": 0,
              "ticks": ""
             }
            },
            "marker": {
             "colorbar": {
              "outlinewidth": 0,
              "ticks": ""
             }
            },
            "type": "scatter3d"
           }
          ],
          "scattercarpet": [
           {
            "marker": {
             "colorbar": {
              "outlinewidth": 0,
              "ticks": ""
             }
            },
            "type": "scattercarpet"
           }
          ],
          "scattergeo": [
           {
            "marker": {
             "colorbar": {
              "outlinewidth": 0,
              "ticks": ""
             }
            },
            "type": "scattergeo"
           }
          ],
          "scattergl": [
           {
            "marker": {
             "colorbar": {
              "outlinewidth": 0,
              "ticks": ""
             }
            },
            "type": "scattergl"
           }
          ],
          "scattermap": [
           {
            "marker": {
             "colorbar": {
              "outlinewidth": 0,
              "ticks": ""
             }
            },
            "type": "scattermap"
           }
          ],
          "scattermapbox": [
           {
            "marker": {
             "colorbar": {
              "outlinewidth": 0,
              "ticks": ""
             }
            },
            "type": "scattermapbox"
           }
          ],
          "scatterpolar": [
           {
            "marker": {
             "colorbar": {
              "outlinewidth": 0,
              "ticks": ""
             }
            },
            "type": "scatterpolar"
           }
          ],
          "scatterpolargl": [
           {
            "marker": {
             "colorbar": {
              "outlinewidth": 0,
              "ticks": ""
             }
            },
            "type": "scatterpolargl"
           }
          ],
          "scatterternary": [
           {
            "marker": {
             "colorbar": {
              "outlinewidth": 0,
              "ticks": ""
             }
            },
            "type": "scatterternary"
           }
          ],
          "surface": [
           {
            "colorbar": {
             "outlinewidth": 0,
             "ticks": ""
            },
            "colorscale": [
             [
              0,
              "#0d0887"
             ],
             [
              0.1111111111111111,
              "#46039f"
             ],
             [
              0.2222222222222222,
              "#7201a8"
             ],
             [
              0.3333333333333333,
              "#9c179e"
             ],
             [
              0.4444444444444444,
              "#bd3786"
             ],
             [
              0.5555555555555556,
              "#d8576b"
             ],
             [
              0.6666666666666666,
              "#ed7953"
             ],
             [
              0.7777777777777778,
              "#fb9f3a"
             ],
             [
              0.8888888888888888,
              "#fdca26"
             ],
             [
              1,
              "#f0f921"
             ]
            ],
            "type": "surface"
           }
          ],
          "table": [
           {
            "cells": {
             "fill": {
              "color": "#EBF0F8"
             },
             "line": {
              "color": "white"
             }
            },
            "header": {
             "fill": {
              "color": "#C8D4E3"
             },
             "line": {
              "color": "white"
             }
            },
            "type": "table"
           }
          ]
         },
         "layout": {
          "annotationdefaults": {
           "arrowcolor": "#2a3f5f",
           "arrowhead": 0,
           "arrowwidth": 1
          },
          "autotypenumbers": "strict",
          "coloraxis": {
           "colorbar": {
            "outlinewidth": 0,
            "ticks": ""
           }
          },
          "colorscale": {
           "diverging": [
            [
             0,
             "#8e0152"
            ],
            [
             0.1,
             "#c51b7d"
            ],
            [
             0.2,
             "#de77ae"
            ],
            [
             0.3,
             "#f1b6da"
            ],
            [
             0.4,
             "#fde0ef"
            ],
            [
             0.5,
             "#f7f7f7"
            ],
            [
             0.6,
             "#e6f5d0"
            ],
            [
             0.7,
             "#b8e186"
            ],
            [
             0.8,
             "#7fbc41"
            ],
            [
             0.9,
             "#4d9221"
            ],
            [
             1,
             "#276419"
            ]
           ],
           "sequential": [
            [
             0,
             "#0d0887"
            ],
            [
             0.1111111111111111,
             "#46039f"
            ],
            [
             0.2222222222222222,
             "#7201a8"
            ],
            [
             0.3333333333333333,
             "#9c179e"
            ],
            [
             0.4444444444444444,
             "#bd3786"
            ],
            [
             0.5555555555555556,
             "#d8576b"
            ],
            [
             0.6666666666666666,
             "#ed7953"
            ],
            [
             0.7777777777777778,
             "#fb9f3a"
            ],
            [
             0.8888888888888888,
             "#fdca26"
            ],
            [
             1,
             "#f0f921"
            ]
           ],
           "sequentialminus": [
            [
             0,
             "#0d0887"
            ],
            [
             0.1111111111111111,
             "#46039f"
            ],
            [
             0.2222222222222222,
             "#7201a8"
            ],
            [
             0.3333333333333333,
             "#9c179e"
            ],
            [
             0.4444444444444444,
             "#bd3786"
            ],
            [
             0.5555555555555556,
             "#d8576b"
            ],
            [
             0.6666666666666666,
             "#ed7953"
            ],
            [
             0.7777777777777778,
             "#fb9f3a"
            ],
            [
             0.8888888888888888,
             "#fdca26"
            ],
            [
             1,
             "#f0f921"
            ]
           ]
          },
          "colorway": [
           "#636efa",
           "#EF553B",
           "#00cc96",
           "#ab63fa",
           "#FFA15A",
           "#19d3f3",
           "#FF6692",
           "#B6E880",
           "#FF97FF",
           "#FECB52"
          ],
          "font": {
           "color": "#2a3f5f"
          },
          "geo": {
           "bgcolor": "white",
           "lakecolor": "white",
           "landcolor": "white",
           "showlakes": true,
           "showland": true,
           "subunitcolor": "#C8D4E3"
          },
          "hoverlabel": {
           "align": "left"
          },
          "hovermode": "closest",
          "mapbox": {
           "style": "light"
          },
          "paper_bgcolor": "white",
          "plot_bgcolor": "white",
          "polar": {
           "angularaxis": {
            "gridcolor": "#EBF0F8",
            "linecolor": "#EBF0F8",
            "ticks": ""
           },
           "bgcolor": "white",
           "radialaxis": {
            "gridcolor": "#EBF0F8",
            "linecolor": "#EBF0F8",
            "ticks": ""
           }
          },
          "scene": {
           "xaxis": {
            "backgroundcolor": "white",
            "gridcolor": "#DFE8F3",
            "gridwidth": 2,
            "linecolor": "#EBF0F8",
            "showbackground": true,
            "ticks": "",
            "zerolinecolor": "#EBF0F8"
           },
           "yaxis": {
            "backgroundcolor": "white",
            "gridcolor": "#DFE8F3",
            "gridwidth": 2,
            "linecolor": "#EBF0F8",
            "showbackground": true,
            "ticks": "",
            "zerolinecolor": "#EBF0F8"
           },
           "zaxis": {
            "backgroundcolor": "white",
            "gridcolor": "#DFE8F3",
            "gridwidth": 2,
            "linecolor": "#EBF0F8",
            "showbackground": true,
            "ticks": "",
            "zerolinecolor": "#EBF0F8"
           }
          },
          "shapedefaults": {
           "line": {
            "color": "#2a3f5f"
           }
          },
          "ternary": {
           "aaxis": {
            "gridcolor": "#DFE8F3",
            "linecolor": "#A2B1C6",
            "ticks": ""
           },
           "baxis": {
            "gridcolor": "#DFE8F3",
            "linecolor": "#A2B1C6",
            "ticks": ""
           },
           "bgcolor": "white",
           "caxis": {
            "gridcolor": "#DFE8F3",
            "linecolor": "#A2B1C6",
            "ticks": ""
           }
          },
          "title": {
           "x": 0.05
          },
          "xaxis": {
           "automargin": true,
           "gridcolor": "#EBF0F8",
           "linecolor": "#EBF0F8",
           "ticks": "",
           "title": {
            "standoff": 15
           },
           "zerolinecolor": "#EBF0F8",
           "zerolinewidth": 2
          },
          "yaxis": {
           "automargin": true,
           "gridcolor": "#EBF0F8",
           "linecolor": "#EBF0F8",
           "ticks": "",
           "title": {
            "standoff": 15
           },
           "zerolinecolor": "#EBF0F8",
           "zerolinewidth": 2
          }
         }
        },
        "title": {
         "text": "Monthly Rainfall Anomalies in India (1901-2015)"
        },
        "xaxis": {
         "anchor": "y",
         "domain": [
          0,
          1
         ],
         "title": {
          "text": "Year"
         }
        },
        "yaxis": {
         "anchor": "x",
         "domain": [
          0,
          1
         ],
         "title": {
          "text": "Rainfall (mm)"
         }
        }
       }
      }
     },
     "metadata": {},
     "output_type": "display_data"
    }
   ],
   "source": [
    "monthly_anomalies = []\n",
    "for column in monthly_columns:\n",
    "    for _, row in monthly_anomalies_df.iterrows():\n",
    "        monthly_anomalies.append({'Year': row['YEAR'], 'Month': column, 'Rainfall': row[column]})\n",
    "\n",
    "monthly_anomalies_df_long = pd.DataFrame(monthly_anomalies)\n",
    "\n",
    "fig_monthly_anomalies = px.line(\n",
    "    df,\n",
    "    x='YEAR',\n",
    "    y=monthly_columns,\n",
    "    labels={'YEAR': 'Year', 'value': 'Rainfall (mm)', 'variable': 'Month'},\n",
    "    title='Monthly Rainfall Anomalies in India (1901-2015)',\n",
    "    color_discrete_sequence=px.colors.qualitative.Set3\n",
    ")\n",
    "\n",
    "fig_monthly_anomalies.add_trace(go.Scatter(\n",
    "    x=monthly_anomalies_df_long['Year'],\n",
    "    y=monthly_anomalies_df_long['Rainfall'],\n",
    "    mode='markers',\n",
    "    name='Anomalous Months',\n",
    "    marker=dict(color='red', size=5, symbol='circle')\n",
    "))\n",
    "\n",
    "fig_monthly_anomalies.update_layout(\n",
    "    template='plotly_white',\n",
    "    legend=dict(title=\"Legend\"),\n",
    "    height=500\n",
    ")\n",
    "\n",
    "fig_monthly_anomalies.show()"
   ]
  },
  {
   "cell_type": "markdown",
   "id": "90e2d699",
   "metadata": {},
   "source": [
    "#### Seasonal Rainfall Correlation with Annual Total\n",
    "\n",
    "We analyze how each season’s rainfall correlates with the total annual rainfall, using a correlation matrix and bar plot."
   ]
  },
  {
   "cell_type": "code",
   "execution_count": null,
   "id": "c62eba70",
   "metadata": {},
   "outputs": [
    {
     "data": {
      "application/vnd.plotly.v1+json": {
       "config": {
        "plotlyServerURL": "https://plot.ly"
       },
       "data": [
        {
         "hovertemplate": "Season=%{x}<br>Correlation=%{y}<extra></extra>",
         "legendgroup": "",
         "marker": {
          "color": "#636efa",
          "pattern": {
           "shape": ""
          }
         },
         "name": "",
         "orientation": "v",
         "showlegend": false,
         "textposition": "auto",
         "type": "bar",
         "x": [
          "Winter",
          "Pre_Monsoon",
          "Monsoon",
          "Post_Monsoon"
         ],
         "xaxis": "x",
         "y": {
          "bdata": "aq6z+x1RzT8R42GBBgXUPyxmfGDQwu0/i7pH3SgE4T8=",
          "dtype": "f8"
         },
         "yaxis": "y"
        }
       ],
       "layout": {
        "barmode": "relative",
        "legend": {
         "tracegroupgap": 0
        },
        "template": {
         "data": {
          "bar": [
           {
            "error_x": {
             "color": "#2a3f5f"
            },
            "error_y": {
             "color": "#2a3f5f"
            },
            "marker": {
             "line": {
              "color": "#E5ECF6",
              "width": 0.5
             },
             "pattern": {
              "fillmode": "overlay",
              "size": 10,
              "solidity": 0.2
             }
            },
            "type": "bar"
           }
          ],
          "barpolar": [
           {
            "marker": {
             "line": {
              "color": "#E5ECF6",
              "width": 0.5
             },
             "pattern": {
              "fillmode": "overlay",
              "size": 10,
              "solidity": 0.2
             }
            },
            "type": "barpolar"
           }
          ],
          "carpet": [
           {
            "aaxis": {
             "endlinecolor": "#2a3f5f",
             "gridcolor": "white",
             "linecolor": "white",
             "minorgridcolor": "white",
             "startlinecolor": "#2a3f5f"
            },
            "baxis": {
             "endlinecolor": "#2a3f5f",
             "gridcolor": "white",
             "linecolor": "white",
             "minorgridcolor": "white",
             "startlinecolor": "#2a3f5f"
            },
            "type": "carpet"
           }
          ],
          "choropleth": [
           {
            "colorbar": {
             "outlinewidth": 0,
             "ticks": ""
            },
            "type": "choropleth"
           }
          ],
          "contour": [
           {
            "colorbar": {
             "outlinewidth": 0,
             "ticks": ""
            },
            "colorscale": [
             [
              0,
              "#0d0887"
             ],
             [
              0.1111111111111111,
              "#46039f"
             ],
             [
              0.2222222222222222,
              "#7201a8"
             ],
             [
              0.3333333333333333,
              "#9c179e"
             ],
             [
              0.4444444444444444,
              "#bd3786"
             ],
             [
              0.5555555555555556,
              "#d8576b"
             ],
             [
              0.6666666666666666,
              "#ed7953"
             ],
             [
              0.7777777777777778,
              "#fb9f3a"
             ],
             [
              0.8888888888888888,
              "#fdca26"
             ],
             [
              1,
              "#f0f921"
             ]
            ],
            "type": "contour"
           }
          ],
          "contourcarpet": [
           {
            "colorbar": {
             "outlinewidth": 0,
             "ticks": ""
            },
            "type": "contourcarpet"
           }
          ],
          "heatmap": [
           {
            "colorbar": {
             "outlinewidth": 0,
             "ticks": ""
            },
            "colorscale": [
             [
              0,
              "#0d0887"
             ],
             [
              0.1111111111111111,
              "#46039f"
             ],
             [
              0.2222222222222222,
              "#7201a8"
             ],
             [
              0.3333333333333333,
              "#9c179e"
             ],
             [
              0.4444444444444444,
              "#bd3786"
             ],
             [
              0.5555555555555556,
              "#d8576b"
             ],
             [
              0.6666666666666666,
              "#ed7953"
             ],
             [
              0.7777777777777778,
              "#fb9f3a"
             ],
             [
              0.8888888888888888,
              "#fdca26"
             ],
             [
              1,
              "#f0f921"
             ]
            ],
            "type": "heatmap"
           }
          ],
          "histogram": [
           {
            "marker": {
             "pattern": {
              "fillmode": "overlay",
              "size": 10,
              "solidity": 0.2
             }
            },
            "type": "histogram"
           }
          ],
          "histogram2d": [
           {
            "colorbar": {
             "outlinewidth": 0,
             "ticks": ""
            },
            "colorscale": [
             [
              0,
              "#0d0887"
             ],
             [
              0.1111111111111111,
              "#46039f"
             ],
             [
              0.2222222222222222,
              "#7201a8"
             ],
             [
              0.3333333333333333,
              "#9c179e"
             ],
             [
              0.4444444444444444,
              "#bd3786"
             ],
             [
              0.5555555555555556,
              "#d8576b"
             ],
             [
              0.6666666666666666,
              "#ed7953"
             ],
             [
              0.7777777777777778,
              "#fb9f3a"
             ],
             [
              0.8888888888888888,
              "#fdca26"
             ],
             [
              1,
              "#f0f921"
             ]
            ],
            "type": "histogram2d"
           }
          ],
          "histogram2dcontour": [
           {
            "colorbar": {
             "outlinewidth": 0,
             "ticks": ""
            },
            "colorscale": [
             [
              0,
              "#0d0887"
             ],
             [
              0.1111111111111111,
              "#46039f"
             ],
             [
              0.2222222222222222,
              "#7201a8"
             ],
             [
              0.3333333333333333,
              "#9c179e"
             ],
             [
              0.4444444444444444,
              "#bd3786"
             ],
             [
              0.5555555555555556,
              "#d8576b"
             ],
             [
              0.6666666666666666,
              "#ed7953"
             ],
             [
              0.7777777777777778,
              "#fb9f3a"
             ],
             [
              0.8888888888888888,
              "#fdca26"
             ],
             [
              1,
              "#f0f921"
             ]
            ],
            "type": "histogram2dcontour"
           }
          ],
          "mesh3d": [
           {
            "colorbar": {
             "outlinewidth": 0,
             "ticks": ""
            },
            "type": "mesh3d"
           }
          ],
          "parcoords": [
           {
            "line": {
             "colorbar": {
              "outlinewidth": 0,
              "ticks": ""
             }
            },
            "type": "parcoords"
           }
          ],
          "pie": [
           {
            "automargin": true,
            "type": "pie"
           }
          ],
          "scatter": [
           {
            "fillpattern": {
             "fillmode": "overlay",
             "size": 10,
             "solidity": 0.2
            },
            "type": "scatter"
           }
          ],
          "scatter3d": [
           {
            "line": {
             "colorbar": {
              "outlinewidth": 0,
              "ticks": ""
             }
            },
            "marker": {
             "colorbar": {
              "outlinewidth": 0,
              "ticks": ""
             }
            },
            "type": "scatter3d"
           }
          ],
          "scattercarpet": [
           {
            "marker": {
             "colorbar": {
              "outlinewidth": 0,
              "ticks": ""
             }
            },
            "type": "scattercarpet"
           }
          ],
          "scattergeo": [
           {
            "marker": {
             "colorbar": {
              "outlinewidth": 0,
              "ticks": ""
             }
            },
            "type": "scattergeo"
           }
          ],
          "scattergl": [
           {
            "marker": {
             "colorbar": {
              "outlinewidth": 0,
              "ticks": ""
             }
            },
            "type": "scattergl"
           }
          ],
          "scattermap": [
           {
            "marker": {
             "colorbar": {
              "outlinewidth": 0,
              "ticks": ""
             }
            },
            "type": "scattermap"
           }
          ],
          "scattermapbox": [
           {
            "marker": {
             "colorbar": {
              "outlinewidth": 0,
              "ticks": ""
             }
            },
            "type": "scattermapbox"
           }
          ],
          "scatterpolar": [
           {
            "marker": {
             "colorbar": {
              "outlinewidth": 0,
              "ticks": ""
             }
            },
            "type": "scatterpolar"
           }
          ],
          "scatterpolargl": [
           {
            "marker": {
             "colorbar": {
              "outlinewidth": 0,
              "ticks": ""
             }
            },
            "type": "scatterpolargl"
           }
          ],
          "scatterternary": [
           {
            "marker": {
             "colorbar": {
              "outlinewidth": 0,
              "ticks": ""
             }
            },
            "type": "scatterternary"
           }
          ],
          "surface": [
           {
            "colorbar": {
             "outlinewidth": 0,
             "ticks": ""
            },
            "colorscale": [
             [
              0,
              "#0d0887"
             ],
             [
              0.1111111111111111,
              "#46039f"
             ],
             [
              0.2222222222222222,
              "#7201a8"
             ],
             [
              0.3333333333333333,
              "#9c179e"
             ],
             [
              0.4444444444444444,
              "#bd3786"
             ],
             [
              0.5555555555555556,
              "#d8576b"
             ],
             [
              0.6666666666666666,
              "#ed7953"
             ],
             [
              0.7777777777777778,
              "#fb9f3a"
             ],
             [
              0.8888888888888888,
              "#fdca26"
             ],
             [
              1,
              "#f0f921"
             ]
            ],
            "type": "surface"
           }
          ],
          "table": [
           {
            "cells": {
             "fill": {
              "color": "#EBF0F8"
             },
             "line": {
              "color": "white"
             }
            },
            "header": {
             "fill": {
              "color": "#C8D4E3"
             },
             "line": {
              "color": "white"
             }
            },
            "type": "table"
           }
          ]
         },
         "layout": {
          "annotationdefaults": {
           "arrowcolor": "#2a3f5f",
           "arrowhead": 0,
           "arrowwidth": 1
          },
          "autotypenumbers": "strict",
          "coloraxis": {
           "colorbar": {
            "outlinewidth": 0,
            "ticks": ""
           }
          },
          "colorscale": {
           "diverging": [
            [
             0,
             "#8e0152"
            ],
            [
             0.1,
             "#c51b7d"
            ],
            [
             0.2,
             "#de77ae"
            ],
            [
             0.3,
             "#f1b6da"
            ],
            [
             0.4,
             "#fde0ef"
            ],
            [
             0.5,
             "#f7f7f7"
            ],
            [
             0.6,
             "#e6f5d0"
            ],
            [
             0.7,
             "#b8e186"
            ],
            [
             0.8,
             "#7fbc41"
            ],
            [
             0.9,
             "#4d9221"
            ],
            [
             1,
             "#276419"
            ]
           ],
           "sequential": [
            [
             0,
             "#0d0887"
            ],
            [
             0.1111111111111111,
             "#46039f"
            ],
            [
             0.2222222222222222,
             "#7201a8"
            ],
            [
             0.3333333333333333,
             "#9c179e"
            ],
            [
             0.4444444444444444,
             "#bd3786"
            ],
            [
             0.5555555555555556,
             "#d8576b"
            ],
            [
             0.6666666666666666,
             "#ed7953"
            ],
            [
             0.7777777777777778,
             "#fb9f3a"
            ],
            [
             0.8888888888888888,
             "#fdca26"
            ],
            [
             1,
             "#f0f921"
            ]
           ],
           "sequentialminus": [
            [
             0,
             "#0d0887"
            ],
            [
             0.1111111111111111,
             "#46039f"
            ],
            [
             0.2222222222222222,
             "#7201a8"
            ],
            [
             0.3333333333333333,
             "#9c179e"
            ],
            [
             0.4444444444444444,
             "#bd3786"
            ],
            [
             0.5555555555555556,
             "#d8576b"
            ],
            [
             0.6666666666666666,
             "#ed7953"
            ],
            [
             0.7777777777777778,
             "#fb9f3a"
            ],
            [
             0.8888888888888888,
             "#fdca26"
            ],
            [
             1,
             "#f0f921"
            ]
           ]
          },
          "colorway": [
           "#636efa",
           "#EF553B",
           "#00cc96",
           "#ab63fa",
           "#FFA15A",
           "#19d3f3",
           "#FF6692",
           "#B6E880",
           "#FF97FF",
           "#FECB52"
          ],
          "font": {
           "color": "#2a3f5f"
          },
          "geo": {
           "bgcolor": "white",
           "lakecolor": "white",
           "landcolor": "#E5ECF6",
           "showlakes": true,
           "showland": true,
           "subunitcolor": "white"
          },
          "hoverlabel": {
           "align": "left"
          },
          "hovermode": "closest",
          "mapbox": {
           "style": "light"
          },
          "paper_bgcolor": "white",
          "plot_bgcolor": "#E5ECF6",
          "polar": {
           "angularaxis": {
            "gridcolor": "white",
            "linecolor": "white",
            "ticks": ""
           },
           "bgcolor": "#E5ECF6",
           "radialaxis": {
            "gridcolor": "white",
            "linecolor": "white",
            "ticks": ""
           }
          },
          "scene": {
           "xaxis": {
            "backgroundcolor": "#E5ECF6",
            "gridcolor": "white",
            "gridwidth": 2,
            "linecolor": "white",
            "showbackground": true,
            "ticks": "",
            "zerolinecolor": "white"
           },
           "yaxis": {
            "backgroundcolor": "#E5ECF6",
            "gridcolor": "white",
            "gridwidth": 2,
            "linecolor": "white",
            "showbackground": true,
            "ticks": "",
            "zerolinecolor": "white"
           },
           "zaxis": {
            "backgroundcolor": "#E5ECF6",
            "gridcolor": "white",
            "gridwidth": 2,
            "linecolor": "white",
            "showbackground": true,
            "ticks": "",
            "zerolinecolor": "white"
           }
          },
          "shapedefaults": {
           "line": {
            "color": "#2a3f5f"
           }
          },
          "ternary": {
           "aaxis": {
            "gridcolor": "white",
            "linecolor": "white",
            "ticks": ""
           },
           "baxis": {
            "gridcolor": "white",
            "linecolor": "white",
            "ticks": ""
           },
           "bgcolor": "#E5ECF6",
           "caxis": {
            "gridcolor": "white",
            "linecolor": "white",
            "ticks": ""
           }
          },
          "title": {
           "x": 0.05
          },
          "xaxis": {
           "automargin": true,
           "gridcolor": "white",
           "linecolor": "white",
           "ticks": "",
           "title": {
            "standoff": 15
           },
           "zerolinecolor": "white",
           "zerolinewidth": 2
          },
          "yaxis": {
           "automargin": true,
           "gridcolor": "white",
           "linecolor": "white",
           "ticks": "",
           "title": {
            "standoff": 15
           },
           "zerolinecolor": "white",
           "zerolinewidth": 2
          }
         }
        },
        "title": {
         "text": "Correlation of Seasonal Rainfall with Annual Total"
        },
        "xaxis": {
         "anchor": "y",
         "domain": [
          0,
          1
         ],
         "title": {
          "text": "Season"
         }
        },
        "yaxis": {
         "anchor": "x",
         "domain": [
          0,
          1
         ],
         "range": [
          0,
          1
         ],
         "title": {
          "text": "Correlation"
         }
        }
       }
      }
     },
     "metadata": {},
     "output_type": "display_data"
    }
   ],
   "source": [
    "df['Winter'] = df[['JAN', 'FEB']].sum(axis=1)\n",
    "df['Pre_Monsoon'] = df[['MAR', 'APR', 'MAY']].sum(axis=1)\n",
    "df['Monsoon'] = df[['JUN', 'JUL', 'AUG', 'SEP']].sum(axis=1)\n",
    "df['Post_Monsoon'] = df[['OCT', 'NOV', 'DEC']].sum(axis=1)\n",
    "\n",
    "df['Annual'] = df[['JAN','FEB','MAR','APR','MAY','JUN',\n",
    "                   'JUL','AUG','SEP','OCT','NOV','DEC']].sum(axis=1)\n",
    "\n",
    "correlation = df[['Winter', 'Pre_Monsoon', 'Monsoon', 'Post_Monsoon', 'Annual']].corr()\n",
    "\n",
    "season_corr = correlation['Annual'].drop('Annual').reset_index()\n",
    "season_corr.columns = ['Season', 'Correlation']\n",
    "\n",
    "fig = px.bar(season_corr, x='Season', y='Correlation', title='Correlation of Seasonal Rainfall with Annual Total')\n",
    "fig.update_layout(yaxis=dict(range=[0, 1]))\n",
    "fig.show()"
   ]
  },
  {
   "cell_type": "markdown",
   "id": "d8f7a467",
   "metadata": {},
   "source": [
    "#### Decadal Trends in Seasonal Rainfall\n",
    "\n",
    "To observe long-term changes, we aggregate seasonal rainfall by decade. This helps identify macro trends like increasing/decreasing monsoon strength."
   ]
  },
  {
   "cell_type": "code",
   "execution_count": 117,
   "id": "ac33f620",
   "metadata": {},
   "outputs": [
    {
     "data": {
      "application/vnd.plotly.v1+json": {
       "config": {
        "plotlyServerURL": "https://plot.ly"
       },
       "data": [
        {
         "mode": "lines+markers",
         "name": "Winter",
         "type": "scatter",
         "x": {
          "bdata": "bAd2B4AHigeUB54HqAeyB7wHxgfQB9oH",
          "dtype": "i2"
         },
         "y": {
          "bdata": "whZswRbsRUCuR+F6FK5FQK5H4XoUbkhAMzMzMzMzSUDNzMzMzKxIQFK4HoXrEUZAmpmZmZl5QEDNzMzMzExDQNejcD0K10RAzczMzMxMRkDC9Shcj2JEQM3MzMzMzEJA",
          "dtype": "f8"
         }
        },
        {
         "mode": "lines+markers",
         "name": "Pre_Monsoon",
         "type": "scatter",
         "x": {
          "bdata": "bAd2B4AHigeUB54HqAeyB7wHxgfQB9oH",
          "dtype": "i2"
         },
         "y": {
          "bdata": "7+7u7u5uXEAL16NwPbpfQMP1KFyPsl9A16NwPQqfYEAAAAAAAGhiQJqZmZmZOWBAcD0K16OwXkCamZmZmQleQAAAAAAAQGFAj8L1KFz3YECjcD0K17NeQBERERERAV9A",
          "dtype": "f8"
         }
        },
        {
         "mode": "lines+markers",
         "name": "Monsoon",
         "type": "scatter",
         "x": {
          "bdata": "bAd2B4AHigeUB54HqAeyB7wHxgfQB9oH",
          "dtype": "i2"
         },
         "y": {
          "bdata": "0yd90ifRiUCjcD0K16GLQNajcD0KgYxAU7gehes9jUAK16NwPXqNQB6F61G47IxAZmZmZmasi0B7FK5H4V6LQLgehetRkotAexSuR+EkjEDNzMzMzCiKQDMzMzMzq4pA",
          "dtype": "f8"
         }
        },
        {
         "mode": "lines+markers",
         "name": "Post_Monsoon",
         "type": "scatter",
         "x": {
          "bdata": "bAd2B4AHigeUB54HqAeyB7wHxgfQB9oH",
          "dtype": "i2"
         },
         "y": {
          "bdata": "OY7jOI4jV0AzMzMzM+tgQPYoXI/CVV5AzczMzMxcYECuR+F6FP5dQML1KFyPkmBASOF6FK5XXEDD9Shcj9JfQJqZmZmZWVxAAAAAAADIYECQwvUoXM9ZQLy7u7u7i1pA",
          "dtype": "f8"
         }
        }
       ],
       "layout": {
        "template": {
         "data": {
          "bar": [
           {
            "error_x": {
             "color": "#2a3f5f"
            },
            "error_y": {
             "color": "#2a3f5f"
            },
            "marker": {
             "line": {
              "color": "#E5ECF6",
              "width": 0.5
             },
             "pattern": {
              "fillmode": "overlay",
              "size": 10,
              "solidity": 0.2
             }
            },
            "type": "bar"
           }
          ],
          "barpolar": [
           {
            "marker": {
             "line": {
              "color": "#E5ECF6",
              "width": 0.5
             },
             "pattern": {
              "fillmode": "overlay",
              "size": 10,
              "solidity": 0.2
             }
            },
            "type": "barpolar"
           }
          ],
          "carpet": [
           {
            "aaxis": {
             "endlinecolor": "#2a3f5f",
             "gridcolor": "white",
             "linecolor": "white",
             "minorgridcolor": "white",
             "startlinecolor": "#2a3f5f"
            },
            "baxis": {
             "endlinecolor": "#2a3f5f",
             "gridcolor": "white",
             "linecolor": "white",
             "minorgridcolor": "white",
             "startlinecolor": "#2a3f5f"
            },
            "type": "carpet"
           }
          ],
          "choropleth": [
           {
            "colorbar": {
             "outlinewidth": 0,
             "ticks": ""
            },
            "type": "choropleth"
           }
          ],
          "contour": [
           {
            "colorbar": {
             "outlinewidth": 0,
             "ticks": ""
            },
            "colorscale": [
             [
              0,
              "#0d0887"
             ],
             [
              0.1111111111111111,
              "#46039f"
             ],
             [
              0.2222222222222222,
              "#7201a8"
             ],
             [
              0.3333333333333333,
              "#9c179e"
             ],
             [
              0.4444444444444444,
              "#bd3786"
             ],
             [
              0.5555555555555556,
              "#d8576b"
             ],
             [
              0.6666666666666666,
              "#ed7953"
             ],
             [
              0.7777777777777778,
              "#fb9f3a"
             ],
             [
              0.8888888888888888,
              "#fdca26"
             ],
             [
              1,
              "#f0f921"
             ]
            ],
            "type": "contour"
           }
          ],
          "contourcarpet": [
           {
            "colorbar": {
             "outlinewidth": 0,
             "ticks": ""
            },
            "type": "contourcarpet"
           }
          ],
          "heatmap": [
           {
            "colorbar": {
             "outlinewidth": 0,
             "ticks": ""
            },
            "colorscale": [
             [
              0,
              "#0d0887"
             ],
             [
              0.1111111111111111,
              "#46039f"
             ],
             [
              0.2222222222222222,
              "#7201a8"
             ],
             [
              0.3333333333333333,
              "#9c179e"
             ],
             [
              0.4444444444444444,
              "#bd3786"
             ],
             [
              0.5555555555555556,
              "#d8576b"
             ],
             [
              0.6666666666666666,
              "#ed7953"
             ],
             [
              0.7777777777777778,
              "#fb9f3a"
             ],
             [
              0.8888888888888888,
              "#fdca26"
             ],
             [
              1,
              "#f0f921"
             ]
            ],
            "type": "heatmap"
           }
          ],
          "histogram": [
           {
            "marker": {
             "pattern": {
              "fillmode": "overlay",
              "size": 10,
              "solidity": 0.2
             }
            },
            "type": "histogram"
           }
          ],
          "histogram2d": [
           {
            "colorbar": {
             "outlinewidth": 0,
             "ticks": ""
            },
            "colorscale": [
             [
              0,
              "#0d0887"
             ],
             [
              0.1111111111111111,
              "#46039f"
             ],
             [
              0.2222222222222222,
              "#7201a8"
             ],
             [
              0.3333333333333333,
              "#9c179e"
             ],
             [
              0.4444444444444444,
              "#bd3786"
             ],
             [
              0.5555555555555556,
              "#d8576b"
             ],
             [
              0.6666666666666666,
              "#ed7953"
             ],
             [
              0.7777777777777778,
              "#fb9f3a"
             ],
             [
              0.8888888888888888,
              "#fdca26"
             ],
             [
              1,
              "#f0f921"
             ]
            ],
            "type": "histogram2d"
           }
          ],
          "histogram2dcontour": [
           {
            "colorbar": {
             "outlinewidth": 0,
             "ticks": ""
            },
            "colorscale": [
             [
              0,
              "#0d0887"
             ],
             [
              0.1111111111111111,
              "#46039f"
             ],
             [
              0.2222222222222222,
              "#7201a8"
             ],
             [
              0.3333333333333333,
              "#9c179e"
             ],
             [
              0.4444444444444444,
              "#bd3786"
             ],
             [
              0.5555555555555556,
              "#d8576b"
             ],
             [
              0.6666666666666666,
              "#ed7953"
             ],
             [
              0.7777777777777778,
              "#fb9f3a"
             ],
             [
              0.8888888888888888,
              "#fdca26"
             ],
             [
              1,
              "#f0f921"
             ]
            ],
            "type": "histogram2dcontour"
           }
          ],
          "mesh3d": [
           {
            "colorbar": {
             "outlinewidth": 0,
             "ticks": ""
            },
            "type": "mesh3d"
           }
          ],
          "parcoords": [
           {
            "line": {
             "colorbar": {
              "outlinewidth": 0,
              "ticks": ""
             }
            },
            "type": "parcoords"
           }
          ],
          "pie": [
           {
            "automargin": true,
            "type": "pie"
           }
          ],
          "scatter": [
           {
            "fillpattern": {
             "fillmode": "overlay",
             "size": 10,
             "solidity": 0.2
            },
            "type": "scatter"
           }
          ],
          "scatter3d": [
           {
            "line": {
             "colorbar": {
              "outlinewidth": 0,
              "ticks": ""
             }
            },
            "marker": {
             "colorbar": {
              "outlinewidth": 0,
              "ticks": ""
             }
            },
            "type": "scatter3d"
           }
          ],
          "scattercarpet": [
           {
            "marker": {
             "colorbar": {
              "outlinewidth": 0,
              "ticks": ""
             }
            },
            "type": "scattercarpet"
           }
          ],
          "scattergeo": [
           {
            "marker": {
             "colorbar": {
              "outlinewidth": 0,
              "ticks": ""
             }
            },
            "type": "scattergeo"
           }
          ],
          "scattergl": [
           {
            "marker": {
             "colorbar": {
              "outlinewidth": 0,
              "ticks": ""
             }
            },
            "type": "scattergl"
           }
          ],
          "scattermap": [
           {
            "marker": {
             "colorbar": {
              "outlinewidth": 0,
              "ticks": ""
             }
            },
            "type": "scattermap"
           }
          ],
          "scattermapbox": [
           {
            "marker": {
             "colorbar": {
              "outlinewidth": 0,
              "ticks": ""
             }
            },
            "type": "scattermapbox"
           }
          ],
          "scatterpolar": [
           {
            "marker": {
             "colorbar": {
              "outlinewidth": 0,
              "ticks": ""
             }
            },
            "type": "scatterpolar"
           }
          ],
          "scatterpolargl": [
           {
            "marker": {
             "colorbar": {
              "outlinewidth": 0,
              "ticks": ""
             }
            },
            "type": "scatterpolargl"
           }
          ],
          "scatterternary": [
           {
            "marker": {
             "colorbar": {
              "outlinewidth": 0,
              "ticks": ""
             }
            },
            "type": "scatterternary"
           }
          ],
          "surface": [
           {
            "colorbar": {
             "outlinewidth": 0,
             "ticks": ""
            },
            "colorscale": [
             [
              0,
              "#0d0887"
             ],
             [
              0.1111111111111111,
              "#46039f"
             ],
             [
              0.2222222222222222,
              "#7201a8"
             ],
             [
              0.3333333333333333,
              "#9c179e"
             ],
             [
              0.4444444444444444,
              "#bd3786"
             ],
             [
              0.5555555555555556,
              "#d8576b"
             ],
             [
              0.6666666666666666,
              "#ed7953"
             ],
             [
              0.7777777777777778,
              "#fb9f3a"
             ],
             [
              0.8888888888888888,
              "#fdca26"
             ],
             [
              1,
              "#f0f921"
             ]
            ],
            "type": "surface"
           }
          ],
          "table": [
           {
            "cells": {
             "fill": {
              "color": "#EBF0F8"
             },
             "line": {
              "color": "white"
             }
            },
            "header": {
             "fill": {
              "color": "#C8D4E3"
             },
             "line": {
              "color": "white"
             }
            },
            "type": "table"
           }
          ]
         },
         "layout": {
          "annotationdefaults": {
           "arrowcolor": "#2a3f5f",
           "arrowhead": 0,
           "arrowwidth": 1
          },
          "autotypenumbers": "strict",
          "coloraxis": {
           "colorbar": {
            "outlinewidth": 0,
            "ticks": ""
           }
          },
          "colorscale": {
           "diverging": [
            [
             0,
             "#8e0152"
            ],
            [
             0.1,
             "#c51b7d"
            ],
            [
             0.2,
             "#de77ae"
            ],
            [
             0.3,
             "#f1b6da"
            ],
            [
             0.4,
             "#fde0ef"
            ],
            [
             0.5,
             "#f7f7f7"
            ],
            [
             0.6,
             "#e6f5d0"
            ],
            [
             0.7,
             "#b8e186"
            ],
            [
             0.8,
             "#7fbc41"
            ],
            [
             0.9,
             "#4d9221"
            ],
            [
             1,
             "#276419"
            ]
           ],
           "sequential": [
            [
             0,
             "#0d0887"
            ],
            [
             0.1111111111111111,
             "#46039f"
            ],
            [
             0.2222222222222222,
             "#7201a8"
            ],
            [
             0.3333333333333333,
             "#9c179e"
            ],
            [
             0.4444444444444444,
             "#bd3786"
            ],
            [
             0.5555555555555556,
             "#d8576b"
            ],
            [
             0.6666666666666666,
             "#ed7953"
            ],
            [
             0.7777777777777778,
             "#fb9f3a"
            ],
            [
             0.8888888888888888,
             "#fdca26"
            ],
            [
             1,
             "#f0f921"
            ]
           ],
           "sequentialminus": [
            [
             0,
             "#0d0887"
            ],
            [
             0.1111111111111111,
             "#46039f"
            ],
            [
             0.2222222222222222,
             "#7201a8"
            ],
            [
             0.3333333333333333,
             "#9c179e"
            ],
            [
             0.4444444444444444,
             "#bd3786"
            ],
            [
             0.5555555555555556,
             "#d8576b"
            ],
            [
             0.6666666666666666,
             "#ed7953"
            ],
            [
             0.7777777777777778,
             "#fb9f3a"
            ],
            [
             0.8888888888888888,
             "#fdca26"
            ],
            [
             1,
             "#f0f921"
            ]
           ]
          },
          "colorway": [
           "#636efa",
           "#EF553B",
           "#00cc96",
           "#ab63fa",
           "#FFA15A",
           "#19d3f3",
           "#FF6692",
           "#B6E880",
           "#FF97FF",
           "#FECB52"
          ],
          "font": {
           "color": "#2a3f5f"
          },
          "geo": {
           "bgcolor": "white",
           "lakecolor": "white",
           "landcolor": "#E5ECF6",
           "showlakes": true,
           "showland": true,
           "subunitcolor": "white"
          },
          "hoverlabel": {
           "align": "left"
          },
          "hovermode": "closest",
          "mapbox": {
           "style": "light"
          },
          "paper_bgcolor": "white",
          "plot_bgcolor": "#E5ECF6",
          "polar": {
           "angularaxis": {
            "gridcolor": "white",
            "linecolor": "white",
            "ticks": ""
           },
           "bgcolor": "#E5ECF6",
           "radialaxis": {
            "gridcolor": "white",
            "linecolor": "white",
            "ticks": ""
           }
          },
          "scene": {
           "xaxis": {
            "backgroundcolor": "#E5ECF6",
            "gridcolor": "white",
            "gridwidth": 2,
            "linecolor": "white",
            "showbackground": true,
            "ticks": "",
            "zerolinecolor": "white"
           },
           "yaxis": {
            "backgroundcolor": "#E5ECF6",
            "gridcolor": "white",
            "gridwidth": 2,
            "linecolor": "white",
            "showbackground": true,
            "ticks": "",
            "zerolinecolor": "white"
           },
           "zaxis": {
            "backgroundcolor": "#E5ECF6",
            "gridcolor": "white",
            "gridwidth": 2,
            "linecolor": "white",
            "showbackground": true,
            "ticks": "",
            "zerolinecolor": "white"
           }
          },
          "shapedefaults": {
           "line": {
            "color": "#2a3f5f"
           }
          },
          "ternary": {
           "aaxis": {
            "gridcolor": "white",
            "linecolor": "white",
            "ticks": ""
           },
           "baxis": {
            "gridcolor": "white",
            "linecolor": "white",
            "ticks": ""
           },
           "bgcolor": "#E5ECF6",
           "caxis": {
            "gridcolor": "white",
            "linecolor": "white",
            "ticks": ""
           }
          },
          "title": {
           "x": 0.05
          },
          "xaxis": {
           "automargin": true,
           "gridcolor": "white",
           "linecolor": "white",
           "ticks": "",
           "title": {
            "standoff": 15
           },
           "zerolinecolor": "white",
           "zerolinewidth": 2
          },
          "yaxis": {
           "automargin": true,
           "gridcolor": "white",
           "linecolor": "white",
           "ticks": "",
           "title": {
            "standoff": 15
           },
           "zerolinecolor": "white",
           "zerolinewidth": 2
          }
         }
        },
        "title": {
         "text": "Decadal Trend of Seasonal Rainfall"
        },
        "xaxis": {
         "title": {
          "text": "Decade"
         }
        },
        "yaxis": {
         "title": {
          "text": "Average Rainfall (mm)"
         }
        }
       }
      }
     },
     "metadata": {},
     "output_type": "display_data"
    }
   ],
   "source": [
    "season_cols = ['Winter', 'Pre_Monsoon', 'Monsoon', 'Post_Monsoon']\n",
    "df['Decade'] = (df['YEAR'] // 10) * 10\n",
    "\n",
    "season_trend = df.groupby('Decade')[season_cols].mean().reset_index()\n",
    "\n",
    "import plotly.graph_objects as go\n",
    "\n",
    "fig = go.Figure()\n",
    "for season in season_cols:\n",
    "    fig.add_trace(go.Scatter(x=season_trend['Decade'], y=season_trend[season], mode='lines+markers', name=season))\n",
    "fig.update_layout(title='Decadal Trend of Seasonal Rainfall', xaxis_title='Decade', yaxis_title='Average Rainfall (mm)')\n",
    "fig.show()"
   ]
  },
  {
   "cell_type": "markdown",
   "id": "e30e1749",
   "metadata": {},
   "source": [
    "#### Forecasting Annual Rainfall using Prophet\n",
    "\n",
    "We use Facebook Prophet to model and forecast future rainfall for the next 20 years. Prophet handles seasonality and trend shifts well.\n",
    "\t•\tTraining is done on data from 1901–2015.\n",
    "\t•\tForecast is visualized interactively using Plotly."
   ]
  },
  {
   "cell_type": "code",
   "execution_count": 142,
   "id": "7aff26c1",
   "metadata": {},
   "outputs": [
    {
     "name": "stderr",
     "output_type": "stream",
     "text": [
      "13:43:05 - cmdstanpy - INFO - Chain [1] start processing\n",
      "13:43:05 - cmdstanpy - INFO - Chain [1] done processing\n"
     ]
    },
    {
     "data": {
      "application/vnd.plotly.v1+json": {
       "config": {
        "plotlyServerURL": "https://plot.ly"
       },
       "data": [
        {
         "marker": {
          "color": "black",
          "size": 4
         },
         "mode": "markers",
         "name": "Actual",
         "type": "scatter",
         "x": [
          "1901-01-01T00:00:00.000000000",
          "1902-01-01T00:00:00.000000000",
          "1903-01-01T00:00:00.000000000",
          "1904-01-01T00:00:00.000000000",
          "1905-01-01T00:00:00.000000000",
          "1906-01-01T00:00:00.000000000",
          "1907-01-01T00:00:00.000000000",
          "1908-01-01T00:00:00.000000000",
          "1909-01-01T00:00:00.000000000",
          "1910-01-01T00:00:00.000000000",
          "1911-01-01T00:00:00.000000000",
          "1912-01-01T00:00:00.000000000",
          "1913-01-01T00:00:00.000000000",
          "1914-01-01T00:00:00.000000000",
          "1915-01-01T00:00:00.000000000",
          "1916-01-01T00:00:00.000000000",
          "1917-01-01T00:00:00.000000000",
          "1918-01-01T00:00:00.000000000",
          "1919-01-01T00:00:00.000000000",
          "1920-01-01T00:00:00.000000000",
          "1921-01-01T00:00:00.000000000",
          "1922-01-01T00:00:00.000000000",
          "1923-01-01T00:00:00.000000000",
          "1924-01-01T00:00:00.000000000",
          "1925-01-01T00:00:00.000000000",
          "1926-01-01T00:00:00.000000000",
          "1927-01-01T00:00:00.000000000",
          "1928-01-01T00:00:00.000000000",
          "1929-01-01T00:00:00.000000000",
          "1930-01-01T00:00:00.000000000",
          "1931-01-01T00:00:00.000000000",
          "1932-01-01T00:00:00.000000000",
          "1933-01-01T00:00:00.000000000",
          "1934-01-01T00:00:00.000000000",
          "1935-01-01T00:00:00.000000000",
          "1936-01-01T00:00:00.000000000",
          "1937-01-01T00:00:00.000000000",
          "1938-01-01T00:00:00.000000000",
          "1939-01-01T00:00:00.000000000",
          "1940-01-01T00:00:00.000000000",
          "1941-01-01T00:00:00.000000000",
          "1942-01-01T00:00:00.000000000",
          "1943-01-01T00:00:00.000000000",
          "1944-01-01T00:00:00.000000000",
          "1945-01-01T00:00:00.000000000",
          "1946-01-01T00:00:00.000000000",
          "1947-01-01T00:00:00.000000000",
          "1948-01-01T00:00:00.000000000",
          "1949-01-01T00:00:00.000000000",
          "1950-01-01T00:00:00.000000000",
          "1951-01-01T00:00:00.000000000",
          "1952-01-01T00:00:00.000000000",
          "1953-01-01T00:00:00.000000000",
          "1954-01-01T00:00:00.000000000",
          "1955-01-01T00:00:00.000000000",
          "1956-01-01T00:00:00.000000000",
          "1957-01-01T00:00:00.000000000",
          "1958-01-01T00:00:00.000000000",
          "1959-01-01T00:00:00.000000000",
          "1960-01-01T00:00:00.000000000",
          "1961-01-01T00:00:00.000000000",
          "1962-01-01T00:00:00.000000000",
          "1963-01-01T00:00:00.000000000",
          "1964-01-01T00:00:00.000000000",
          "1965-01-01T00:00:00.000000000",
          "1966-01-01T00:00:00.000000000",
          "1967-01-01T00:00:00.000000000",
          "1968-01-01T00:00:00.000000000",
          "1969-01-01T00:00:00.000000000",
          "1970-01-01T00:00:00.000000000",
          "1971-01-01T00:00:00.000000000",
          "1972-01-01T00:00:00.000000000",
          "1973-01-01T00:00:00.000000000",
          "1974-01-01T00:00:00.000000000",
          "1975-01-01T00:00:00.000000000",
          "1976-01-01T00:00:00.000000000",
          "1977-01-01T00:00:00.000000000",
          "1978-01-01T00:00:00.000000000",
          "1979-01-01T00:00:00.000000000",
          "1980-01-01T00:00:00.000000000",
          "1981-01-01T00:00:00.000000000",
          "1982-01-01T00:00:00.000000000",
          "1983-01-01T00:00:00.000000000",
          "1984-01-01T00:00:00.000000000",
          "1985-01-01T00:00:00.000000000",
          "1986-01-01T00:00:00.000000000",
          "1987-01-01T00:00:00.000000000",
          "1988-01-01T00:00:00.000000000",
          "1989-01-01T00:00:00.000000000",
          "1990-01-01T00:00:00.000000000",
          "1991-01-01T00:00:00.000000000",
          "1992-01-01T00:00:00.000000000",
          "1993-01-01T00:00:00.000000000",
          "1994-01-01T00:00:00.000000000",
          "1995-01-01T00:00:00.000000000",
          "1996-01-01T00:00:00.000000000",
          "1997-01-01T00:00:00.000000000",
          "1998-01-01T00:00:00.000000000",
          "1999-01-01T00:00:00.000000000",
          "2000-01-01T00:00:00.000000000",
          "2001-01-01T00:00:00.000000000",
          "2002-01-01T00:00:00.000000000",
          "2003-01-01T00:00:00.000000000",
          "2004-01-01T00:00:00.000000000",
          "2005-01-01T00:00:00.000000000",
          "2006-01-01T00:00:00.000000000",
          "2007-01-01T00:00:00.000000000",
          "2008-01-01T00:00:00.000000000",
          "2009-01-01T00:00:00.000000000",
          "2010-01-01T00:00:00.000000000",
          "2011-01-01T00:00:00.000000000",
          "2012-01-01T00:00:00.000000000",
          "2013-01-01T00:00:00.000000000",
          "2014-01-01T00:00:00.000000000",
          "2015-01-01T00:00:00.000000000"
         ],
         "y": {
          "bdata": "mZmZmZkhkEAzMzMzMxmQQAEAAAAAmpJAzczMzMzcj0CamZmZmXmOQGZmZmZm4JFAMzMzMzM/kEBnZmZmZiKRQP//////F5JAmpmZmZnBkkCamZmZmV2QQAAAAAAA2JBAZ2ZmZma0kEDMzMzMzPiSQM3MzMzMxJFA///////jlEDNzMzMzCCXQGdmZmZmCJBAmZmZmZlzlECZmZmZmV+QQMzMzMzMYJNAAAAAAADwkkA0MzMzM2GSQDMzMzMz0ZNAMzMzMzPpkkAzMzMzM3uTQGZmZmZmupNAMzMzMzMJk0ABAAAAAOKSQGZmZmZm5pJAzMzMzMyKlEDOzMzMzAqTQAAAAAAAxpVAAQAAAAAuk0D//////92RQM3MzMzM9pRAZ2ZmZmYIk0A0MzMzM2uUQAAAAAAAmJFAmpmZmZn5kkAAAAAAAOSQQGhmZmZmMpRAZ2ZmZmYIlED//////5uUQM3MzMzMJpNAAQAAAADSlEDNzMzMzFKTQJmZmZmZ95RAZmZmZmbik0ABAAAAAFKSQDMzMzMzlZBAzMzMzMxQkUBmZmZmZhqTQM3MzMzMcJJA//////9JlEAzMzMzM6mVQDIzMzMzaZJAAAAAAADMlEDNzMzMzJiVQJmZmZmZ85FAAAAAAADslUCamZmZmbGSQM3MzMzM6JJAZ2ZmZmZMk0ABAAAAAFSNQAAAAAAAoJBANDMzMzPxkUDNzMzMzHiQQMzMzMzM7pFAmpmZmZl7k0AAAAAAAAiTQGVmZmZmoo1AZ2ZmZmb4kkA0MzMzM0+QQM3MzMzMKJRAzszMzMySkUCamZmZmdmTQGdmZmZmXJNAAQAAAAD8j0BmZmZmZpaSQP//////TZJAzMzMzMz6kEAAAAAAAM6UQDMzMzMzD5JAmpmZmZnPkUAAAAAAAJqRQJmZmZmZ25BAmZmZmZkblUCZmZmZmYmRQGdmZmZm4pVAmpmZmZkfkkAyMzMzM4WRQDMzMzMzx5JAZmZmZmY+lEAzMzMzM2+TQDMzMzMzd5JAmpmZmZlNkkDNzMzMzG6TQAAAAAAAsJFAZmZmZmZqkEDNzMzMzOyQQJqZmZmZxYxAmpmZmZlZkkA0MzMzM72QQAEAAAAAQpNAmZmZmZm9kkAAAAAAAP6SQDMzMzMzsZFAZ2ZmZmb6jUCZmZmZmcGSQDQzMzMzWZFAAAAAAADGkEDOzMzMzACTQM3MzMzMJpBAZ2ZmZmYUkUA=",
          "dtype": "f8"
         }
        },
        {
         "hoverinfo": "skip",
         "line": {
          "width": 0
         },
         "mode": "lines",
         "type": "scatter",
         "x": [
          "1901-01-01T00:00:00.000000000",
          "1902-01-01T00:00:00.000000000",
          "1903-01-01T00:00:00.000000000",
          "1904-01-01T00:00:00.000000000",
          "1905-01-01T00:00:00.000000000",
          "1906-01-01T00:00:00.000000000",
          "1907-01-01T00:00:00.000000000",
          "1908-01-01T00:00:00.000000000",
          "1909-01-01T00:00:00.000000000",
          "1910-01-01T00:00:00.000000000",
          "1911-01-01T00:00:00.000000000",
          "1912-01-01T00:00:00.000000000",
          "1913-01-01T00:00:00.000000000",
          "1914-01-01T00:00:00.000000000",
          "1915-01-01T00:00:00.000000000",
          "1916-01-01T00:00:00.000000000",
          "1917-01-01T00:00:00.000000000",
          "1918-01-01T00:00:00.000000000",
          "1919-01-01T00:00:00.000000000",
          "1920-01-01T00:00:00.000000000",
          "1921-01-01T00:00:00.000000000",
          "1922-01-01T00:00:00.000000000",
          "1923-01-01T00:00:00.000000000",
          "1924-01-01T00:00:00.000000000",
          "1925-01-01T00:00:00.000000000",
          "1926-01-01T00:00:00.000000000",
          "1927-01-01T00:00:00.000000000",
          "1928-01-01T00:00:00.000000000",
          "1929-01-01T00:00:00.000000000",
          "1930-01-01T00:00:00.000000000",
          "1931-01-01T00:00:00.000000000",
          "1932-01-01T00:00:00.000000000",
          "1933-01-01T00:00:00.000000000",
          "1934-01-01T00:00:00.000000000",
          "1935-01-01T00:00:00.000000000",
          "1936-01-01T00:00:00.000000000",
          "1937-01-01T00:00:00.000000000",
          "1938-01-01T00:00:00.000000000",
          "1939-01-01T00:00:00.000000000",
          "1940-01-01T00:00:00.000000000",
          "1941-01-01T00:00:00.000000000",
          "1942-01-01T00:00:00.000000000",
          "1943-01-01T00:00:00.000000000",
          "1944-01-01T00:00:00.000000000",
          "1945-01-01T00:00:00.000000000",
          "1946-01-01T00:00:00.000000000",
          "1947-01-01T00:00:00.000000000",
          "1948-01-01T00:00:00.000000000",
          "1949-01-01T00:00:00.000000000",
          "1950-01-01T00:00:00.000000000",
          "1951-01-01T00:00:00.000000000",
          "1952-01-01T00:00:00.000000000",
          "1953-01-01T00:00:00.000000000",
          "1954-01-01T00:00:00.000000000",
          "1955-01-01T00:00:00.000000000",
          "1956-01-01T00:00:00.000000000",
          "1957-01-01T00:00:00.000000000",
          "1958-01-01T00:00:00.000000000",
          "1959-01-01T00:00:00.000000000",
          "1960-01-01T00:00:00.000000000",
          "1961-01-01T00:00:00.000000000",
          "1962-01-01T00:00:00.000000000",
          "1963-01-01T00:00:00.000000000",
          "1964-01-01T00:00:00.000000000",
          "1965-01-01T00:00:00.000000000",
          "1966-01-01T00:00:00.000000000",
          "1967-01-01T00:00:00.000000000",
          "1968-01-01T00:00:00.000000000",
          "1969-01-01T00:00:00.000000000",
          "1970-01-01T00:00:00.000000000",
          "1971-01-01T00:00:00.000000000",
          "1972-01-01T00:00:00.000000000",
          "1973-01-01T00:00:00.000000000",
          "1974-01-01T00:00:00.000000000",
          "1975-01-01T00:00:00.000000000",
          "1976-01-01T00:00:00.000000000",
          "1977-01-01T00:00:00.000000000",
          "1978-01-01T00:00:00.000000000",
          "1979-01-01T00:00:00.000000000",
          "1980-01-01T00:00:00.000000000",
          "1981-01-01T00:00:00.000000000",
          "1982-01-01T00:00:00.000000000",
          "1983-01-01T00:00:00.000000000",
          "1984-01-01T00:00:00.000000000",
          "1985-01-01T00:00:00.000000000",
          "1986-01-01T00:00:00.000000000",
          "1987-01-01T00:00:00.000000000",
          "1988-01-01T00:00:00.000000000",
          "1989-01-01T00:00:00.000000000",
          "1990-01-01T00:00:00.000000000",
          "1991-01-01T00:00:00.000000000",
          "1992-01-01T00:00:00.000000000",
          "1993-01-01T00:00:00.000000000",
          "1994-01-01T00:00:00.000000000",
          "1995-01-01T00:00:00.000000000",
          "1996-01-01T00:00:00.000000000",
          "1997-01-01T00:00:00.000000000",
          "1998-01-01T00:00:00.000000000",
          "1999-01-01T00:00:00.000000000",
          "2000-01-01T00:00:00.000000000",
          "2001-01-01T00:00:00.000000000",
          "2002-01-01T00:00:00.000000000",
          "2003-01-01T00:00:00.000000000",
          "2004-01-01T00:00:00.000000000",
          "2005-01-01T00:00:00.000000000",
          "2006-01-01T00:00:00.000000000",
          "2007-01-01T00:00:00.000000000",
          "2008-01-01T00:00:00.000000000",
          "2009-01-01T00:00:00.000000000",
          "2010-01-01T00:00:00.000000000",
          "2011-01-01T00:00:00.000000000",
          "2012-01-01T00:00:00.000000000",
          "2013-01-01T00:00:00.000000000",
          "2014-01-01T00:00:00.000000000",
          "2015-01-01T00:00:00.000000000",
          "2015-12-31T00:00:00.000000000",
          "2016-12-31T00:00:00.000000000",
          "2017-12-31T00:00:00.000000000",
          "2018-12-31T00:00:00.000000000",
          "2019-12-31T00:00:00.000000000",
          "2020-12-31T00:00:00.000000000",
          "2021-12-31T00:00:00.000000000",
          "2022-12-31T00:00:00.000000000",
          "2023-12-31T00:00:00.000000000",
          "2024-12-31T00:00:00.000000000",
          "2025-12-31T00:00:00.000000000",
          "2026-12-31T00:00:00.000000000",
          "2027-12-31T00:00:00.000000000",
          "2028-12-31T00:00:00.000000000",
          "2029-12-31T00:00:00.000000000",
          "2030-12-31T00:00:00.000000000",
          "2031-12-31T00:00:00.000000000",
          "2032-12-31T00:00:00.000000000",
          "2033-12-31T00:00:00.000000000",
          "2034-12-31T00:00:00.000000000"
         ],
         "y": {
          "bdata": "wk1XWCvnj0BwsQDIBKGPQJ6N6z6id49AXvd6DNEBkEDIVg26nxOQQNkpsb53GpBAfEkcpukLkEAfVb/5v9iPQFmJo8eCHpBA44RzCocOkEBfuCAsiheQQI4TOv/oR5BAJP1yMqUokEApXbI0EFeQQH/B9nOOdpBAwnwohtEdkEAPtWxBgmCQQCZBNuNAVpBAESGpQ/UzkECnbfawC22QQLjdZ/OWaJBAjhSNUnqXkECLRSieOWqQQK0XISwtbpBAGyarrIaVkEBGOUjDoaKQQCI2L8F2e5BArzZghD+rkEBF+crBqM6QQPPRj7lrtZBAB3y/c47FkEAEPFrns7yQQI8nc+HbtZBAsCvs9he5kEAeHD9hkL6QQBlL1lqi1ZBAapoPmUP3kECg8E8XUNyQQGLUVO+xtpBAQrqVEzzPkED2SInqNCSRQJzCMY4vDpFAtwc7GL/ukEC/6uiTJwORQB4M0S0gEZFAXO2wU0YRkUDHV7uZgOCQQD9FiKO+7JBAr6JG25QXkUA3ohbeUfSQQLvPHqMv8pBA6L6T1YjAkEBZ/hlMqvGQQOLbrGeK1ZBAKbBkOTHokEDpesjPqLmQQC7kvRK/+5BApcFSvQnfkEAZvMzyA8+QQJa/fI0o3JBA9NsN+UHQkEBHAejGXLuQQH2fiJPCo5BA8QgPpdW/kECuo75/Z86QQAjeZVOsqZBAuTLIHvNmkEAdrDjT0ciQQFuqvU68jZBALdsj8CmbkECt/oyfY4KQQGiX0ovwQpBA4aufbYGdkEDpKv1cz5KQQOXorewyUZBAPG0wEZFQkEDcD8piKGWQQHEJudm6TpBAMOXfOG9QkEBglGR+3lyQQHCLZPhhfpBAqFMzmBhmkEBp/3A4G1GQQHMsgAkyJZBAKop0okY2kECmRub0JEKQQARO/st3IJBANm/FZz0LkECnpM1vA02QQL5ivDOiQpBAwqaYpp8XkEBAnb9ROxSQQLchPD4iXJBAt9BQLa8akECMEaSZ3yqQQFBRfIhuDpBA4IMzwbn3j0AgLOBs6weQQK/0RiB1vo9AyAniW5rFj0Dom+XF2PWPQFiSJBT5449AVYEYZDLUj0Cs3c19smaPQLFkF61FwY9A4sQDNEx5j0D9DbiSwfGPQNFqIvKvtI9AvMya2cGYj0DLU98uQ1yPQJpwW8P2po9AVYdGDfxIj0Bb4zdvWraPQFgtw7FVd49ABe+NO2Ijj0DzT7ZkF26OQCBB03jRR49AA6o3Q3jujkCBqAX33uKOQCIF2fneX45A6+OzrNTHjkAyUuMdz3COQOZh3/zrdI5A76YOaFhsjkDczbQrRmOOQN2gaMYQ1o5APDGoNCxJjkBBJeysEFaOQGV1oa0ks45Aayc1wdmWjkBhZOSBdhiOQBlfIXquzo1ANDOyT+kijkBeKacXgSWOQN09lUvO4I1A",
          "dtype": "f8"
         }
        },
        {
         "fill": "tonexty",
         "fillcolor": "rgba(0, 114, 178, 0.2)",
         "line": {
          "color": "#0072B2",
          "width": 2
         },
         "mode": "lines",
         "name": "Predicted",
         "type": "scatter",
         "x": [
          "1901-01-01T00:00:00.000000000",
          "1902-01-01T00:00:00.000000000",
          "1903-01-01T00:00:00.000000000",
          "1904-01-01T00:00:00.000000000",
          "1905-01-01T00:00:00.000000000",
          "1906-01-01T00:00:00.000000000",
          "1907-01-01T00:00:00.000000000",
          "1908-01-01T00:00:00.000000000",
          "1909-01-01T00:00:00.000000000",
          "1910-01-01T00:00:00.000000000",
          "1911-01-01T00:00:00.000000000",
          "1912-01-01T00:00:00.000000000",
          "1913-01-01T00:00:00.000000000",
          "1914-01-01T00:00:00.000000000",
          "1915-01-01T00:00:00.000000000",
          "1916-01-01T00:00:00.000000000",
          "1917-01-01T00:00:00.000000000",
          "1918-01-01T00:00:00.000000000",
          "1919-01-01T00:00:00.000000000",
          "1920-01-01T00:00:00.000000000",
          "1921-01-01T00:00:00.000000000",
          "1922-01-01T00:00:00.000000000",
          "1923-01-01T00:00:00.000000000",
          "1924-01-01T00:00:00.000000000",
          "1925-01-01T00:00:00.000000000",
          "1926-01-01T00:00:00.000000000",
          "1927-01-01T00:00:00.000000000",
          "1928-01-01T00:00:00.000000000",
          "1929-01-01T00:00:00.000000000",
          "1930-01-01T00:00:00.000000000",
          "1931-01-01T00:00:00.000000000",
          "1932-01-01T00:00:00.000000000",
          "1933-01-01T00:00:00.000000000",
          "1934-01-01T00:00:00.000000000",
          "1935-01-01T00:00:00.000000000",
          "1936-01-01T00:00:00.000000000",
          "1937-01-01T00:00:00.000000000",
          "1938-01-01T00:00:00.000000000",
          "1939-01-01T00:00:00.000000000",
          "1940-01-01T00:00:00.000000000",
          "1941-01-01T00:00:00.000000000",
          "1942-01-01T00:00:00.000000000",
          "1943-01-01T00:00:00.000000000",
          "1944-01-01T00:00:00.000000000",
          "1945-01-01T00:00:00.000000000",
          "1946-01-01T00:00:00.000000000",
          "1947-01-01T00:00:00.000000000",
          "1948-01-01T00:00:00.000000000",
          "1949-01-01T00:00:00.000000000",
          "1950-01-01T00:00:00.000000000",
          "1951-01-01T00:00:00.000000000",
          "1952-01-01T00:00:00.000000000",
          "1953-01-01T00:00:00.000000000",
          "1954-01-01T00:00:00.000000000",
          "1955-01-01T00:00:00.000000000",
          "1956-01-01T00:00:00.000000000",
          "1957-01-01T00:00:00.000000000",
          "1958-01-01T00:00:00.000000000",
          "1959-01-01T00:00:00.000000000",
          "1960-01-01T00:00:00.000000000",
          "1961-01-01T00:00:00.000000000",
          "1962-01-01T00:00:00.000000000",
          "1963-01-01T00:00:00.000000000",
          "1964-01-01T00:00:00.000000000",
          "1965-01-01T00:00:00.000000000",
          "1966-01-01T00:00:00.000000000",
          "1967-01-01T00:00:00.000000000",
          "1968-01-01T00:00:00.000000000",
          "1969-01-01T00:00:00.000000000",
          "1970-01-01T00:00:00.000000000",
          "1971-01-01T00:00:00.000000000",
          "1972-01-01T00:00:00.000000000",
          "1973-01-01T00:00:00.000000000",
          "1974-01-01T00:00:00.000000000",
          "1975-01-01T00:00:00.000000000",
          "1976-01-01T00:00:00.000000000",
          "1977-01-01T00:00:00.000000000",
          "1978-01-01T00:00:00.000000000",
          "1979-01-01T00:00:00.000000000",
          "1980-01-01T00:00:00.000000000",
          "1981-01-01T00:00:00.000000000",
          "1982-01-01T00:00:00.000000000",
          "1983-01-01T00:00:00.000000000",
          "1984-01-01T00:00:00.000000000",
          "1985-01-01T00:00:00.000000000",
          "1986-01-01T00:00:00.000000000",
          "1987-01-01T00:00:00.000000000",
          "1988-01-01T00:00:00.000000000",
          "1989-01-01T00:00:00.000000000",
          "1990-01-01T00:00:00.000000000",
          "1991-01-01T00:00:00.000000000",
          "1992-01-01T00:00:00.000000000",
          "1993-01-01T00:00:00.000000000",
          "1994-01-01T00:00:00.000000000",
          "1995-01-01T00:00:00.000000000",
          "1996-01-01T00:00:00.000000000",
          "1997-01-01T00:00:00.000000000",
          "1998-01-01T00:00:00.000000000",
          "1999-01-01T00:00:00.000000000",
          "2000-01-01T00:00:00.000000000",
          "2001-01-01T00:00:00.000000000",
          "2002-01-01T00:00:00.000000000",
          "2003-01-01T00:00:00.000000000",
          "2004-01-01T00:00:00.000000000",
          "2005-01-01T00:00:00.000000000",
          "2006-01-01T00:00:00.000000000",
          "2007-01-01T00:00:00.000000000",
          "2008-01-01T00:00:00.000000000",
          "2009-01-01T00:00:00.000000000",
          "2010-01-01T00:00:00.000000000",
          "2011-01-01T00:00:00.000000000",
          "2012-01-01T00:00:00.000000000",
          "2013-01-01T00:00:00.000000000",
          "2014-01-01T00:00:00.000000000",
          "2015-01-01T00:00:00.000000000",
          "2015-12-31T00:00:00.000000000",
          "2016-12-31T00:00:00.000000000",
          "2017-12-31T00:00:00.000000000",
          "2018-12-31T00:00:00.000000000",
          "2019-12-31T00:00:00.000000000",
          "2020-12-31T00:00:00.000000000",
          "2021-12-31T00:00:00.000000000",
          "2022-12-31T00:00:00.000000000",
          "2023-12-31T00:00:00.000000000",
          "2024-12-31T00:00:00.000000000",
          "2025-12-31T00:00:00.000000000",
          "2026-12-31T00:00:00.000000000",
          "2027-12-31T00:00:00.000000000",
          "2028-12-31T00:00:00.000000000",
          "2029-12-31T00:00:00.000000000",
          "2030-12-31T00:00:00.000000000",
          "2031-12-31T00:00:00.000000000",
          "2032-12-31T00:00:00.000000000",
          "2033-12-31T00:00:00.000000000",
          "2034-12-31T00:00:00.000000000"
         ],
         "y": {
          "bdata": "9B3nZif7kUBH28tj0PeRQKKv4jko9JFAzqHrajLwkUDz0Mv9lBmSQMyCrvo9FpJA+0rD0JUSkkDFMsoBoA6SQIsvrZQCOJJAz7eUkas0kkAlWK5nAzGSQAAXupgNLZJAXHOcK3BWkkAdXIMoGVOSQCBcnP5wT5JAJnunL3tLkkB0UAb23HSSQF6++CaFcZJA90IdMdxtkkBfF2MR5GmSQCFp4FFEk5JAmgcC/uqPkkBDvVWDQIySQB36ra03iJJAmEuFLIexkkBDU7kiHa6SQHazfp9UqpJAPTI2dz6mkkAQqRSagM+SQC7ypz0JzJJAFgPH3/rHkkCWMtjcnsOSQFcAEvSa7JJAJ/r+vN3okkD0aHHuHOOSQNT11XoO3ZJA9xqv8FYEk0DW08k2ifySQNSjFlZq9JJAXJJV0P3rkkCRp/SK5hCTQEpcxq5aB5NAOCjKq339kkC9EsADU/OSQMV8LmN8FpNAjkyDjf0Kk0BqMwqRLf+SQCw5g+8P85JAi5HAjWESk0Dwa3igAAWTQFNdYoxO95JApW0+007pkkCorVotWgeTQKivJuCz+JJAgsgkbLzpkkAmABVTd9qSQA4YJJJr95JAyaIb7a7nkkCgREUhodeSQK53OtHgxpJAyW1j6m/jkkAdazRmTtOSQHd/N7vbwpJA+PzcVBuykkCOl6ZXqs6SQFjfJ72IvpJAKz7b+xWukkCX1mKVVZ2SQCZ3DpjkuZJA19lx/cKpkkBJo+47UJmSQGaLXdWPiJJAT2rw1x6lkkCoHDs9/ZSSQIDbknuKhJJA/LjcFMpzkkBJc0oXWZCSQCBmbXw3gJJAGnDCusRvkkC4mAlUBF+SQDacdFaTe5JADNWRu3FrkkDvJOH5/lqSQGiTIpM+SpJA7NiHlc1mkkC0+qj6q1aSQM0z/Dg5RpJAVotB0ng1kkCEXLDUB1KSQC4a1znmQZJAAu8veHMxkkCb4noRsyCSQLoy6hNCPZJAGG8ReSAtkkCIwmq3rRySQMw0tlDtC5JA0YQlU3wokkBYwUy4WhiSQNYUpvbnB5JAt4bxjyf3kUD61mCSthOSQF4TiPeUA5JAzGbhNSLzkUBa2SzPYeKRQAkpnNHw/pFAzWXDNs/ukUA6uRx1XN6RQFUraA6czZFAjnvXECvqkUDrt/51CdqRQFsLWLSWyZFAkH2jTda4kUB+zRJQZdWRQNcJOrVDxZFAzl2T89C0kUCOIwSeFXORQHWvSRsGk5FA9ZkZULWBkUAf907yIXCRQDZ2P91PXpFATgGFWkB+kUBQ7FSP72yRQHpJijFcW5FAMsh6HIpJkUAQVMCZemmRQGI+kM4pWJFArpvFcJZGkUC5GrZbxDSRQD6m+9i0VJFAIJDLDWRDkUAF7gCw0DGRQDps8Zr+H5FA6vc2GO8/kUC34gZNni6RQDw/PO8KHZFA",
          "dtype": "f8"
         }
        },
        {
         "fill": "tonexty",
         "fillcolor": "rgba(0, 114, 178, 0.2)",
         "hoverinfo": "skip",
         "line": {
          "width": 0
         },
         "mode": "lines",
         "type": "scatter",
         "x": [
          "1901-01-01T00:00:00.000000000",
          "1902-01-01T00:00:00.000000000",
          "1903-01-01T00:00:00.000000000",
          "1904-01-01T00:00:00.000000000",
          "1905-01-01T00:00:00.000000000",
          "1906-01-01T00:00:00.000000000",
          "1907-01-01T00:00:00.000000000",
          "1908-01-01T00:00:00.000000000",
          "1909-01-01T00:00:00.000000000",
          "1910-01-01T00:00:00.000000000",
          "1911-01-01T00:00:00.000000000",
          "1912-01-01T00:00:00.000000000",
          "1913-01-01T00:00:00.000000000",
          "1914-01-01T00:00:00.000000000",
          "1915-01-01T00:00:00.000000000",
          "1916-01-01T00:00:00.000000000",
          "1917-01-01T00:00:00.000000000",
          "1918-01-01T00:00:00.000000000",
          "1919-01-01T00:00:00.000000000",
          "1920-01-01T00:00:00.000000000",
          "1921-01-01T00:00:00.000000000",
          "1922-01-01T00:00:00.000000000",
          "1923-01-01T00:00:00.000000000",
          "1924-01-01T00:00:00.000000000",
          "1925-01-01T00:00:00.000000000",
          "1926-01-01T00:00:00.000000000",
          "1927-01-01T00:00:00.000000000",
          "1928-01-01T00:00:00.000000000",
          "1929-01-01T00:00:00.000000000",
          "1930-01-01T00:00:00.000000000",
          "1931-01-01T00:00:00.000000000",
          "1932-01-01T00:00:00.000000000",
          "1933-01-01T00:00:00.000000000",
          "1934-01-01T00:00:00.000000000",
          "1935-01-01T00:00:00.000000000",
          "1936-01-01T00:00:00.000000000",
          "1937-01-01T00:00:00.000000000",
          "1938-01-01T00:00:00.000000000",
          "1939-01-01T00:00:00.000000000",
          "1940-01-01T00:00:00.000000000",
          "1941-01-01T00:00:00.000000000",
          "1942-01-01T00:00:00.000000000",
          "1943-01-01T00:00:00.000000000",
          "1944-01-01T00:00:00.000000000",
          "1945-01-01T00:00:00.000000000",
          "1946-01-01T00:00:00.000000000",
          "1947-01-01T00:00:00.000000000",
          "1948-01-01T00:00:00.000000000",
          "1949-01-01T00:00:00.000000000",
          "1950-01-01T00:00:00.000000000",
          "1951-01-01T00:00:00.000000000",
          "1952-01-01T00:00:00.000000000",
          "1953-01-01T00:00:00.000000000",
          "1954-01-01T00:00:00.000000000",
          "1955-01-01T00:00:00.000000000",
          "1956-01-01T00:00:00.000000000",
          "1957-01-01T00:00:00.000000000",
          "1958-01-01T00:00:00.000000000",
          "1959-01-01T00:00:00.000000000",
          "1960-01-01T00:00:00.000000000",
          "1961-01-01T00:00:00.000000000",
          "1962-01-01T00:00:00.000000000",
          "1963-01-01T00:00:00.000000000",
          "1964-01-01T00:00:00.000000000",
          "1965-01-01T00:00:00.000000000",
          "1966-01-01T00:00:00.000000000",
          "1967-01-01T00:00:00.000000000",
          "1968-01-01T00:00:00.000000000",
          "1969-01-01T00:00:00.000000000",
          "1970-01-01T00:00:00.000000000",
          "1971-01-01T00:00:00.000000000",
          "1972-01-01T00:00:00.000000000",
          "1973-01-01T00:00:00.000000000",
          "1974-01-01T00:00:00.000000000",
          "1975-01-01T00:00:00.000000000",
          "1976-01-01T00:00:00.000000000",
          "1977-01-01T00:00:00.000000000",
          "1978-01-01T00:00:00.000000000",
          "1979-01-01T00:00:00.000000000",
          "1980-01-01T00:00:00.000000000",
          "1981-01-01T00:00:00.000000000",
          "1982-01-01T00:00:00.000000000",
          "1983-01-01T00:00:00.000000000",
          "1984-01-01T00:00:00.000000000",
          "1985-01-01T00:00:00.000000000",
          "1986-01-01T00:00:00.000000000",
          "1987-01-01T00:00:00.000000000",
          "1988-01-01T00:00:00.000000000",
          "1989-01-01T00:00:00.000000000",
          "1990-01-01T00:00:00.000000000",
          "1991-01-01T00:00:00.000000000",
          "1992-01-01T00:00:00.000000000",
          "1993-01-01T00:00:00.000000000",
          "1994-01-01T00:00:00.000000000",
          "1995-01-01T00:00:00.000000000",
          "1996-01-01T00:00:00.000000000",
          "1997-01-01T00:00:00.000000000",
          "1998-01-01T00:00:00.000000000",
          "1999-01-01T00:00:00.000000000",
          "2000-01-01T00:00:00.000000000",
          "2001-01-01T00:00:00.000000000",
          "2002-01-01T00:00:00.000000000",
          "2003-01-01T00:00:00.000000000",
          "2004-01-01T00:00:00.000000000",
          "2005-01-01T00:00:00.000000000",
          "2006-01-01T00:00:00.000000000",
          "2007-01-01T00:00:00.000000000",
          "2008-01-01T00:00:00.000000000",
          "2009-01-01T00:00:00.000000000",
          "2010-01-01T00:00:00.000000000",
          "2011-01-01T00:00:00.000000000",
          "2012-01-01T00:00:00.000000000",
          "2013-01-01T00:00:00.000000000",
          "2014-01-01T00:00:00.000000000",
          "2015-01-01T00:00:00.000000000",
          "2015-12-31T00:00:00.000000000",
          "2016-12-31T00:00:00.000000000",
          "2017-12-31T00:00:00.000000000",
          "2018-12-31T00:00:00.000000000",
          "2019-12-31T00:00:00.000000000",
          "2020-12-31T00:00:00.000000000",
          "2021-12-31T00:00:00.000000000",
          "2022-12-31T00:00:00.000000000",
          "2023-12-31T00:00:00.000000000",
          "2024-12-31T00:00:00.000000000",
          "2025-12-31T00:00:00.000000000",
          "2026-12-31T00:00:00.000000000",
          "2027-12-31T00:00:00.000000000",
          "2028-12-31T00:00:00.000000000",
          "2029-12-31T00:00:00.000000000",
          "2030-12-31T00:00:00.000000000",
          "2031-12-31T00:00:00.000000000",
          "2032-12-31T00:00:00.000000000",
          "2033-12-31T00:00:00.000000000",
          "2034-12-31T00:00:00.000000000"
         ],
         "y": {
          "bdata": "9/lb7kr6k0Az8c4k5g6UQKmbD7TSAZRATUb1G2wflEBO+7u00DqUQAFQI97yPpRAmQdCDgUdlEDc7bDjC0KUQCf7ToQNYJRAjh28M6VVlEDR7ix/EWmUQO7W5DE4NZRAV7RuNa2GlEAB0WTvj2mUQHRjoIuleZRAMvLU2LZSlEAJpxXAKn6UQHBE8TeykJRAqk5glSiXlEBcwTKKKYCUQImdDSnpjZRAfkDjhjqklEAjkPdYp5KUQNOYIxNVl5RAiW9omqLglEATXD8wTcmUQMK4/ZG5yZRA0x5FvOLGlEBbY+fOPcOUQFlMvo34yJRAs4SltNSzlECcNbygOwGVQHLCbo93AZVAciqR4o/klED+EzFEeAmVQB5KKNQ6B5VAfn9752IDlUB5MJB4CvyUQH4WaFEQGZVAw+uZW0TglEB4ypKrOx2VQOKCzd9kJpVA/pDg9uIalUDm8oVGzvaUQH79PwccJZVAaXX9cnkilUDlSXtdOxiVQAO0l9arHpVAShdwcRdalUBIAApOtAmVQN/ipKFW7pRA9gT68QjklED+/1/DVkeVQL6XmF+HC5VAEIL1/9YUlUBxC2XM/tuUQIlYHTX1FJVAZj4GFfHllEC46TJvDd2UQD+OyXnV05RAc5YL0v3ilEAT6moBbfSUQOfMGhKB2JRAz7pflCOllECFsAOMUvSUQFwy0fkCyJRAQ1fMc5zAlEA//IgJLK6UQPo+jCmcz5RA6F5JL0m3lEAyT8vHSJiUQC95BSGQrJRAU1te9qPGlECKz9wSdZKUQPaXXqKScZRAtWfcsXy3lEAKK2mUpYuUQHt644nqu5RAnA9d5pCklEDWa9jGAouUQHJLp9JthpRArnrBeG2HlED47viL+nuUQPqhZjnkbpRATQZ8hbJ2lEB83FQb6UeUQJ4LCGaQT5RAtrxVFN4+lECf6WvbGU6UQOCNx3e5VJRAv3YpZS9RlEB50c3/2/+TQPwQ/o8dbpRAp3zMW0BMlECf8909nzaUQDlaAR7kFZRA4mYNl2cslEBYSwGzG1OUQLveDbzZJ5RAtj9qxDAtlEAQ7YaLWw6UQC+o28Xy75NAq8b/S1QtlEB62dqwds6TQG5HibLcL5RA0+no4soflECxc757UeGTQJ+t29NU8ZNAn8m1ykIHlEAKbxBnB/aTQCsK3nVB8pNA8bcdZNvAk0A29hy5ltaTQHSa8gjN45NADaWMa0vGk0C1b6c8ToCTQBbT4nt4oJNAjw7+N32Rk0AV0FmlQnyTQL1q4AdjZpNAKYjpE4Glk0CDbTWwKoOTQHhbL8/SX5NA8ZZtNn9Nk0Au5hbw+niTQNmooAw2RJNAVb7CzDlsk0DE/g8vLFaTQB8bKNeIdZNA/KlsleJuk0BFwmC6XneTQO4qTeuONJNAzxiqH7okk0CgzfjSC3eTQJBN8AhGOpNA",
          "dtype": "f8"
         }
        }
       ],
       "layout": {
        "height": 500,
        "showlegend": false,
        "template": {
         "data": {
          "bar": [
           {
            "error_x": {
             "color": "#2a3f5f"
            },
            "error_y": {
             "color": "#2a3f5f"
            },
            "marker": {
             "line": {
              "color": "white",
              "width": 0.5
             },
             "pattern": {
              "fillmode": "overlay",
              "size": 10,
              "solidity": 0.2
             }
            },
            "type": "bar"
           }
          ],
          "barpolar": [
           {
            "marker": {
             "line": {
              "color": "white",
              "width": 0.5
             },
             "pattern": {
              "fillmode": "overlay",
              "size": 10,
              "solidity": 0.2
             }
            },
            "type": "barpolar"
           }
          ],
          "carpet": [
           {
            "aaxis": {
             "endlinecolor": "#2a3f5f",
             "gridcolor": "#C8D4E3",
             "linecolor": "#C8D4E3",
             "minorgridcolor": "#C8D4E3",
             "startlinecolor": "#2a3f5f"
            },
            "baxis": {
             "endlinecolor": "#2a3f5f",
             "gridcolor": "#C8D4E3",
             "linecolor": "#C8D4E3",
             "minorgridcolor": "#C8D4E3",
             "startlinecolor": "#2a3f5f"
            },
            "type": "carpet"
           }
          ],
          "choropleth": [
           {
            "colorbar": {
             "outlinewidth": 0,
             "ticks": ""
            },
            "type": "choropleth"
           }
          ],
          "contour": [
           {
            "colorbar": {
             "outlinewidth": 0,
             "ticks": ""
            },
            "colorscale": [
             [
              0,
              "#0d0887"
             ],
             [
              0.1111111111111111,
              "#46039f"
             ],
             [
              0.2222222222222222,
              "#7201a8"
             ],
             [
              0.3333333333333333,
              "#9c179e"
             ],
             [
              0.4444444444444444,
              "#bd3786"
             ],
             [
              0.5555555555555556,
              "#d8576b"
             ],
             [
              0.6666666666666666,
              "#ed7953"
             ],
             [
              0.7777777777777778,
              "#fb9f3a"
             ],
             [
              0.8888888888888888,
              "#fdca26"
             ],
             [
              1,
              "#f0f921"
             ]
            ],
            "type": "contour"
           }
          ],
          "contourcarpet": [
           {
            "colorbar": {
             "outlinewidth": 0,
             "ticks": ""
            },
            "type": "contourcarpet"
           }
          ],
          "heatmap": [
           {
            "colorbar": {
             "outlinewidth": 0,
             "ticks": ""
            },
            "colorscale": [
             [
              0,
              "#0d0887"
             ],
             [
              0.1111111111111111,
              "#46039f"
             ],
             [
              0.2222222222222222,
              "#7201a8"
             ],
             [
              0.3333333333333333,
              "#9c179e"
             ],
             [
              0.4444444444444444,
              "#bd3786"
             ],
             [
              0.5555555555555556,
              "#d8576b"
             ],
             [
              0.6666666666666666,
              "#ed7953"
             ],
             [
              0.7777777777777778,
              "#fb9f3a"
             ],
             [
              0.8888888888888888,
              "#fdca26"
             ],
             [
              1,
              "#f0f921"
             ]
            ],
            "type": "heatmap"
           }
          ],
          "histogram": [
           {
            "marker": {
             "pattern": {
              "fillmode": "overlay",
              "size": 10,
              "solidity": 0.2
             }
            },
            "type": "histogram"
           }
          ],
          "histogram2d": [
           {
            "colorbar": {
             "outlinewidth": 0,
             "ticks": ""
            },
            "colorscale": [
             [
              0,
              "#0d0887"
             ],
             [
              0.1111111111111111,
              "#46039f"
             ],
             [
              0.2222222222222222,
              "#7201a8"
             ],
             [
              0.3333333333333333,
              "#9c179e"
             ],
             [
              0.4444444444444444,
              "#bd3786"
             ],
             [
              0.5555555555555556,
              "#d8576b"
             ],
             [
              0.6666666666666666,
              "#ed7953"
             ],
             [
              0.7777777777777778,
              "#fb9f3a"
             ],
             [
              0.8888888888888888,
              "#fdca26"
             ],
             [
              1,
              "#f0f921"
             ]
            ],
            "type": "histogram2d"
           }
          ],
          "histogram2dcontour": [
           {
            "colorbar": {
             "outlinewidth": 0,
             "ticks": ""
            },
            "colorscale": [
             [
              0,
              "#0d0887"
             ],
             [
              0.1111111111111111,
              "#46039f"
             ],
             [
              0.2222222222222222,
              "#7201a8"
             ],
             [
              0.3333333333333333,
              "#9c179e"
             ],
             [
              0.4444444444444444,
              "#bd3786"
             ],
             [
              0.5555555555555556,
              "#d8576b"
             ],
             [
              0.6666666666666666,
              "#ed7953"
             ],
             [
              0.7777777777777778,
              "#fb9f3a"
             ],
             [
              0.8888888888888888,
              "#fdca26"
             ],
             [
              1,
              "#f0f921"
             ]
            ],
            "type": "histogram2dcontour"
           }
          ],
          "mesh3d": [
           {
            "colorbar": {
             "outlinewidth": 0,
             "ticks": ""
            },
            "type": "mesh3d"
           }
          ],
          "parcoords": [
           {
            "line": {
             "colorbar": {
              "outlinewidth": 0,
              "ticks": ""
             }
            },
            "type": "parcoords"
           }
          ],
          "pie": [
           {
            "automargin": true,
            "type": "pie"
           }
          ],
          "scatter": [
           {
            "fillpattern": {
             "fillmode": "overlay",
             "size": 10,
             "solidity": 0.2
            },
            "type": "scatter"
           }
          ],
          "scatter3d": [
           {
            "line": {
             "colorbar": {
              "outlinewidth": 0,
              "ticks": ""
             }
            },
            "marker": {
             "colorbar": {
              "outlinewidth": 0,
              "ticks": ""
             }
            },
            "type": "scatter3d"
           }
          ],
          "scattercarpet": [
           {
            "marker": {
             "colorbar": {
              "outlinewidth": 0,
              "ticks": ""
             }
            },
            "type": "scattercarpet"
           }
          ],
          "scattergeo": [
           {
            "marker": {
             "colorbar": {
              "outlinewidth": 0,
              "ticks": ""
             }
            },
            "type": "scattergeo"
           }
          ],
          "scattergl": [
           {
            "marker": {
             "colorbar": {
              "outlinewidth": 0,
              "ticks": ""
             }
            },
            "type": "scattergl"
           }
          ],
          "scattermap": [
           {
            "marker": {
             "colorbar": {
              "outlinewidth": 0,
              "ticks": ""
             }
            },
            "type": "scattermap"
           }
          ],
          "scattermapbox": [
           {
            "marker": {
             "colorbar": {
              "outlinewidth": 0,
              "ticks": ""
             }
            },
            "type": "scattermapbox"
           }
          ],
          "scatterpolar": [
           {
            "marker": {
             "colorbar": {
              "outlinewidth": 0,
              "ticks": ""
             }
            },
            "type": "scatterpolar"
           }
          ],
          "scatterpolargl": [
           {
            "marker": {
             "colorbar": {
              "outlinewidth": 0,
              "ticks": ""
             }
            },
            "type": "scatterpolargl"
           }
          ],
          "scatterternary": [
           {
            "marker": {
             "colorbar": {
              "outlinewidth": 0,
              "ticks": ""
             }
            },
            "type": "scatterternary"
           }
          ],
          "surface": [
           {
            "colorbar": {
             "outlinewidth": 0,
             "ticks": ""
            },
            "colorscale": [
             [
              0,
              "#0d0887"
             ],
             [
              0.1111111111111111,
              "#46039f"
             ],
             [
              0.2222222222222222,
              "#7201a8"
             ],
             [
              0.3333333333333333,
              "#9c179e"
             ],
             [
              0.4444444444444444,
              "#bd3786"
             ],
             [
              0.5555555555555556,
              "#d8576b"
             ],
             [
              0.6666666666666666,
              "#ed7953"
             ],
             [
              0.7777777777777778,
              "#fb9f3a"
             ],
             [
              0.8888888888888888,
              "#fdca26"
             ],
             [
              1,
              "#f0f921"
             ]
            ],
            "type": "surface"
           }
          ],
          "table": [
           {
            "cells": {
             "fill": {
              "color": "#EBF0F8"
             },
             "line": {
              "color": "white"
             }
            },
            "header": {
             "fill": {
              "color": "#C8D4E3"
             },
             "line": {
              "color": "white"
             }
            },
            "type": "table"
           }
          ]
         },
         "layout": {
          "annotationdefaults": {
           "arrowcolor": "#2a3f5f",
           "arrowhead": 0,
           "arrowwidth": 1
          },
          "autotypenumbers": "strict",
          "coloraxis": {
           "colorbar": {
            "outlinewidth": 0,
            "ticks": ""
           }
          },
          "colorscale": {
           "diverging": [
            [
             0,
             "#8e0152"
            ],
            [
             0.1,
             "#c51b7d"
            ],
            [
             0.2,
             "#de77ae"
            ],
            [
             0.3,
             "#f1b6da"
            ],
            [
             0.4,
             "#fde0ef"
            ],
            [
             0.5,
             "#f7f7f7"
            ],
            [
             0.6,
             "#e6f5d0"
            ],
            [
             0.7,
             "#b8e186"
            ],
            [
             0.8,
             "#7fbc41"
            ],
            [
             0.9,
             "#4d9221"
            ],
            [
             1,
             "#276419"
            ]
           ],
           "sequential": [
            [
             0,
             "#0d0887"
            ],
            [
             0.1111111111111111,
             "#46039f"
            ],
            [
             0.2222222222222222,
             "#7201a8"
            ],
            [
             0.3333333333333333,
             "#9c179e"
            ],
            [
             0.4444444444444444,
             "#bd3786"
            ],
            [
             0.5555555555555556,
             "#d8576b"
            ],
            [
             0.6666666666666666,
             "#ed7953"
            ],
            [
             0.7777777777777778,
             "#fb9f3a"
            ],
            [
             0.8888888888888888,
             "#fdca26"
            ],
            [
             1,
             "#f0f921"
            ]
           ],
           "sequentialminus": [
            [
             0,
             "#0d0887"
            ],
            [
             0.1111111111111111,
             "#46039f"
            ],
            [
             0.2222222222222222,
             "#7201a8"
            ],
            [
             0.3333333333333333,
             "#9c179e"
            ],
            [
             0.4444444444444444,
             "#bd3786"
            ],
            [
             0.5555555555555556,
             "#d8576b"
            ],
            [
             0.6666666666666666,
             "#ed7953"
            ],
            [
             0.7777777777777778,
             "#fb9f3a"
            ],
            [
             0.8888888888888888,
             "#fdca26"
            ],
            [
             1,
             "#f0f921"
            ]
           ]
          },
          "colorway": [
           "#636efa",
           "#EF553B",
           "#00cc96",
           "#ab63fa",
           "#FFA15A",
           "#19d3f3",
           "#FF6692",
           "#B6E880",
           "#FF97FF",
           "#FECB52"
          ],
          "font": {
           "color": "#2a3f5f"
          },
          "geo": {
           "bgcolor": "white",
           "lakecolor": "white",
           "landcolor": "white",
           "showlakes": true,
           "showland": true,
           "subunitcolor": "#C8D4E3"
          },
          "hoverlabel": {
           "align": "left"
          },
          "hovermode": "closest",
          "mapbox": {
           "style": "light"
          },
          "paper_bgcolor": "white",
          "plot_bgcolor": "white",
          "polar": {
           "angularaxis": {
            "gridcolor": "#EBF0F8",
            "linecolor": "#EBF0F8",
            "ticks": ""
           },
           "bgcolor": "white",
           "radialaxis": {
            "gridcolor": "#EBF0F8",
            "linecolor": "#EBF0F8",
            "ticks": ""
           }
          },
          "scene": {
           "xaxis": {
            "backgroundcolor": "white",
            "gridcolor": "#DFE8F3",
            "gridwidth": 2,
            "linecolor": "#EBF0F8",
            "showbackground": true,
            "ticks": "",
            "zerolinecolor": "#EBF0F8"
           },
           "yaxis": {
            "backgroundcolor": "white",
            "gridcolor": "#DFE8F3",
            "gridwidth": 2,
            "linecolor": "#EBF0F8",
            "showbackground": true,
            "ticks": "",
            "zerolinecolor": "#EBF0F8"
           },
           "zaxis": {
            "backgroundcolor": "white",
            "gridcolor": "#DFE8F3",
            "gridwidth": 2,
            "linecolor": "#EBF0F8",
            "showbackground": true,
            "ticks": "",
            "zerolinecolor": "#EBF0F8"
           }
          },
          "shapedefaults": {
           "line": {
            "color": "#2a3f5f"
           }
          },
          "ternary": {
           "aaxis": {
            "gridcolor": "#DFE8F3",
            "linecolor": "#A2B1C6",
            "ticks": ""
           },
           "baxis": {
            "gridcolor": "#DFE8F3",
            "linecolor": "#A2B1C6",
            "ticks": ""
           },
           "bgcolor": "white",
           "caxis": {
            "gridcolor": "#DFE8F3",
            "linecolor": "#A2B1C6",
            "ticks": ""
           }
          },
          "title": {
           "x": 0.05
          },
          "xaxis": {
           "automargin": true,
           "gridcolor": "#EBF0F8",
           "linecolor": "#EBF0F8",
           "ticks": "",
           "title": {
            "standoff": 15
           },
           "zerolinecolor": "#EBF0F8",
           "zerolinewidth": 2
          },
          "yaxis": {
           "automargin": true,
           "gridcolor": "#EBF0F8",
           "linecolor": "#EBF0F8",
           "ticks": "",
           "title": {
            "standoff": 15
           },
           "zerolinecolor": "#EBF0F8",
           "zerolinewidth": 2
          }
         }
        },
        "title": {
         "text": "Annual Rainfall Forecast Using Prophet"
        },
        "width": 900,
        "xaxis": {
         "rangeselector": {
          "buttons": [
           {
            "count": 7,
            "label": "1w",
            "step": "day",
            "stepmode": "backward"
           },
           {
            "count": 1,
            "label": "1m",
            "step": "month",
            "stepmode": "backward"
           },
           {
            "count": 6,
            "label": "6m",
            "step": "month",
            "stepmode": "backward"
           },
           {
            "count": 1,
            "label": "1y",
            "step": "year",
            "stepmode": "backward"
           },
           {
            "step": "all"
           }
          ]
         },
         "rangeslider": {
          "visible": true
         },
         "title": {
          "text": "Year"
         },
         "type": "date"
        },
        "yaxis": {
         "title": {
          "text": "Rainfall (mm)"
         }
        }
       }
      }
     },
     "metadata": {},
     "output_type": "display_data"
    }
   ],
   "source": [
    "df['DATE'] = pd.to_datetime(df['YEAR'], format='%Y')\n",
    "annual_rainfall_ts = df.set_index('DATE')['ANNUAL']\n",
    "\n",
    "prophet_data = annual_rainfall_ts.reset_index()\n",
    "prophet_data.columns = ['ds', 'y']\n",
    "\n",
    "from prophet.plot import plot_plotly, plot_components_plotly\n",
    "\n",
    "prophet_model = Prophet()\n",
    "prophet_model.fit(prophet_data)\n",
    "\n",
    "future = prophet_model.make_future_dataframe(periods=20, freq='Y')\n",
    "forecast = prophet_model.predict(future)\n",
    "\n",
    "fig_forecast = plot_plotly(prophet_model, forecast)\n",
    "\n",
    "fig_forecast.update_layout(\n",
    "    title='Annual Rainfall Forecast Using Prophet',\n",
    "    xaxis_title='Year',\n",
    "    yaxis_title='Rainfall (mm)',\n",
    "    template='plotly_white',\n",
    "    height=500\n",
    ")\n",
    "\n",
    "fig_forecast.show()"
   ]
  },
  {
   "cell_type": "markdown",
   "id": "7f2f3728",
   "metadata": {},
   "source": [
    "### Conclusion\n",
    "\t•\tThe Indian rainfall pattern shows strong seasonality with significant contribution from the monsoon.\n",
    "\t•\tAnomalies are present, especially during certain years and months.\n",
    "\t•\tForecasting models like Prophet can help estimate future rainfall trends, though accuracy should be validated and compared with other models like ARIMA or LSTM."
   ]
  }
 ],
 "metadata": {
  "kernelspec": {
   "display_name": "venv",
   "language": "python",
   "name": "python3"
  },
  "language_info": {
   "codemirror_mode": {
    "name": "ipython",
    "version": 3
   },
   "file_extension": ".py",
   "mimetype": "text/x-python",
   "name": "python",
   "nbconvert_exporter": "python",
   "pygments_lexer": "ipython3",
   "version": "3.9.6"
  }
 },
 "nbformat": 4,
 "nbformat_minor": 5
}
